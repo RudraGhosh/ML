{
  "cells": [
    {
      "cell_type": "code",
      "execution_count": null,
      "metadata": {
        "colab": {
          "base_uri": "https://localhost:8080/"
        },
        "id": "eytKl1xtvFZT",
        "outputId": "48a0847f-db00-441f-ca43-3d842adab8ad"
      },
      "outputs": [
        {
          "output_type": "stream",
          "name": "stdout",
          "text": [
            "Mounted at /content/drive\n"
          ]
        }
      ],
      "source": [
        "from google.colab import drive\n",
        "drive.mount('/content/drive')"
      ]
    },
    {
      "cell_type": "code",
      "execution_count": null,
      "metadata": {
        "id": "2P_FlIBKvHZC"
      },
      "outputs": [],
      "source": [
        "!pip install -q kaggle"
      ]
    },
    {
      "cell_type": "code",
      "execution_count": null,
      "metadata": {
        "id": "K8iNCWUNvlfW"
      },
      "outputs": [],
      "source": [
        "!mkdir ~/.kaggle"
      ]
    },
    {
      "cell_type": "code",
      "execution_count": null,
      "metadata": {
        "id": "MSZPoWxuwZo-"
      },
      "outputs": [],
      "source": [
        "!cp drive/MyDrive/Kaggle/kaggle.json ~/.kaggle/"
      ]
    },
    {
      "cell_type": "code",
      "execution_count": null,
      "metadata": {
        "colab": {
          "base_uri": "https://localhost:8080/"
        },
        "id": "WXffBjw-w2GF",
        "outputId": "5807e144-90c7-4e48-f784-8af0d41bb92e"
      },
      "outputs": [
        {
          "output_type": "stream",
          "name": "stdout",
          "text": [
            "Downloading spaceship-titanic.zip to /content\n",
            "100% 299k/299k [00:00<00:00, 906kB/s]\n",
            "100% 299k/299k [00:00<00:00, 905kB/s]\n"
          ]
        }
      ],
      "source": [
        "!kaggle competitions download -c spaceship-titanic"
      ]
    },
    {
      "cell_type": "code",
      "execution_count": null,
      "metadata": {
        "colab": {
          "base_uri": "https://localhost:8080/"
        },
        "id": "Dk3dGvu1xTEh",
        "outputId": "10e79235-bad4-4b42-e455-335aa324a6ee"
      },
      "outputs": [
        {
          "output_type": "stream",
          "name": "stdout",
          "text": [
            "Archive:  spaceship-titanic.zip\n",
            "  inflating: sample_submission.csv   \n",
            "  inflating: test.csv                \n",
            "  inflating: train.csv               \n"
          ]
        }
      ],
      "source": [
        "!unzip spaceship-titanic.zip"
      ]
    },
    {
      "cell_type": "markdown",
      "metadata": {
        "id": "rZU4oNTUyJtZ"
      },
      "source": [
        "##Understanding and cleaning the Data"
      ]
    },
    {
      "cell_type": "code",
      "execution_count": null,
      "metadata": {
        "id": "HFh2iWyPxvmS"
      },
      "outputs": [],
      "source": [
        "import pandas as pd\n",
        "\n",
        "df = pd.read_csv(\"train.csv\")"
      ]
    },
    {
      "cell_type": "code",
      "execution_count": null,
      "metadata": {
        "colab": {
          "base_uri": "https://localhost:8080/",
          "height": 206
        },
        "id": "ronxi--Fy0te",
        "outputId": "5ca38d5d-f27b-467e-d71d-8d77e42061b3"
      },
      "outputs": [
        {
          "output_type": "execute_result",
          "data": {
            "text/plain": [
              "  PassengerId HomePlanet CryoSleep  Cabin  Destination   Age    VIP  \\\n",
              "0     0001_01     Europa     False  B/0/P  TRAPPIST-1e  39.0  False   \n",
              "1     0002_01      Earth     False  F/0/S  TRAPPIST-1e  24.0  False   \n",
              "2     0003_01     Europa     False  A/0/S  TRAPPIST-1e  58.0   True   \n",
              "3     0003_02     Europa     False  A/0/S  TRAPPIST-1e  33.0  False   \n",
              "4     0004_01      Earth     False  F/1/S  TRAPPIST-1e  16.0  False   \n",
              "\n",
              "   RoomService  FoodCourt  ShoppingMall     Spa  VRDeck               Name  \\\n",
              "0          0.0        0.0           0.0     0.0     0.0    Maham Ofracculy   \n",
              "1        109.0        9.0          25.0   549.0    44.0       Juanna Vines   \n",
              "2         43.0     3576.0           0.0  6715.0    49.0      Altark Susent   \n",
              "3          0.0     1283.0         371.0  3329.0   193.0       Solam Susent   \n",
              "4        303.0       70.0         151.0   565.0     2.0  Willy Santantines   \n",
              "\n",
              "   Transported  \n",
              "0        False  \n",
              "1         True  \n",
              "2        False  \n",
              "3        False  \n",
              "4         True  "
            ],
            "text/html": [
              "\n",
              "  <div id=\"df-f1e3e49b-e625-4997-bda3-f3b7a898fc35\">\n",
              "    <div class=\"colab-df-container\">\n",
              "      <div>\n",
              "<style scoped>\n",
              "    .dataframe tbody tr th:only-of-type {\n",
              "        vertical-align: middle;\n",
              "    }\n",
              "\n",
              "    .dataframe tbody tr th {\n",
              "        vertical-align: top;\n",
              "    }\n",
              "\n",
              "    .dataframe thead th {\n",
              "        text-align: right;\n",
              "    }\n",
              "</style>\n",
              "<table border=\"1\" class=\"dataframe\">\n",
              "  <thead>\n",
              "    <tr style=\"text-align: right;\">\n",
              "      <th></th>\n",
              "      <th>PassengerId</th>\n",
              "      <th>HomePlanet</th>\n",
              "      <th>CryoSleep</th>\n",
              "      <th>Cabin</th>\n",
              "      <th>Destination</th>\n",
              "      <th>Age</th>\n",
              "      <th>VIP</th>\n",
              "      <th>RoomService</th>\n",
              "      <th>FoodCourt</th>\n",
              "      <th>ShoppingMall</th>\n",
              "      <th>Spa</th>\n",
              "      <th>VRDeck</th>\n",
              "      <th>Name</th>\n",
              "      <th>Transported</th>\n",
              "    </tr>\n",
              "  </thead>\n",
              "  <tbody>\n",
              "    <tr>\n",
              "      <th>0</th>\n",
              "      <td>0001_01</td>\n",
              "      <td>Europa</td>\n",
              "      <td>False</td>\n",
              "      <td>B/0/P</td>\n",
              "      <td>TRAPPIST-1e</td>\n",
              "      <td>39.0</td>\n",
              "      <td>False</td>\n",
              "      <td>0.0</td>\n",
              "      <td>0.0</td>\n",
              "      <td>0.0</td>\n",
              "      <td>0.0</td>\n",
              "      <td>0.0</td>\n",
              "      <td>Maham Ofracculy</td>\n",
              "      <td>False</td>\n",
              "    </tr>\n",
              "    <tr>\n",
              "      <th>1</th>\n",
              "      <td>0002_01</td>\n",
              "      <td>Earth</td>\n",
              "      <td>False</td>\n",
              "      <td>F/0/S</td>\n",
              "      <td>TRAPPIST-1e</td>\n",
              "      <td>24.0</td>\n",
              "      <td>False</td>\n",
              "      <td>109.0</td>\n",
              "      <td>9.0</td>\n",
              "      <td>25.0</td>\n",
              "      <td>549.0</td>\n",
              "      <td>44.0</td>\n",
              "      <td>Juanna Vines</td>\n",
              "      <td>True</td>\n",
              "    </tr>\n",
              "    <tr>\n",
              "      <th>2</th>\n",
              "      <td>0003_01</td>\n",
              "      <td>Europa</td>\n",
              "      <td>False</td>\n",
              "      <td>A/0/S</td>\n",
              "      <td>TRAPPIST-1e</td>\n",
              "      <td>58.0</td>\n",
              "      <td>True</td>\n",
              "      <td>43.0</td>\n",
              "      <td>3576.0</td>\n",
              "      <td>0.0</td>\n",
              "      <td>6715.0</td>\n",
              "      <td>49.0</td>\n",
              "      <td>Altark Susent</td>\n",
              "      <td>False</td>\n",
              "    </tr>\n",
              "    <tr>\n",
              "      <th>3</th>\n",
              "      <td>0003_02</td>\n",
              "      <td>Europa</td>\n",
              "      <td>False</td>\n",
              "      <td>A/0/S</td>\n",
              "      <td>TRAPPIST-1e</td>\n",
              "      <td>33.0</td>\n",
              "      <td>False</td>\n",
              "      <td>0.0</td>\n",
              "      <td>1283.0</td>\n",
              "      <td>371.0</td>\n",
              "      <td>3329.0</td>\n",
              "      <td>193.0</td>\n",
              "      <td>Solam Susent</td>\n",
              "      <td>False</td>\n",
              "    </tr>\n",
              "    <tr>\n",
              "      <th>4</th>\n",
              "      <td>0004_01</td>\n",
              "      <td>Earth</td>\n",
              "      <td>False</td>\n",
              "      <td>F/1/S</td>\n",
              "      <td>TRAPPIST-1e</td>\n",
              "      <td>16.0</td>\n",
              "      <td>False</td>\n",
              "      <td>303.0</td>\n",
              "      <td>70.0</td>\n",
              "      <td>151.0</td>\n",
              "      <td>565.0</td>\n",
              "      <td>2.0</td>\n",
              "      <td>Willy Santantines</td>\n",
              "      <td>True</td>\n",
              "    </tr>\n",
              "  </tbody>\n",
              "</table>\n",
              "</div>\n",
              "      <button class=\"colab-df-convert\" onclick=\"convertToInteractive('df-f1e3e49b-e625-4997-bda3-f3b7a898fc35')\"\n",
              "              title=\"Convert this dataframe to an interactive table.\"\n",
              "              style=\"display:none;\">\n",
              "        \n",
              "  <svg xmlns=\"http://www.w3.org/2000/svg\" height=\"24px\"viewBox=\"0 0 24 24\"\n",
              "       width=\"24px\">\n",
              "    <path d=\"M0 0h24v24H0V0z\" fill=\"none\"/>\n",
              "    <path d=\"M18.56 5.44l.94 2.06.94-2.06 2.06-.94-2.06-.94-.94-2.06-.94 2.06-2.06.94zm-11 1L8.5 8.5l.94-2.06 2.06-.94-2.06-.94L8.5 2.5l-.94 2.06-2.06.94zm10 10l.94 2.06.94-2.06 2.06-.94-2.06-.94-.94-2.06-.94 2.06-2.06.94z\"/><path d=\"M17.41 7.96l-1.37-1.37c-.4-.4-.92-.59-1.43-.59-.52 0-1.04.2-1.43.59L10.3 9.45l-7.72 7.72c-.78.78-.78 2.05 0 2.83L4 21.41c.39.39.9.59 1.41.59.51 0 1.02-.2 1.41-.59l7.78-7.78 2.81-2.81c.8-.78.8-2.07 0-2.86zM5.41 20L4 18.59l7.72-7.72 1.47 1.35L5.41 20z\"/>\n",
              "  </svg>\n",
              "      </button>\n",
              "      \n",
              "  <style>\n",
              "    .colab-df-container {\n",
              "      display:flex;\n",
              "      flex-wrap:wrap;\n",
              "      gap: 12px;\n",
              "    }\n",
              "\n",
              "    .colab-df-convert {\n",
              "      background-color: #E8F0FE;\n",
              "      border: none;\n",
              "      border-radius: 50%;\n",
              "      cursor: pointer;\n",
              "      display: none;\n",
              "      fill: #1967D2;\n",
              "      height: 32px;\n",
              "      padding: 0 0 0 0;\n",
              "      width: 32px;\n",
              "    }\n",
              "\n",
              "    .colab-df-convert:hover {\n",
              "      background-color: #E2EBFA;\n",
              "      box-shadow: 0px 1px 2px rgba(60, 64, 67, 0.3), 0px 1px 3px 1px rgba(60, 64, 67, 0.15);\n",
              "      fill: #174EA6;\n",
              "    }\n",
              "\n",
              "    [theme=dark] .colab-df-convert {\n",
              "      background-color: #3B4455;\n",
              "      fill: #D2E3FC;\n",
              "    }\n",
              "\n",
              "    [theme=dark] .colab-df-convert:hover {\n",
              "      background-color: #434B5C;\n",
              "      box-shadow: 0px 1px 3px 1px rgba(0, 0, 0, 0.15);\n",
              "      filter: drop-shadow(0px 1px 2px rgba(0, 0, 0, 0.3));\n",
              "      fill: #FFFFFF;\n",
              "    }\n",
              "  </style>\n",
              "\n",
              "      <script>\n",
              "        const buttonEl =\n",
              "          document.querySelector('#df-f1e3e49b-e625-4997-bda3-f3b7a898fc35 button.colab-df-convert');\n",
              "        buttonEl.style.display =\n",
              "          google.colab.kernel.accessAllowed ? 'block' : 'none';\n",
              "\n",
              "        async function convertToInteractive(key) {\n",
              "          const element = document.querySelector('#df-f1e3e49b-e625-4997-bda3-f3b7a898fc35');\n",
              "          const dataTable =\n",
              "            await google.colab.kernel.invokeFunction('convertToInteractive',\n",
              "                                                     [key], {});\n",
              "          if (!dataTable) return;\n",
              "\n",
              "          const docLinkHtml = 'Like what you see? Visit the ' +\n",
              "            '<a target=\"_blank\" href=https://colab.research.google.com/notebooks/data_table.ipynb>data table notebook</a>'\n",
              "            + ' to learn more about interactive tables.';\n",
              "          element.innerHTML = '';\n",
              "          dataTable['output_type'] = 'display_data';\n",
              "          await google.colab.output.renderOutput(dataTable, element);\n",
              "          const docLink = document.createElement('div');\n",
              "          docLink.innerHTML = docLinkHtml;\n",
              "          element.appendChild(docLink);\n",
              "        }\n",
              "      </script>\n",
              "    </div>\n",
              "  </div>\n",
              "  "
            ]
          },
          "metadata": {},
          "execution_count": 2
        }
      ],
      "source": [
        "df.head()"
      ]
    },
    {
      "cell_type": "code",
      "execution_count": null,
      "metadata": {
        "id": "vs2nsVBg3Bkz"
      },
      "outputs": [],
      "source": [
        "pd.plotting.register_matplotlib_converters()\n",
        "import matplotlib.pyplot as plt\n",
        "%matplotlib inline\n",
        "import seaborn as sns\n",
        "sns.set_style('dark')"
      ]
    },
    {
      "cell_type": "markdown",
      "metadata": {
        "id": "eXvDoNsyDVwW"
      },
      "source": [
        "##Since the Name feature is not that helpful, replace it with Last Name and also create a new feature PG from the PassengerId"
      ]
    },
    {
      "cell_type": "code",
      "execution_count": null,
      "metadata": {
        "id": "nfn_-4h6GlUQ"
      },
      "outputs": [],
      "source": [
        "df[\"Name\"] = df.Name.str.split().str[-1]\n",
        "df['PG'] = df.PassengerId.str.split('_').str[0]"
      ]
    },
    {
      "cell_type": "code",
      "execution_count": null,
      "metadata": {
        "colab": {
          "base_uri": "https://localhost:8080/",
          "height": 206
        },
        "id": "o7OUr2bOfWMg",
        "outputId": "10ede471-a967-458c-ca0e-849a8f696489"
      },
      "outputs": [
        {
          "output_type": "execute_result",
          "data": {
            "text/plain": [
              "  PassengerId HomePlanet CryoSleep  Cabin  Destination   Age    VIP  \\\n",
              "0     0001_01     Europa     False  B/0/P  TRAPPIST-1e  39.0  False   \n",
              "1     0002_01      Earth     False  F/0/S  TRAPPIST-1e  24.0  False   \n",
              "2     0003_01     Europa     False  A/0/S  TRAPPIST-1e  58.0   True   \n",
              "3     0003_02     Europa     False  A/0/S  TRAPPIST-1e  33.0  False   \n",
              "4     0004_01      Earth     False  F/1/S  TRAPPIST-1e  16.0  False   \n",
              "\n",
              "   RoomService  FoodCourt  ShoppingMall     Spa  VRDeck         Name  \\\n",
              "0          0.0        0.0           0.0     0.0     0.0    Ofracculy   \n",
              "1        109.0        9.0          25.0   549.0    44.0        Vines   \n",
              "2         43.0     3576.0           0.0  6715.0    49.0       Susent   \n",
              "3          0.0     1283.0         371.0  3329.0   193.0       Susent   \n",
              "4        303.0       70.0         151.0   565.0     2.0  Santantines   \n",
              "\n",
              "   Transported    PG  \n",
              "0        False  0001  \n",
              "1         True  0002  \n",
              "2        False  0003  \n",
              "3        False  0003  \n",
              "4         True  0004  "
            ],
            "text/html": [
              "\n",
              "  <div id=\"df-829c3809-fed0-428e-a4a5-dcaf798f1214\">\n",
              "    <div class=\"colab-df-container\">\n",
              "      <div>\n",
              "<style scoped>\n",
              "    .dataframe tbody tr th:only-of-type {\n",
              "        vertical-align: middle;\n",
              "    }\n",
              "\n",
              "    .dataframe tbody tr th {\n",
              "        vertical-align: top;\n",
              "    }\n",
              "\n",
              "    .dataframe thead th {\n",
              "        text-align: right;\n",
              "    }\n",
              "</style>\n",
              "<table border=\"1\" class=\"dataframe\">\n",
              "  <thead>\n",
              "    <tr style=\"text-align: right;\">\n",
              "      <th></th>\n",
              "      <th>PassengerId</th>\n",
              "      <th>HomePlanet</th>\n",
              "      <th>CryoSleep</th>\n",
              "      <th>Cabin</th>\n",
              "      <th>Destination</th>\n",
              "      <th>Age</th>\n",
              "      <th>VIP</th>\n",
              "      <th>RoomService</th>\n",
              "      <th>FoodCourt</th>\n",
              "      <th>ShoppingMall</th>\n",
              "      <th>Spa</th>\n",
              "      <th>VRDeck</th>\n",
              "      <th>Name</th>\n",
              "      <th>Transported</th>\n",
              "      <th>PG</th>\n",
              "    </tr>\n",
              "  </thead>\n",
              "  <tbody>\n",
              "    <tr>\n",
              "      <th>0</th>\n",
              "      <td>0001_01</td>\n",
              "      <td>Europa</td>\n",
              "      <td>False</td>\n",
              "      <td>B/0/P</td>\n",
              "      <td>TRAPPIST-1e</td>\n",
              "      <td>39.0</td>\n",
              "      <td>False</td>\n",
              "      <td>0.0</td>\n",
              "      <td>0.0</td>\n",
              "      <td>0.0</td>\n",
              "      <td>0.0</td>\n",
              "      <td>0.0</td>\n",
              "      <td>Ofracculy</td>\n",
              "      <td>False</td>\n",
              "      <td>0001</td>\n",
              "    </tr>\n",
              "    <tr>\n",
              "      <th>1</th>\n",
              "      <td>0002_01</td>\n",
              "      <td>Earth</td>\n",
              "      <td>False</td>\n",
              "      <td>F/0/S</td>\n",
              "      <td>TRAPPIST-1e</td>\n",
              "      <td>24.0</td>\n",
              "      <td>False</td>\n",
              "      <td>109.0</td>\n",
              "      <td>9.0</td>\n",
              "      <td>25.0</td>\n",
              "      <td>549.0</td>\n",
              "      <td>44.0</td>\n",
              "      <td>Vines</td>\n",
              "      <td>True</td>\n",
              "      <td>0002</td>\n",
              "    </tr>\n",
              "    <tr>\n",
              "      <th>2</th>\n",
              "      <td>0003_01</td>\n",
              "      <td>Europa</td>\n",
              "      <td>False</td>\n",
              "      <td>A/0/S</td>\n",
              "      <td>TRAPPIST-1e</td>\n",
              "      <td>58.0</td>\n",
              "      <td>True</td>\n",
              "      <td>43.0</td>\n",
              "      <td>3576.0</td>\n",
              "      <td>0.0</td>\n",
              "      <td>6715.0</td>\n",
              "      <td>49.0</td>\n",
              "      <td>Susent</td>\n",
              "      <td>False</td>\n",
              "      <td>0003</td>\n",
              "    </tr>\n",
              "    <tr>\n",
              "      <th>3</th>\n",
              "      <td>0003_02</td>\n",
              "      <td>Europa</td>\n",
              "      <td>False</td>\n",
              "      <td>A/0/S</td>\n",
              "      <td>TRAPPIST-1e</td>\n",
              "      <td>33.0</td>\n",
              "      <td>False</td>\n",
              "      <td>0.0</td>\n",
              "      <td>1283.0</td>\n",
              "      <td>371.0</td>\n",
              "      <td>3329.0</td>\n",
              "      <td>193.0</td>\n",
              "      <td>Susent</td>\n",
              "      <td>False</td>\n",
              "      <td>0003</td>\n",
              "    </tr>\n",
              "    <tr>\n",
              "      <th>4</th>\n",
              "      <td>0004_01</td>\n",
              "      <td>Earth</td>\n",
              "      <td>False</td>\n",
              "      <td>F/1/S</td>\n",
              "      <td>TRAPPIST-1e</td>\n",
              "      <td>16.0</td>\n",
              "      <td>False</td>\n",
              "      <td>303.0</td>\n",
              "      <td>70.0</td>\n",
              "      <td>151.0</td>\n",
              "      <td>565.0</td>\n",
              "      <td>2.0</td>\n",
              "      <td>Santantines</td>\n",
              "      <td>True</td>\n",
              "      <td>0004</td>\n",
              "    </tr>\n",
              "  </tbody>\n",
              "</table>\n",
              "</div>\n",
              "      <button class=\"colab-df-convert\" onclick=\"convertToInteractive('df-829c3809-fed0-428e-a4a5-dcaf798f1214')\"\n",
              "              title=\"Convert this dataframe to an interactive table.\"\n",
              "              style=\"display:none;\">\n",
              "        \n",
              "  <svg xmlns=\"http://www.w3.org/2000/svg\" height=\"24px\"viewBox=\"0 0 24 24\"\n",
              "       width=\"24px\">\n",
              "    <path d=\"M0 0h24v24H0V0z\" fill=\"none\"/>\n",
              "    <path d=\"M18.56 5.44l.94 2.06.94-2.06 2.06-.94-2.06-.94-.94-2.06-.94 2.06-2.06.94zm-11 1L8.5 8.5l.94-2.06 2.06-.94-2.06-.94L8.5 2.5l-.94 2.06-2.06.94zm10 10l.94 2.06.94-2.06 2.06-.94-2.06-.94-.94-2.06-.94 2.06-2.06.94z\"/><path d=\"M17.41 7.96l-1.37-1.37c-.4-.4-.92-.59-1.43-.59-.52 0-1.04.2-1.43.59L10.3 9.45l-7.72 7.72c-.78.78-.78 2.05 0 2.83L4 21.41c.39.39.9.59 1.41.59.51 0 1.02-.2 1.41-.59l7.78-7.78 2.81-2.81c.8-.78.8-2.07 0-2.86zM5.41 20L4 18.59l7.72-7.72 1.47 1.35L5.41 20z\"/>\n",
              "  </svg>\n",
              "      </button>\n",
              "      \n",
              "  <style>\n",
              "    .colab-df-container {\n",
              "      display:flex;\n",
              "      flex-wrap:wrap;\n",
              "      gap: 12px;\n",
              "    }\n",
              "\n",
              "    .colab-df-convert {\n",
              "      background-color: #E8F0FE;\n",
              "      border: none;\n",
              "      border-radius: 50%;\n",
              "      cursor: pointer;\n",
              "      display: none;\n",
              "      fill: #1967D2;\n",
              "      height: 32px;\n",
              "      padding: 0 0 0 0;\n",
              "      width: 32px;\n",
              "    }\n",
              "\n",
              "    .colab-df-convert:hover {\n",
              "      background-color: #E2EBFA;\n",
              "      box-shadow: 0px 1px 2px rgba(60, 64, 67, 0.3), 0px 1px 3px 1px rgba(60, 64, 67, 0.15);\n",
              "      fill: #174EA6;\n",
              "    }\n",
              "\n",
              "    [theme=dark] .colab-df-convert {\n",
              "      background-color: #3B4455;\n",
              "      fill: #D2E3FC;\n",
              "    }\n",
              "\n",
              "    [theme=dark] .colab-df-convert:hover {\n",
              "      background-color: #434B5C;\n",
              "      box-shadow: 0px 1px 3px 1px rgba(0, 0, 0, 0.15);\n",
              "      filter: drop-shadow(0px 1px 2px rgba(0, 0, 0, 0.3));\n",
              "      fill: #FFFFFF;\n",
              "    }\n",
              "  </style>\n",
              "\n",
              "      <script>\n",
              "        const buttonEl =\n",
              "          document.querySelector('#df-829c3809-fed0-428e-a4a5-dcaf798f1214 button.colab-df-convert');\n",
              "        buttonEl.style.display =\n",
              "          google.colab.kernel.accessAllowed ? 'block' : 'none';\n",
              "\n",
              "        async function convertToInteractive(key) {\n",
              "          const element = document.querySelector('#df-829c3809-fed0-428e-a4a5-dcaf798f1214');\n",
              "          const dataTable =\n",
              "            await google.colab.kernel.invokeFunction('convertToInteractive',\n",
              "                                                     [key], {});\n",
              "          if (!dataTable) return;\n",
              "\n",
              "          const docLinkHtml = 'Like what you see? Visit the ' +\n",
              "            '<a target=\"_blank\" href=https://colab.research.google.com/notebooks/data_table.ipynb>data table notebook</a>'\n",
              "            + ' to learn more about interactive tables.';\n",
              "          element.innerHTML = '';\n",
              "          dataTable['output_type'] = 'display_data';\n",
              "          await google.colab.output.renderOutput(dataTable, element);\n",
              "          const docLink = document.createElement('div');\n",
              "          docLink.innerHTML = docLinkHtml;\n",
              "          element.appendChild(docLink);\n",
              "        }\n",
              "      </script>\n",
              "    </div>\n",
              "  </div>\n",
              "  "
            ]
          },
          "metadata": {},
          "execution_count": 5
        }
      ],
      "source": [
        "df.head()"
      ]
    },
    {
      "cell_type": "markdown",
      "metadata": {
        "id": "VqkzAr9xpg6k"
      },
      "source": [
        "# Fix Missing Data"
      ]
    },
    {
      "cell_type": "code",
      "execution_count": null,
      "metadata": {
        "colab": {
          "base_uri": "https://localhost:8080/"
        },
        "id": "ejRGexN6LMdY",
        "outputId": "28cf5563-e107-4a4a-9842-434e25491402"
      },
      "outputs": [
        {
          "output_type": "execute_result",
          "data": {
            "text/plain": [
              "PassengerId       0\n",
              "HomePlanet      201\n",
              "CryoSleep       217\n",
              "Cabin           199\n",
              "Destination     182\n",
              "Age             179\n",
              "VIP             203\n",
              "RoomService     181\n",
              "FoodCourt       183\n",
              "ShoppingMall    208\n",
              "Spa             183\n",
              "VRDeck          188\n",
              "Name            200\n",
              "Transported       0\n",
              "PG                0\n",
              "dtype: int64"
            ]
          },
          "metadata": {},
          "execution_count": 6
        }
      ],
      "source": [
        "df.isnull().sum()"
      ]
    },
    {
      "cell_type": "markdown",
      "metadata": {
        "id": "Pg6Hzgc3dphr"
      },
      "source": [
        "\n",
        "\n",
        "##1.   HomePlanet\n",
        "\n"
      ]
    },
    {
      "cell_type": "markdown",
      "metadata": {
        "id": "CVn3F5RsF7iw"
      },
      "source": [
        "###Check whether same PG has same HomePlanet or not"
      ]
    },
    {
      "cell_type": "code",
      "execution_count": null,
      "metadata": {
        "colab": {
          "base_uri": "https://localhost:8080/"
        },
        "id": "AQ3Pioncd0KO",
        "outputId": "64e02cc6-d363-4292-e9c9-90f4fd748452"
      },
      "outputs": [
        {
          "output_type": "execute_result",
          "data": {
            "text/plain": [
              "True"
            ]
          },
          "metadata": {},
          "execution_count": 7
        }
      ],
      "source": [
        "hpgrouped = df.groupby('PG')\n",
        "(hpgrouped.HomePlanet.nunique()<=1).all()"
      ]
    },
    {
      "cell_type": "markdown",
      "metadata": {
        "id": "1pRe44DWkOXP"
      },
      "source": [
        "## Use passenger group to fill missing HomePlanet data since same PG has same HomePlanet"
      ]
    },
    {
      "cell_type": "code",
      "execution_count": null,
      "metadata": {
        "colab": {
          "base_uri": "https://localhost:8080/"
        },
        "id": "xv6SeF_qkN5i",
        "outputId": "1dda70d7-d84c-4694-c455-1c90a35e1aed"
      },
      "outputs": [
        {
          "output_type": "execute_result",
          "data": {
            "text/plain": [
              "111"
            ]
          },
          "metadata": {},
          "execution_count": 8
        }
      ],
      "source": [
        "def fill(x):\n",
        "  if not pd.isnull(x.HomePlanet):\n",
        "    return x.HomePlanet\n",
        "  v = df.HomePlanet[df.PG==x.PG].dropna().mode()\n",
        "  if v.shape[0]>0:\n",
        "    return v[0]\n",
        "  return x.HomePlanet\n",
        "\n",
        "df.HomePlanet = df.apply(fill, axis=1)\n",
        "df.HomePlanet.isna().sum()"
      ]
    },
    {
      "cell_type": "markdown",
      "metadata": {
        "id": "0oZrfPynIYe8"
      },
      "source": [
        "###Check whether same Last Name has same HomePlanet or not"
      ]
    },
    {
      "cell_type": "code",
      "execution_count": null,
      "metadata": {
        "colab": {
          "base_uri": "https://localhost:8080/"
        },
        "id": "LJdpuugMv2p9",
        "outputId": "098c1ea4-02d3-4351-8191-81c1e3cdde85"
      },
      "outputs": [
        {
          "output_type": "execute_result",
          "data": {
            "text/plain": [
              "True"
            ]
          },
          "metadata": {},
          "execution_count": 9
        }
      ],
      "source": [
        "hpgrouped = df.groupby('Name')\n",
        "(hpgrouped.HomePlanet.nunique()<=1).all()"
      ]
    },
    {
      "cell_type": "markdown",
      "metadata": {
        "id": "EPaBNSBlxJk5"
      },
      "source": [
        "###Use Family Name to fill missing HomePlanet data since passengers having same name will be from same HomePlanet."
      ]
    },
    {
      "cell_type": "code",
      "execution_count": null,
      "metadata": {
        "colab": {
          "base_uri": "https://localhost:8080/"
        },
        "id": "DoP2CKtkxZ31",
        "outputId": "3ad79046-5dbe-426a-f1fd-c808f80733a1"
      },
      "outputs": [
        {
          "output_type": "execute_result",
          "data": {
            "text/plain": [
              "12"
            ]
          },
          "metadata": {},
          "execution_count": 10
        }
      ],
      "source": [
        "def fill(x):\n",
        "  if not pd.isnull(x.HomePlanet):\n",
        "    return x.HomePlanet\n",
        "  v = df.HomePlanet[df.Name==x.Name].dropna().mode()\n",
        "  if v.shape[0]>0:\n",
        "    return v[0]\n",
        "  return x.HomePlanet\n",
        "\n",
        "df.HomePlanet = df.apply(fill, axis=1)\n",
        "df.HomePlanet.isna().sum()"
      ]
    },
    {
      "cell_type": "markdown",
      "metadata": {
        "id": "ysycBwknImiX"
      },
      "source": [
        "###For the rest empty values, use probability to fill"
      ]
    },
    {
      "cell_type": "code",
      "execution_count": null,
      "metadata": {
        "id": "1buncD-TN1yQ"
      },
      "outputs": [],
      "source": [
        "import random\n",
        "probs = df.HomePlanet.value_counts()/ df.HomePlanet.count()\n",
        "df.HomePlanet = df.apply(lambda x: random.choices(probs.keys(), probs.values)[0] if pd.isnull(x.HomePlanet) else x.HomePlanet, axis=1)"
      ]
    },
    {
      "cell_type": "markdown",
      "metadata": {
        "id": "VAbMEf2KGzqD"
      },
      "source": [
        "\n",
        "##2.   CryoSleep\n",
        "\n"
      ]
    },
    {
      "cell_type": "code",
      "execution_count": null,
      "metadata": {
        "colab": {
          "base_uri": "https://localhost:8080/"
        },
        "id": "Aa6twRHDG-vf",
        "outputId": "acb66926-3397-4fbe-f3c0-c41adb5caa39"
      },
      "outputs": [
        {
          "output_type": "execute_result",
          "data": {
            "text/plain": [
              "PassengerId       0\n",
              "HomePlanet        0\n",
              "CryoSleep       217\n",
              "Cabin           199\n",
              "Destination     182\n",
              "Age             179\n",
              "VIP             203\n",
              "RoomService     181\n",
              "FoodCourt       183\n",
              "ShoppingMall    208\n",
              "Spa             183\n",
              "VRDeck          188\n",
              "Name            200\n",
              "Transported       0\n",
              "PG                0\n",
              "dtype: int64"
            ]
          },
          "metadata": {},
          "execution_count": 12
        }
      ],
      "source": [
        "df.isna().sum()"
      ]
    },
    {
      "cell_type": "markdown",
      "metadata": {
        "id": "8tV71q5DIr2z"
      },
      "source": [
        "###If any of RoomService, ShoppingMall, FoodCourt, Spa or VRDeck is greater than zero then set CryoSleep to false"
      ]
    },
    {
      "cell_type": "code",
      "execution_count": null,
      "metadata": {
        "colab": {
          "base_uri": "https://localhost:8080/",
          "height": 312
        },
        "id": "41nHXjEXOPbE",
        "outputId": "530987d3-dd07-4fd3-c55f-7454059535d3"
      },
      "outputs": [
        {
          "output_type": "execute_result",
          "data": {
            "text/plain": [
              "<matplotlib.axes._subplots.AxesSubplot at 0x7fd134beadc0>"
            ]
          },
          "metadata": {},
          "execution_count": 13
        },
        {
          "output_type": "display_data",
          "data": {
            "text/plain": [
              "<Figure size 432x288 with 1 Axes>"
            ],
            "image/png": "[encoded data removed]"
          },
          "metadata": {}
        }
      ],
      "source": [
        "hasBill = (df.RoomService + df.ShoppingMall + df.FoodCourt + df.Spa + df.VRDeck)>0\n",
        "tb=pd.crosstab(hasBill, df.CryoSleep)\n",
        "tb.plot(kind='bar', xlabel='HasBill')"
      ]
    },
    {
      "cell_type": "code",
      "execution_count": null,
      "metadata": {
        "id": "L6Lpq1ImI24a"
      },
      "outputs": [],
      "source": [
        "df.CryoSleep = df.apply(lambda x: False if pd.isnull(x.CryoSleep) and any((x.VRDeck, x.ShoppingMall, x.RoomService, x.FoodCourt, x.Spa))>0 else x.CryoSleep, axis=1)"
      ]
    },
    {
      "cell_type": "markdown",
      "metadata": {
        "id": "XWV2wYtjTycC"
      },
      "source": [
        "### Fill based on whether the destination is TRAPPIST-1E"
      ]
    },
    {
      "cell_type": "code",
      "execution_count": null,
      "metadata": {
        "colab": {
          "base_uri": "https://localhost:8080/",
          "height": 357
        },
        "id": "EnsntpWxQB1q",
        "outputId": "32740ba2-fd9e-46cb-cfe6-a0a75e50ff55"
      },
      "outputs": [
        {
          "output_type": "execute_result",
          "data": {
            "text/plain": [
              "<matplotlib.axes._subplots.AxesSubplot at 0x7fd134cb14f0>"
            ]
          },
          "metadata": {},
          "execution_count": 15
        },
        {
          "output_type": "display_data",
          "data": {
            "text/plain": [
              "<Figure size 432x288 with 1 Axes>"
            ],
            "image/png": "[encoded data removed]"
          },
          "metadata": {}
        }
      ],
      "source": [
        "tb = pd.crosstab(df.Destination, df.CryoSleep)\n",
        "tb.plot(kind='bar')"
      ]
    },
    {
      "cell_type": "code",
      "execution_count": null,
      "metadata": {
        "id": "WpwhB85VTwPT"
      },
      "outputs": [],
      "source": [
        "import random\n",
        "probs = df.CryoSleep[df.Destination=='TRAPPIST-1e'].value_counts()/df.CryoSleep[df.Destination=='TRAPPIST-1e'].count()\n",
        "df.CryoSleep = df.apply(lambda x: random.choices(probs.keys(), probs.values)[0] if pd.isnull(x.CryoSleep) and x.Destination=='TRAPPIST-1e' else x.CryoSleep,axis=1)"
      ]
    },
    {
      "cell_type": "markdown",
      "metadata": {
        "id": "9m9nOwtnVkIj"
      },
      "source": [
        "###Fill based on whether Transported or not"
      ]
    },
    {
      "cell_type": "code",
      "execution_count": null,
      "metadata": {
        "colab": {
          "base_uri": "https://localhost:8080/",
          "height": 312
        },
        "id": "B--6gFDbU0_g",
        "outputId": "cc114d08-ab43-4ee5-dbe9-047524b2602c"
      },
      "outputs": [
        {
          "output_type": "execute_result",
          "data": {
            "text/plain": [
              "<matplotlib.axes._subplots.AxesSubplot at 0x7fd134dbe550>"
            ]
          },
          "metadata": {},
          "execution_count": 17
        },
        {
          "output_type": "display_data",
          "data": {
            "text/plain": [
              "<Figure size 432x288 with 1 Axes>"
            ],
            "image/png": "[encoded data removed]"
          },
          "metadata": {}
        }
      ],
      "source": [
        "tb = pd.crosstab(df.Transported, df.CryoSleep)\n",
        "tb.plot(kind='bar')"
      ]
    },
    {
      "cell_type": "code",
      "execution_count": null,
      "metadata": {
        "id": "5FRM4mVVVtui"
      },
      "outputs": [],
      "source": [
        "probs = df.CryoSleep[df.Transported == False].value_counts()/df.CryoSleep[df.Transported == False].count()\n",
        "df.CryoSleep = df.apply(lambda x: random.choices(probs.keys(), probs.values)[0] if pd.isnull(x.CryoSleep) and x.Transported==False else x.CryoSleep,axis=1)"
      ]
    },
    {
      "cell_type": "markdown",
      "metadata": {
        "id": "I44zZAJYWoLG"
      },
      "source": [
        "###Fill based on probability"
      ]
    },
    {
      "cell_type": "code",
      "execution_count": null,
      "metadata": {
        "id": "e8raJEj_WuQV"
      },
      "outputs": [],
      "source": [
        "probs = df.VIP.value_counts()/df.VIP.count()\n",
        "df.CryoSleep = df.apply(lambda x: random.choices(probs.keys(), probs.values)[0] if pd.isnull(x.CryoSleep) else x.CryoSleep,axis=1)"
      ]
    },
    {
      "cell_type": "markdown",
      "metadata": {
        "id": "fvW_tF-iYB3U"
      },
      "source": [
        "\n",
        "\n",
        "##3.   Cabin\n",
        "\n"
      ]
    },
    {
      "cell_type": "code",
      "execution_count": null,
      "metadata": {
        "colab": {
          "base_uri": "https://localhost:8080/"
        },
        "id": "M1Cvn0dUZLhW",
        "outputId": "b9399cdf-4b34-47fd-d958-daf93af781dc"
      },
      "outputs": [
        {
          "output_type": "execute_result",
          "data": {
            "text/plain": [
              "PassengerId       0\n",
              "HomePlanet        0\n",
              "CryoSleep         0\n",
              "Cabin           199\n",
              "Destination     182\n",
              "Age             179\n",
              "VIP             203\n",
              "RoomService     181\n",
              "FoodCourt       183\n",
              "ShoppingMall    208\n",
              "Spa             183\n",
              "VRDeck          188\n",
              "Name            200\n",
              "Transported       0\n",
              "PG                0\n",
              "dtype: int64"
            ]
          },
          "metadata": {},
          "execution_count": 20
        }
      ],
      "source": [
        "df.isna().sum()"
      ]
    },
    {
      "cell_type": "markdown",
      "metadata": {
        "id": "-qtrKVhufAkS"
      },
      "source": [
        "###Fill using PG since passengers from the same PG will have same cabin in most cases"
      ]
    },
    {
      "cell_type": "code",
      "execution_count": null,
      "metadata": {
        "colab": {
          "base_uri": "https://localhost:8080/"
        },
        "id": "BgcjY8QlWa_J",
        "outputId": "8946f4c9-1d6b-4def-bd1e-555a68f182c9"
      },
      "outputs": [
        {
          "output_type": "execute_result",
          "data": {
            "text/plain": [
              "1    5697\n",
              "2     400\n",
              "0      99\n",
              "3      21\n",
              "Name: Cabin, dtype: int64"
            ]
          },
          "metadata": {},
          "execution_count": 21
        }
      ],
      "source": [
        "hpgrouped = df.groupby('PG')\n",
        "c=hpgrouped.Cabin.nunique().value_counts()\n",
        "c"
      ]
    },
    {
      "cell_type": "code",
      "execution_count": null,
      "metadata": {
        "id": "o2n_kPe8cVhL"
      },
      "outputs": [],
      "source": [
        "def fill(x):\n",
        "  if not pd.isnull(x.Cabin):\n",
        "    return x.Cabin\n",
        "  v = df.Cabin[df.PG == x.PG].dropna().mode()\n",
        "  if v.shape[0]>0:\n",
        "    return v[0]\n",
        "  return x.Cabin\n",
        "\n",
        "df.Cabin = df.apply(fill,axis = 1)"
      ]
    },
    {
      "cell_type": "markdown",
      "metadata": {
        "id": "3Tq2NflbYBmO"
      },
      "source": [
        "###For the rest empty values, fill using proabilty"
      ]
    },
    {
      "cell_type": "code",
      "execution_count": null,
      "metadata": {
        "id": "N3RoQPyApJpH"
      },
      "outputs": [],
      "source": [
        "probs = df.Cabin.value_counts()/ df.Cabin.count()\n",
        "df.Cabin = df.apply(lambda x: random.choices(probs.keys(), probs.values)[0] if pd.isnull(x.Cabin) else x.Cabin, axis=1)"
      ]
    },
    {
      "cell_type": "markdown",
      "metadata": {
        "id": "AgnK8zgsr23d"
      },
      "source": [
        "\n",
        "\n",
        "##4.   Destination\n",
        "\n"
      ]
    },
    {
      "cell_type": "code",
      "execution_count": null,
      "metadata": {
        "colab": {
          "base_uri": "https://localhost:8080/"
        },
        "id": "uUpNHQOLsDVl",
        "outputId": "04e95be1-aa52-48cd-ab79-a19801444e48"
      },
      "outputs": [
        {
          "output_type": "execute_result",
          "data": {
            "text/plain": [
              "PassengerId       0\n",
              "HomePlanet        0\n",
              "CryoSleep         0\n",
              "Cabin             0\n",
              "Destination     182\n",
              "Age             179\n",
              "VIP             203\n",
              "RoomService     181\n",
              "FoodCourt       183\n",
              "ShoppingMall    208\n",
              "Spa             183\n",
              "VRDeck          188\n",
              "Name            200\n",
              "Transported       0\n",
              "PG                0\n",
              "dtype: int64"
            ]
          },
          "metadata": {},
          "execution_count": 24
        }
      ],
      "source": [
        "df.isna().sum()"
      ]
    },
    {
      "cell_type": "code",
      "execution_count": null,
      "metadata": {
        "id": "E67CB3RPs9U3"
      },
      "outputs": [],
      "source": [
        "probs = df.Destination.value_counts()/ df.Destination.count()\n",
        "df.Destination = df.apply(lambda x: random.choices(probs.keys(), probs.values)[0] if pd.isnull(x.Destination) else x.Destination, axis=1)"
      ]
    },
    {
      "cell_type": "markdown",
      "metadata": {
        "id": "tVl1kfHkz6po"
      },
      "source": [
        "\n",
        "\n",
        "##5.   VIP\n",
        "\n"
      ]
    },
    {
      "cell_type": "code",
      "execution_count": null,
      "metadata": {
        "id": "o0wy3yYr0GLi"
      },
      "outputs": [],
      "source": [
        "probs = df.VIP.value_counts()/ df.VIP.count()\n",
        "df.VIP = df.apply(lambda x: random.choices(probs.keys(), probs.values)[0] if pd.isnull(x.VIP) else x.VIP, axis=1)"
      ]
    },
    {
      "cell_type": "markdown",
      "metadata": {
        "id": "xHk74-nQ6pHM"
      },
      "source": [
        "\n",
        "\n",
        "#6.   Name\n",
        "\n"
      ]
    },
    {
      "cell_type": "code",
      "execution_count": null,
      "metadata": {
        "id": "GwTbWIJP6uu8"
      },
      "outputs": [],
      "source": [
        "probs = df.Name.value_counts()/ df.Name.count()\n",
        "df.Name = df.apply(lambda x: random.choices(probs.keys(), probs.values)[0] if pd.isnull(x.Name) else x.Name, axis=1)"
      ]
    },
    {
      "cell_type": "markdown",
      "metadata": {
        "id": "b4VOaZPW7jyZ"
      },
      "source": [
        "\n",
        "\n",
        "##7.   Numerical Features\n",
        "\n"
      ]
    },
    {
      "cell_type": "code",
      "execution_count": null,
      "metadata": {
        "colab": {
          "base_uri": "https://localhost:8080/",
          "height": 206
        },
        "id": "RMZrM9HC8l9y",
        "outputId": "0c8b7297-c5ff-428c-fcab-e1ea294aa0d5"
      },
      "outputs": [
        {
          "output_type": "execute_result",
          "data": {
            "text/plain": [
              "  PassengerId HomePlanet  CryoSleep  Cabin  Destination   Age    VIP  \\\n",
              "0     0001_01     Europa      False  B/0/P  TRAPPIST-1e  39.0  False   \n",
              "1     0002_01      Earth      False  F/0/S  TRAPPIST-1e  24.0  False   \n",
              "2     0003_01     Europa      False  A/0/S  TRAPPIST-1e  58.0   True   \n",
              "3     0003_02     Europa      False  A/0/S  TRAPPIST-1e  33.0  False   \n",
              "4     0004_01      Earth      False  F/1/S  TRAPPIST-1e  16.0  False   \n",
              "\n",
              "   RoomService  FoodCourt  ShoppingMall     Spa  VRDeck         Name  \\\n",
              "0          0.0        0.0           0.0     0.0     0.0    Ofracculy   \n",
              "1        109.0        9.0          25.0   549.0    44.0        Vines   \n",
              "2         43.0     3576.0           0.0  6715.0    49.0       Susent   \n",
              "3          0.0     1283.0         371.0  3329.0   193.0       Susent   \n",
              "4        303.0       70.0         151.0   565.0     2.0  Santantines   \n",
              "\n",
              "   Transported    PG  \n",
              "0        False  0001  \n",
              "1         True  0002  \n",
              "2        False  0003  \n",
              "3        False  0003  \n",
              "4         True  0004  "
            ],
            "text/html": [
              "\n",
              "  <div id=\"df-c408e1fd-aa11-43c7-bb55-2e2ceef91d50\">\n",
              "    <div class=\"colab-df-container\">\n",
              "      <div>\n",
              "<style scoped>\n",
              "    .dataframe tbody tr th:only-of-type {\n",
              "        vertical-align: middle;\n",
              "    }\n",
              "\n",
              "    .dataframe tbody tr th {\n",
              "        vertical-align: top;\n",
              "    }\n",
              "\n",
              "    .dataframe thead th {\n",
              "        text-align: right;\n",
              "    }\n",
              "</style>\n",
              "<table border=\"1\" class=\"dataframe\">\n",
              "  <thead>\n",
              "    <tr style=\"text-align: right;\">\n",
              "      <th></th>\n",
              "      <th>PassengerId</th>\n",
              "      <th>HomePlanet</th>\n",
              "      <th>CryoSleep</th>\n",
              "      <th>Cabin</th>\n",
              "      <th>Destination</th>\n",
              "      <th>Age</th>\n",
              "      <th>VIP</th>\n",
              "      <th>RoomService</th>\n",
              "      <th>FoodCourt</th>\n",
              "      <th>ShoppingMall</th>\n",
              "      <th>Spa</th>\n",
              "      <th>VRDeck</th>\n",
              "      <th>Name</th>\n",
              "      <th>Transported</th>\n",
              "      <th>PG</th>\n",
              "    </tr>\n",
              "  </thead>\n",
              "  <tbody>\n",
              "    <tr>\n",
              "      <th>0</th>\n",
              "      <td>0001_01</td>\n",
              "      <td>Europa</td>\n",
              "      <td>False</td>\n",
              "      <td>B/0/P</td>\n",
              "      <td>TRAPPIST-1e</td>\n",
              "      <td>39.0</td>\n",
              "      <td>False</td>\n",
              "      <td>0.0</td>\n",
              "      <td>0.0</td>\n",
              "      <td>0.0</td>\n",
              "      <td>0.0</td>\n",
              "      <td>0.0</td>\n",
              "      <td>Ofracculy</td>\n",
              "      <td>False</td>\n",
              "      <td>0001</td>\n",
              "    </tr>\n",
              "    <tr>\n",
              "      <th>1</th>\n",
              "      <td>0002_01</td>\n",
              "      <td>Earth</td>\n",
              "      <td>False</td>\n",
              "      <td>F/0/S</td>\n",
              "      <td>TRAPPIST-1e</td>\n",
              "      <td>24.0</td>\n",
              "      <td>False</td>\n",
              "      <td>109.0</td>\n",
              "      <td>9.0</td>\n",
              "      <td>25.0</td>\n",
              "      <td>549.0</td>\n",
              "      <td>44.0</td>\n",
              "      <td>Vines</td>\n",
              "      <td>True</td>\n",
              "      <td>0002</td>\n",
              "    </tr>\n",
              "    <tr>\n",
              "      <th>2</th>\n",
              "      <td>0003_01</td>\n",
              "      <td>Europa</td>\n",
              "      <td>False</td>\n",
              "      <td>A/0/S</td>\n",
              "      <td>TRAPPIST-1e</td>\n",
              "      <td>58.0</td>\n",
              "      <td>True</td>\n",
              "      <td>43.0</td>\n",
              "      <td>3576.0</td>\n",
              "      <td>0.0</td>\n",
              "      <td>6715.0</td>\n",
              "      <td>49.0</td>\n",
              "      <td>Susent</td>\n",
              "      <td>False</td>\n",
              "      <td>0003</td>\n",
              "    </tr>\n",
              "    <tr>\n",
              "      <th>3</th>\n",
              "      <td>0003_02</td>\n",
              "      <td>Europa</td>\n",
              "      <td>False</td>\n",
              "      <td>A/0/S</td>\n",
              "      <td>TRAPPIST-1e</td>\n",
              "      <td>33.0</td>\n",
              "      <td>False</td>\n",
              "      <td>0.0</td>\n",
              "      <td>1283.0</td>\n",
              "      <td>371.0</td>\n",
              "      <td>3329.0</td>\n",
              "      <td>193.0</td>\n",
              "      <td>Susent</td>\n",
              "      <td>False</td>\n",
              "      <td>0003</td>\n",
              "    </tr>\n",
              "    <tr>\n",
              "      <th>4</th>\n",
              "      <td>0004_01</td>\n",
              "      <td>Earth</td>\n",
              "      <td>False</td>\n",
              "      <td>F/1/S</td>\n",
              "      <td>TRAPPIST-1e</td>\n",
              "      <td>16.0</td>\n",
              "      <td>False</td>\n",
              "      <td>303.0</td>\n",
              "      <td>70.0</td>\n",
              "      <td>151.0</td>\n",
              "      <td>565.0</td>\n",
              "      <td>2.0</td>\n",
              "      <td>Santantines</td>\n",
              "      <td>True</td>\n",
              "      <td>0004</td>\n",
              "    </tr>\n",
              "  </tbody>\n",
              "</table>\n",
              "</div>\n",
              "      <button class=\"colab-df-convert\" onclick=\"convertToInteractive('df-c408e1fd-aa11-43c7-bb55-2e2ceef91d50')\"\n",
              "              title=\"Convert this dataframe to an interactive table.\"\n",
              "              style=\"display:none;\">\n",
              "        \n",
              "  <svg xmlns=\"http://www.w3.org/2000/svg\" height=\"24px\"viewBox=\"0 0 24 24\"\n",
              "       width=\"24px\">\n",
              "    <path d=\"M0 0h24v24H0V0z\" fill=\"none\"/>\n",
              "    <path d=\"M18.56 5.44l.94 2.06.94-2.06 2.06-.94-2.06-.94-.94-2.06-.94 2.06-2.06.94zm-11 1L8.5 8.5l.94-2.06 2.06-.94-2.06-.94L8.5 2.5l-.94 2.06-2.06.94zm10 10l.94 2.06.94-2.06 2.06-.94-2.06-.94-.94-2.06-.94 2.06-2.06.94z\"/><path d=\"M17.41 7.96l-1.37-1.37c-.4-.4-.92-.59-1.43-.59-.52 0-1.04.2-1.43.59L10.3 9.45l-7.72 7.72c-.78.78-.78 2.05 0 2.83L4 21.41c.39.39.9.59 1.41.59.51 0 1.02-.2 1.41-.59l7.78-7.78 2.81-2.81c.8-.78.8-2.07 0-2.86zM5.41 20L4 18.59l7.72-7.72 1.47 1.35L5.41 20z\"/>\n",
              "  </svg>\n",
              "      </button>\n",
              "      \n",
              "  <style>\n",
              "    .colab-df-container {\n",
              "      display:flex;\n",
              "      flex-wrap:wrap;\n",
              "      gap: 12px;\n",
              "    }\n",
              "\n",
              "    .colab-df-convert {\n",
              "      background-color: #E8F0FE;\n",
              "      border: none;\n",
              "      border-radius: 50%;\n",
              "      cursor: pointer;\n",
              "      display: none;\n",
              "      fill: #1967D2;\n",
              "      height: 32px;\n",
              "      padding: 0 0 0 0;\n",
              "      width: 32px;\n",
              "    }\n",
              "\n",
              "    .colab-df-convert:hover {\n",
              "      background-color: #E2EBFA;\n",
              "      box-shadow: 0px 1px 2px rgba(60, 64, 67, 0.3), 0px 1px 3px 1px rgba(60, 64, 67, 0.15);\n",
              "      fill: #174EA6;\n",
              "    }\n",
              "\n",
              "    [theme=dark] .colab-df-convert {\n",
              "      background-color: #3B4455;\n",
              "      fill: #D2E3FC;\n",
              "    }\n",
              "\n",
              "    [theme=dark] .colab-df-convert:hover {\n",
              "      background-color: #434B5C;\n",
              "      box-shadow: 0px 1px 3px 1px rgba(0, 0, 0, 0.15);\n",
              "      filter: drop-shadow(0px 1px 2px rgba(0, 0, 0, 0.3));\n",
              "      fill: #FFFFFF;\n",
              "    }\n",
              "  </style>\n",
              "\n",
              "      <script>\n",
              "        const buttonEl =\n",
              "          document.querySelector('#df-c408e1fd-aa11-43c7-bb55-2e2ceef91d50 button.colab-df-convert');\n",
              "        buttonEl.style.display =\n",
              "          google.colab.kernel.accessAllowed ? 'block' : 'none';\n",
              "\n",
              "        async function convertToInteractive(key) {\n",
              "          const element = document.querySelector('#df-c408e1fd-aa11-43c7-bb55-2e2ceef91d50');\n",
              "          const dataTable =\n",
              "            await google.colab.kernel.invokeFunction('convertToInteractive',\n",
              "                                                     [key], {});\n",
              "          if (!dataTable) return;\n",
              "\n",
              "          const docLinkHtml = 'Like what you see? Visit the ' +\n",
              "            '<a target=\"_blank\" href=https://colab.research.google.com/notebooks/data_table.ipynb>data table notebook</a>'\n",
              "            + ' to learn more about interactive tables.';\n",
              "          element.innerHTML = '';\n",
              "          dataTable['output_type'] = 'display_data';\n",
              "          await google.colab.output.renderOutput(dataTable, element);\n",
              "          const docLink = document.createElement('div');\n",
              "          docLink.innerHTML = docLinkHtml;\n",
              "          element.appendChild(docLink);\n",
              "        }\n",
              "      </script>\n",
              "    </div>\n",
              "  </div>\n",
              "  "
            ]
          },
          "metadata": {},
          "execution_count": 28
        }
      ],
      "source": [
        "df.head()"
      ]
    },
    {
      "cell_type": "code",
      "execution_count": null,
      "metadata": {
        "colab": {
          "base_uri": "https://localhost:8080/",
          "height": 606
        },
        "id": "oXKFQrl9ax7r",
        "outputId": "d70b8fcf-fd8a-4628-bb06-23ab920c533f"
      },
      "outputs": [
        {
          "output_type": "display_data",
          "data": {
            "text/plain": [
              "<Figure size 720x720 with 6 Axes>"
            ],
            "image/png": "[encoded data removed]"
          },
          "metadata": {}
        }
      ],
      "source": [
        "fig = plt.figure(figsize=(10,10))\n",
        "\n",
        "ax1 = fig.add_subplot(2, 3, 1)\n",
        "sns.histplot(x=df.RoomService, bins=100, ax=ax1, stat='percent')\n",
        "\n",
        "ax2 = fig.add_subplot(2, 3, 2)\n",
        "sns.histplot(x=df.ShoppingMall, bins=100, ax=ax2, stat='percent')\n",
        "\n",
        "ax3 = fig.add_subplot(2, 3, 3)\n",
        "sns.histplot(x=df.FoodCourt, bins=100, ax=ax3, stat='percent')\n",
        "\n",
        "ax4 = fig.add_subplot(2, 3, 4)\n",
        "sns.histplot(x=df.Spa, bins=100, ax=ax4, stat='percent')\n",
        "\n",
        "ax5 = fig.add_subplot(2, 3, 5)\n",
        "sns.histplot(x=df.VRDeck, bins=100, ax=ax5, stat='percent')\n",
        "\n",
        "ax6 = fig.add_subplot(2, 3, 6)\n",
        "sns.histplot(x=df.Age, bins=30, ax=ax6, stat='percent')\n",
        "\n",
        "plt.show()"
      ]
    },
    {
      "cell_type": "markdown",
      "metadata": {
        "id": "7l8EjtI6dvDm"
      },
      "source": [
        "###If CryoSleep is true than amenities bill will be zero"
      ]
    },
    {
      "cell_type": "code",
      "execution_count": null,
      "metadata": {
        "colab": {
          "base_uri": "https://localhost:8080/"
        },
        "id": "JcUQIEobd7UI",
        "outputId": "c8f1e645-bb51-4765-f977-cf5b320edc1d"
      },
      "outputs": [
        {
          "output_type": "execute_result",
          "data": {
            "text/plain": [
              "PassengerId       0\n",
              "HomePlanet        0\n",
              "CryoSleep         0\n",
              "Cabin             0\n",
              "Destination       0\n",
              "Age             179\n",
              "VIP               0\n",
              "RoomService     113\n",
              "FoodCourt       113\n",
              "ShoppingMall    112\n",
              "Spa             118\n",
              "VRDeck          126\n",
              "Name              0\n",
              "Transported       0\n",
              "PG                0\n",
              "dtype: int64"
            ]
          },
          "metadata": {},
          "execution_count": 30
        }
      ],
      "source": [
        "def fill(x):\n",
        "  if x.CryoSleep == True:\n",
        "    if pd.isnull(x.RoomService):\n",
        "      x.RoomService = 0\n",
        "    if pd.isnull(x.ShoppingMall):\n",
        "      x.ShoppingMall = 0\n",
        "    if pd.isnull(x.FoodCourt):\n",
        "      x.FoodCourt = 0\n",
        "    if pd.isnull(x.Spa):\n",
        "      x.Spa = 0\n",
        "    if pd.isnull(x.VRDeck):\n",
        "      x.VRDeck = 0\n",
        "  return x\n",
        "df = df.apply(fill, axis = 1)\n",
        "df.isna().sum()"
      ]
    },
    {
      "cell_type": "markdown",
      "metadata": {
        "id": "uDR_5Zcifc11"
      },
      "source": [
        "###Check for the rest of the empty values whether to use mean or median"
      ]
    },
    {
      "cell_type": "code",
      "execution_count": null,
      "metadata": {
        "colab": {
          "base_uri": "https://localhost:8080/"
        },
        "id": "NjdvzbSlfmZg",
        "outputId": "4ae01041-3460-417d-9e26-c35d5807d127"
      },
      "outputs": [
        {
          "output_type": "stream",
          "name": "stdout",
          "text": [
            "Age mean -  28.82793046746535 median -  27.0\n",
            "RoomService mean -  222.90687645687646 median -  0.0\n",
            "FoodCourt mean -  454.3399766899767 median -  0.0\n",
            "ShoppingMall mean -  171.7855727770656 median -  0.0\n",
            "Spa mean -  308.7802915451895 median -  0.0\n",
            "VRDeck mean -  302.64853507645614 median -  0.0\n"
          ]
        }
      ],
      "source": [
        "for col in df.select_dtypes(include=['float64', 'int64']).columns:\n",
        "  print(col, \"mean - \",df[col].mean(), \"median - \", df[col].median())"
      ]
    },
    {
      "cell_type": "markdown",
      "metadata": {
        "id": "eCcZmQiAh9m8"
      },
      "source": [
        "###For amenities fill with median and for Age fill with mean"
      ]
    },
    {
      "cell_type": "code",
      "execution_count": null,
      "metadata": {
        "id": "iwGZoQG1iMzO"
      },
      "outputs": [],
      "source": [
        "for col in df.select_dtypes(include=['float64', 'int64']).columns:\n",
        "  if col=='Age':\n",
        "    df[col] = df[col].fillna(df[col].mean())\n",
        "  else:\n",
        "    df[col] = df[col].fillna(df[col].median())"
      ]
    },
    {
      "cell_type": "code",
      "execution_count": null,
      "metadata": {
        "colab": {
          "base_uri": "https://localhost:8080/"
        },
        "id": "lqZFJQzsioEp",
        "outputId": "55829964-cac0-4449-d679-a600cb1ff94a"
      },
      "outputs": [
        {
          "output_type": "execute_result",
          "data": {
            "text/plain": [
              "PassengerId     0\n",
              "HomePlanet      0\n",
              "CryoSleep       0\n",
              "Cabin           0\n",
              "Destination     0\n",
              "Age             0\n",
              "VIP             0\n",
              "RoomService     0\n",
              "FoodCourt       0\n",
              "ShoppingMall    0\n",
              "Spa             0\n",
              "VRDeck          0\n",
              "Name            0\n",
              "Transported     0\n",
              "PG              0\n",
              "dtype: int64"
            ]
          },
          "metadata": {},
          "execution_count": 33
        }
      ],
      "source": [
        "df.isna().sum()"
      ]
    },
    {
      "cell_type": "markdown",
      "metadata": {
        "id": "uLbWkqBAivzW"
      },
      "source": [
        "#Feature Engineering"
      ]
    },
    {
      "cell_type": "markdown",
      "metadata": {
        "id": "QGHytowfC8XV"
      },
      "source": [
        "##Plot Transported vs the categorical features"
      ]
    },
    {
      "cell_type": "code",
      "execution_count": null,
      "metadata": {
        "colab": {
          "base_uri": "https://localhost:8080/",
          "height": 388
        },
        "id": "hJfTCs-2U2L7",
        "outputId": "ac71e2e4-90e7-45cf-e0f1-ef5f68f214a8"
      },
      "outputs": [
        {
          "output_type": "display_data",
          "data": {
            "text/plain": [
              "<Figure size 720x432 with 4 Axes>"
            ],
            "image/png": "[encoded data removed]"
          },
          "metadata": {}
        }
      ],
      "source": [
        "fig = plt.figure(figsize=(10,6))\n",
        "\n",
        "ax1 = fig.add_subplot(2, 2, 1)\n",
        "sns.barplot(x=df.HomePlanet, y=df.Transported, ax=ax1)\n",
        "\n",
        "ax2 = fig.add_subplot(2, 2, 2)\n",
        "sns.barplot(x=df.CryoSleep, y=df.Transported, ax=ax2)\n",
        "\n",
        "ax3 = fig.add_subplot(2, 2, 3)\n",
        "sns.barplot(x=df.Destination, y=df.Transported, ax=ax3)\n",
        "\n",
        "ax4 = fig.add_subplot(2, 2, 4)\n",
        "sns.barplot(x=df.VIP, y=df.Transported, ax=ax4)\n",
        "\n",
        "plt.show()"
      ]
    },
    {
      "cell_type": "markdown",
      "metadata": {
        "id": "Wc_h6YvIYanv"
      },
      "source": [
        "### Split the Cabin feature to create new features since Cabin has so many categories"
      ]
    },
    {
      "cell_type": "code",
      "execution_count": null,
      "metadata": {
        "id": "k5zzH_jcaKLd"
      },
      "outputs": [],
      "source": [
        "df[\"Cabin_deck\"] = df.Cabin.str.split(\"/\").str[0]\n",
        "df[\"Cabin_num\"] = df.Cabin.str.split('/').str[1]\n",
        "df[\"Cabin_side\"] = df.Cabin.str.split('/').str[2]"
      ]
    },
    {
      "cell_type": "markdown",
      "metadata": {
        "id": "htGOz_vDj0Hr"
      },
      "source": [
        "###Create a feature for number of people in Cabin"
      ]
    },
    {
      "cell_type": "code",
      "execution_count": null,
      "metadata": {
        "id": "VwhL2GHFIhAH"
      },
      "outputs": [],
      "source": [
        "df[\"people_in_cabin\"] = df.Cabin.map(df.Cabin.value_counts())"
      ]
    },
    {
      "cell_type": "markdown",
      "metadata": {
        "id": "bhmwavnnj-v5"
      },
      "source": [
        "###Plot Cabin related information"
      ]
    },
    {
      "cell_type": "code",
      "execution_count": null,
      "metadata": {
        "colab": {
          "base_uri": "https://localhost:8080/",
          "height": 389
        },
        "id": "euyiJ3IVM45u",
        "outputId": "dd1cbf06-a80d-4b74-89dc-758caabab8ff"
      },
      "outputs": [
        {
          "output_type": "display_data",
          "data": {
            "text/plain": [
              "<Figure size 1152x432 with 3 Axes>"
            ],
            "image/png": "[encoded data removed]"
          },
          "metadata": {}
        }
      ],
      "source": [
        "fig = plt.figure(figsize=(16,6))\n",
        "\n",
        "ax1 = fig.add_subplot(1, 3, 1)\n",
        "sns.barplot(x=df.Cabin_deck, y=df.Transported, ax=ax1)\n",
        "\n",
        "ax2 = fig.add_subplot(1, 3, 2)\n",
        "sns.barplot(x=df.Cabin_side, y=df.Transported, ax=ax2)\n",
        "\n",
        "ax3 = fig.add_subplot(1, 3, 3)\n",
        "sns.barplot(x=df.people_in_cabin, y=df.Transported, ax=ax3)\n",
        "\n",
        "plt.show()"
      ]
    },
    {
      "cell_type": "markdown",
      "metadata": {
        "id": "62P7dAJDmdWU"
      },
      "source": [
        "###Feature engineer the Age feature"
      ]
    },
    {
      "cell_type": "code",
      "execution_count": null,
      "metadata": {
        "colab": {
          "base_uri": "https://localhost:8080/"
        },
        "id": "tyLcechylh1Q",
        "outputId": "c769391f-48b1-4566-80a1-cc1c6a94ee7a"
      },
      "outputs": [
        {
          "output_type": "execute_result",
          "data": {
            "text/plain": [
              "-0.07424911053933292"
            ]
          },
          "metadata": {},
          "execution_count": 38
        }
      ],
      "source": [
        "df.Transported.corr(df.Age)"
      ]
    },
    {
      "cell_type": "code",
      "execution_count": null,
      "metadata": {
        "colab": {
          "base_uri": "https://localhost:8080/",
          "height": 350
        },
        "id": "9gsfaWkKkUQG",
        "outputId": "6cc8dedb-04be-4bf8-e029-601cc1710af4"
      },
      "outputs": [
        {
          "output_type": "execute_result",
          "data": {
            "text/plain": [
              "<matplotlib.axes._subplots.AxesSubplot at 0x7fd133290b20>"
            ]
          },
          "metadata": {},
          "execution_count": 39
        },
        {
          "output_type": "display_data",
          "data": {
            "text/plain": [
              "<Figure size 432x288 with 1 Axes>"
            ],
            "image/png": "[encoded data removed]"
          },
          "metadata": {}
        }
      ],
      "source": [
        "bins = [0, 10, 20, 40, 60, 80]\n",
        "labels = [\"child\", \"teenager\", \"adult\", \"middle-aged\", \"old\"]\n",
        "df[\"Age_binned\"] = pd.cut(df.Age, bins, labels=labels, right=False)\n",
        "pd.crosstab(df.Age_binned, df.Transported).plot(kind='bar')"
      ]
    },
    {
      "cell_type": "markdown",
      "metadata": {
        "id": "w11E_5KE4j8V"
      },
      "source": [
        "###Combine the family name and PG to create a family group feature"
      ]
    },
    {
      "cell_type": "code",
      "execution_count": null,
      "metadata": {
        "id": "1bCHL8nkWM3r"
      },
      "outputs": [],
      "source": [
        "df[\"g_fam\"] = df.Name + '_' + df.PG"
      ]
    },
    {
      "cell_type": "markdown",
      "metadata": {
        "id": "H735JX7Y5KoU"
      },
      "source": [
        "###Create no of members in a family using the Family name and family group feature"
      ]
    },
    {
      "cell_type": "code",
      "execution_count": null,
      "metadata": {
        "id": "QjvBCozxkaFh"
      },
      "outputs": [],
      "source": [
        "df['no_of_mem1'] = df.Name.map(df.Name.value_counts(normalize=False))\n",
        "df['no_of_mem2'] = df.g_fam.map(df.g_fam.value_counts(normalize=False))\n",
        "df['people_in_group'] = df.PG.map(df.PG.value_counts(normalize=False))"
      ]
    },
    {
      "cell_type": "code",
      "execution_count": null,
      "metadata": {
        "colab": {
          "base_uri": "https://localhost:8080/",
          "height": 391
        },
        "id": "tidlDwHEO_Lq",
        "outputId": "6790bc30-8473-4500-b130-0599b3879e43"
      },
      "outputs": [
        {
          "output_type": "display_data",
          "data": {
            "text/plain": [
              "<Figure size 1152x432 with 3 Axes>"
            ],
            "image/png": "[encoded data removed]"
          },
          "metadata": {}
        }
      ],
      "source": [
        "fig = plt.figure(figsize=(16,6))\n",
        "\n",
        "ax1 = fig.add_subplot(1, 3, 1)\n",
        "sns.barplot(x=df.no_of_mem1, y=df.Transported, ax=ax1)\n",
        "\n",
        "ax2 = fig.add_subplot(1, 3, 2)\n",
        "sns.barplot(x=df.no_of_mem2, y=df.Transported, ax=ax2)\n",
        "\n",
        "ax3 = fig.add_subplot(1, 3, 3)\n",
        "sns.barplot(x=df.people_in_group, y=df.Transported, ax=ax3)\n",
        "\n",
        "plt.show()"
      ]
    },
    {
      "cell_type": "markdown",
      "metadata": {
        "id": "s0AT1rwc5tQ6"
      },
      "source": [
        "###Combining the amenities features"
      ]
    },
    {
      "cell_type": "code",
      "execution_count": null,
      "metadata": {
        "id": "EA-Tpy7PXnOX"
      },
      "outputs": [],
      "source": [
        "df[\"shop_bill\"] = df.FoodCourt + df.ShoppingMall\n",
        "df[\"othr_srvc_bill\"] = df.RoomService + df.Spa + df.VRDeck\n",
        "df[\"total_bill\"] = df.RoomService + df.FoodCourt + df.ShoppingMall + df.Spa + df.VRDeck"
      ]
    },
    {
      "cell_type": "code",
      "execution_count": null,
      "metadata": {
        "colab": {
          "base_uri": "https://localhost:8080/",
          "height": 606
        },
        "id": "Sko-XFZl59h4",
        "outputId": "03d31e00-dcf9-4389-f70b-d50af5bcc172"
      },
      "outputs": [
        {
          "output_type": "display_data",
          "data": {
            "text/plain": [
              "<Figure size 720x720 with 3 Axes>"
            ],
            "image/png": "[encoded data removed]"
          },
          "metadata": {}
        }
      ],
      "source": [
        "fig = plt.figure(figsize=(10,10))\n",
        "\n",
        "ax1 = fig.add_subplot(1, 3, 1)\n",
        "sns.histplot(x=df.shop_bill, bins=100, ax=ax1, stat='percent')\n",
        "\n",
        "ax2 = fig.add_subplot(1, 3, 2)\n",
        "sns.histplot(x=df.othr_srvc_bill, bins=100, ax=ax2, stat='percent')\n",
        "\n",
        "ax3 = fig.add_subplot(1, 3, 3)\n",
        "sns.histplot(x=df.total_bill, bins=100, ax=ax3, stat='percent')\n",
        "\n",
        "plt.show()"
      ]
    },
    {
      "cell_type": "markdown",
      "metadata": {
        "id": "NnzGf3AFwSRY"
      },
      "source": [
        "###Lets normalize the numerical columns"
      ]
    },
    {
      "cell_type": "code",
      "execution_count": null,
      "metadata": {
        "id": "Fnx4jzhIwude"
      },
      "outputs": [],
      "source": [
        "from sklearn.preprocessing import StandardScaler, RobustScaler, Normalizer, MinMaxScaler, MaxAbsScaler\n",
        "\n",
        "scaler = MinMaxScaler()\n",
        "\n",
        "for col in df.select_dtypes(include=['float64', 'int64']).columns:\n",
        "  df[col] = scaler.fit_transform(df[col].values.reshape(-1,1))"
      ]
    },
    {
      "cell_type": "code",
      "execution_count": null,
      "metadata": {
        "colab": {
          "base_uri": "https://localhost:8080/",
          "height": 606
        },
        "id": "S2bST7wNxXUr",
        "outputId": "3a3230cd-b67b-4cac-b42e-1ad4e3217654"
      },
      "outputs": [
        {
          "output_type": "display_data",
          "data": {
            "text/plain": [
              "<Figure size 720x720 with 6 Axes>"
            ],
            "image/png": "[encoded data removed]"
          },
          "metadata": {}
        }
      ],
      "source": [
        "fig = plt.figure(figsize=(10,10))\n",
        "\n",
        "ax1 = fig.add_subplot(2, 3, 1)\n",
        "sns.histplot(x=df.RoomService, bins=100, ax=ax1, stat='percent')\n",
        "\n",
        "ax2 = fig.add_subplot(2, 3, 2)\n",
        "sns.histplot(x=df.ShoppingMall, bins=100, ax=ax2, stat='percent')\n",
        "\n",
        "ax3 = fig.add_subplot(2, 3, 3)\n",
        "sns.histplot(x=df.FoodCourt, bins=100, ax=ax3, stat='percent')\n",
        "\n",
        "ax4 = fig.add_subplot(2, 3, 4)\n",
        "sns.histplot(x=df.Spa, bins=100, ax=ax4, stat='percent')\n",
        "\n",
        "ax5 = fig.add_subplot(2, 3, 5)\n",
        "sns.histplot(x=df.VRDeck, bins=100, ax=ax5, stat='percent')\n",
        "\n",
        "ax6 = fig.add_subplot(2, 3, 6)\n",
        "sns.histplot(x=df.Age, bins=30, ax=ax6, stat='percent')\n",
        "\n",
        "plt.show()"
      ]
    },
    {
      "cell_type": "code",
      "execution_count": null,
      "metadata": {
        "colab": {
          "base_uri": "https://localhost:8080/",
          "height": 175
        },
        "id": "FOIeADWS6qpD",
        "outputId": "ab344c13-f561-4f16-b277-660efa536424"
      },
      "outputs": [
        {
          "output_type": "execute_result",
          "data": {
            "text/plain": [
              "       PassengerId HomePlanet    Cabin  Destination       Name    PG  \\\n",
              "count         8693       8693     8693         8693       8693  8693   \n",
              "unique        8693          3     6560            3       2217  6217   \n",
              "top        0001_01      Earth  G/734/S  TRAPPIST-1e  Casonston  4498   \n",
              "freq             1       4710        8         6053         18     8   \n",
              "\n",
              "       Cabin_deck Cabin_num Cabin_side         g_fam  \n",
              "count        8693      8693       8693          8693  \n",
              "unique          8      1817          2          6587  \n",
              "top             F        82          S  Oneiles_5885  \n",
              "freq         2843        28       4393             8  "
            ],
            "text/html": [
              "\n",
              "  <div id=\"df-464418d7-7d10-4f66-bada-44f8bd9cf7f3\">\n",
              "    <div class=\"colab-df-container\">\n",
              "      <div>\n",
              "<style scoped>\n",
              "    .dataframe tbody tr th:only-of-type {\n",
              "        vertical-align: middle;\n",
              "    }\n",
              "\n",
              "    .dataframe tbody tr th {\n",
              "        vertical-align: top;\n",
              "    }\n",
              "\n",
              "    .dataframe thead th {\n",
              "        text-align: right;\n",
              "    }\n",
              "</style>\n",
              "<table border=\"1\" class=\"dataframe\">\n",
              "  <thead>\n",
              "    <tr style=\"text-align: right;\">\n",
              "      <th></th>\n",
              "      <th>PassengerId</th>\n",
              "      <th>HomePlanet</th>\n",
              "      <th>Cabin</th>\n",
              "      <th>Destination</th>\n",
              "      <th>Name</th>\n",
              "      <th>PG</th>\n",
              "      <th>Cabin_deck</th>\n",
              "      <th>Cabin_num</th>\n",
              "      <th>Cabin_side</th>\n",
              "      <th>g_fam</th>\n",
              "    </tr>\n",
              "  </thead>\n",
              "  <tbody>\n",
              "    <tr>\n",
              "      <th>count</th>\n",
              "      <td>8693</td>\n",
              "      <td>8693</td>\n",
              "      <td>8693</td>\n",
              "      <td>8693</td>\n",
              "      <td>8693</td>\n",
              "      <td>8693</td>\n",
              "      <td>8693</td>\n",
              "      <td>8693</td>\n",
              "      <td>8693</td>\n",
              "      <td>8693</td>\n",
              "    </tr>\n",
              "    <tr>\n",
              "      <th>unique</th>\n",
              "      <td>8693</td>\n",
              "      <td>3</td>\n",
              "      <td>6560</td>\n",
              "      <td>3</td>\n",
              "      <td>2217</td>\n",
              "      <td>6217</td>\n",
              "      <td>8</td>\n",
              "      <td>1817</td>\n",
              "      <td>2</td>\n",
              "      <td>6587</td>\n",
              "    </tr>\n",
              "    <tr>\n",
              "      <th>top</th>\n",
              "      <td>0001_01</td>\n",
              "      <td>Earth</td>\n",
              "      <td>G/734/S</td>\n",
              "      <td>TRAPPIST-1e</td>\n",
              "      <td>Casonston</td>\n",
              "      <td>4498</td>\n",
              "      <td>F</td>\n",
              "      <td>82</td>\n",
              "      <td>S</td>\n",
              "      <td>Oneiles_5885</td>\n",
              "    </tr>\n",
              "    <tr>\n",
              "      <th>freq</th>\n",
              "      <td>1</td>\n",
              "      <td>4710</td>\n",
              "      <td>8</td>\n",
              "      <td>6053</td>\n",
              "      <td>18</td>\n",
              "      <td>8</td>\n",
              "      <td>2843</td>\n",
              "      <td>28</td>\n",
              "      <td>4393</td>\n",
              "      <td>8</td>\n",
              "    </tr>\n",
              "  </tbody>\n",
              "</table>\n",
              "</div>\n",
              "      <button class=\"colab-df-convert\" onclick=\"convertToInteractive('df-464418d7-7d10-4f66-bada-44f8bd9cf7f3')\"\n",
              "              title=\"Convert this dataframe to an interactive table.\"\n",
              "              style=\"display:none;\">\n",
              "        \n",
              "  <svg xmlns=\"http://www.w3.org/2000/svg\" height=\"24px\"viewBox=\"0 0 24 24\"\n",
              "       width=\"24px\">\n",
              "    <path d=\"M0 0h24v24H0V0z\" fill=\"none\"/>\n",
              "    <path d=\"M18.56 5.44l.94 2.06.94-2.06 2.06-.94-2.06-.94-.94-2.06-.94 2.06-2.06.94zm-11 1L8.5 8.5l.94-2.06 2.06-.94-2.06-.94L8.5 2.5l-.94 2.06-2.06.94zm10 10l.94 2.06.94-2.06 2.06-.94-2.06-.94-.94-2.06-.94 2.06-2.06.94z\"/><path d=\"M17.41 7.96l-1.37-1.37c-.4-.4-.92-.59-1.43-.59-.52 0-1.04.2-1.43.59L10.3 9.45l-7.72 7.72c-.78.78-.78 2.05 0 2.83L4 21.41c.39.39.9.59 1.41.59.51 0 1.02-.2 1.41-.59l7.78-7.78 2.81-2.81c.8-.78.8-2.07 0-2.86zM5.41 20L4 18.59l7.72-7.72 1.47 1.35L5.41 20z\"/>\n",
              "  </svg>\n",
              "      </button>\n",
              "      \n",
              "  <style>\n",
              "    .colab-df-container {\n",
              "      display:flex;\n",
              "      flex-wrap:wrap;\n",
              "      gap: 12px;\n",
              "    }\n",
              "\n",
              "    .colab-df-convert {\n",
              "      background-color: #E8F0FE;\n",
              "      border: none;\n",
              "      border-radius: 50%;\n",
              "      cursor: pointer;\n",
              "      display: none;\n",
              "      fill: #1967D2;\n",
              "      height: 32px;\n",
              "      padding: 0 0 0 0;\n",
              "      width: 32px;\n",
              "    }\n",
              "\n",
              "    .colab-df-convert:hover {\n",
              "      background-color: #E2EBFA;\n",
              "      box-shadow: 0px 1px 2px rgba(60, 64, 67, 0.3), 0px 1px 3px 1px rgba(60, 64, 67, 0.15);\n",
              "      fill: #174EA6;\n",
              "    }\n",
              "\n",
              "    [theme=dark] .colab-df-convert {\n",
              "      background-color: #3B4455;\n",
              "      fill: #D2E3FC;\n",
              "    }\n",
              "\n",
              "    [theme=dark] .colab-df-convert:hover {\n",
              "      background-color: #434B5C;\n",
              "      box-shadow: 0px 1px 3px 1px rgba(0, 0, 0, 0.15);\n",
              "      filter: drop-shadow(0px 1px 2px rgba(0, 0, 0, 0.3));\n",
              "      fill: #FFFFFF;\n",
              "    }\n",
              "  </style>\n",
              "\n",
              "      <script>\n",
              "        const buttonEl =\n",
              "          document.querySelector('#df-464418d7-7d10-4f66-bada-44f8bd9cf7f3 button.colab-df-convert');\n",
              "        buttonEl.style.display =\n",
              "          google.colab.kernel.accessAllowed ? 'block' : 'none';\n",
              "\n",
              "        async function convertToInteractive(key) {\n",
              "          const element = document.querySelector('#df-464418d7-7d10-4f66-bada-44f8bd9cf7f3');\n",
              "          const dataTable =\n",
              "            await google.colab.kernel.invokeFunction('convertToInteractive',\n",
              "                                                     [key], {});\n",
              "          if (!dataTable) return;\n",
              "\n",
              "          const docLinkHtml = 'Like what you see? Visit the ' +\n",
              "            '<a target=\"_blank\" href=https://colab.research.google.com/notebooks/data_table.ipynb>data table notebook</a>'\n",
              "            + ' to learn more about interactive tables.';\n",
              "          element.innerHTML = '';\n",
              "          dataTable['output_type'] = 'display_data';\n",
              "          await google.colab.output.renderOutput(dataTable, element);\n",
              "          const docLink = document.createElement('div');\n",
              "          docLink.innerHTML = docLinkHtml;\n",
              "          element.appendChild(docLink);\n",
              "        }\n",
              "      </script>\n",
              "    </div>\n",
              "  </div>\n",
              "  "
            ]
          },
          "metadata": {},
          "execution_count": 47
        }
      ],
      "source": [
        "df.describe(include='object')"
      ]
    },
    {
      "cell_type": "markdown",
      "metadata": {
        "id": "ke9WU9zS758z"
      },
      "source": [
        "###PassengerId, Cabin, Name, PG, Cabin_num and g_fam are not that usefull. Drop them"
      ]
    },
    {
      "cell_type": "code",
      "execution_count": null,
      "metadata": {
        "id": "ZU6JG6hJ8MKg"
      },
      "outputs": [],
      "source": [
        "df = df.drop(columns=['PassengerId', 'Cabin', 'Name', 'PG', 'Cabin_num', 'g_fam'])"
      ]
    },
    {
      "cell_type": "code",
      "execution_count": null,
      "metadata": {
        "colab": {
          "base_uri": "https://localhost:8080/",
          "height": 386
        },
        "id": "9fWRnWu-8bp1",
        "outputId": "c7a90456-544b-4a90-91af-5acaaa687e21"
      },
      "outputs": [
        {
          "output_type": "execute_result",
          "data": {
            "text/plain": [
              "  HomePlanet  CryoSleep  Destination       Age    VIP  RoomService  FoodCourt  \\\n",
              "0     Europa      False  TRAPPIST-1e  0.493671  False     0.000000   0.000000   \n",
              "1      Earth      False  TRAPPIST-1e  0.303797  False     0.007608   0.000302   \n",
              "2     Europa      False  TRAPPIST-1e  0.734177   True     0.003001   0.119948   \n",
              "3     Europa      False  TRAPPIST-1e  0.417722  False     0.000000   0.043035   \n",
              "4      Earth      False  TRAPPIST-1e  0.202532  False     0.021149   0.002348   \n",
              "\n",
              "   ShoppingMall       Spa    VRDeck  ...  Cabin_deck Cabin_side  \\\n",
              "0      0.000000  0.000000  0.000000  ...           B          P   \n",
              "1      0.001064  0.024500  0.001823  ...           F          S   \n",
              "2      0.000000  0.299670  0.002030  ...           A          S   \n",
              "3      0.015793  0.148563  0.007997  ...           A          S   \n",
              "4      0.006428  0.025214  0.000083  ...           F          S   \n",
              "\n",
              "  people_in_cabin   Age_binned no_of_mem1  no_of_mem2  people_in_group  \\\n",
              "0        0.000000        adult   0.000000    0.000000         0.000000   \n",
              "1        0.000000        adult   0.176471    0.000000         0.000000   \n",
              "2        0.142857  middle-aged   0.294118    0.142857         0.142857   \n",
              "3        0.142857        adult   0.294118    0.142857         0.142857   \n",
              "4        0.000000     teenager   0.294118    0.000000         0.000000   \n",
              "\n",
              "   shop_bill  othr_srvc_bill  total_bill  \n",
              "0   0.000000        0.000000    0.000000  \n",
              "1   0.001140        0.024545    0.020452  \n",
              "2   0.119948        0.238007    0.288521  \n",
              "3   0.055479        0.123147    0.143830  \n",
              "4   0.007413        0.030420    0.030317  \n",
              "\n",
              "[5 rows x 21 columns]"
            ],
            "text/html": [
              "\n",
              "  <div id=\"df-72040af5-5349-47e6-9dc9-d35caea2e1e0\">\n",
              "    <div class=\"colab-df-container\">\n",
              "      <div>\n",
              "<style scoped>\n",
              "    .dataframe tbody tr th:only-of-type {\n",
              "        vertical-align: middle;\n",
              "    }\n",
              "\n",
              "    .dataframe tbody tr th {\n",
              "        vertical-align: top;\n",
              "    }\n",
              "\n",
              "    .dataframe thead th {\n",
              "        text-align: right;\n",
              "    }\n",
              "</style>\n",
              "<table border=\"1\" class=\"dataframe\">\n",
              "  <thead>\n",
              "    <tr style=\"text-align: right;\">\n",
              "      <th></th>\n",
              "      <th>HomePlanet</th>\n",
              "      <th>CryoSleep</th>\n",
              "      <th>Destination</th>\n",
              "      <th>Age</th>\n",
              "      <th>VIP</th>\n",
              "      <th>RoomService</th>\n",
              "      <th>FoodCourt</th>\n",
              "      <th>ShoppingMall</th>\n",
              "      <th>Spa</th>\n",
              "      <th>VRDeck</th>\n",
              "      <th>...</th>\n",
              "      <th>Cabin_deck</th>\n",
              "      <th>Cabin_side</th>\n",
              "      <th>people_in_cabin</th>\n",
              "      <th>Age_binned</th>\n",
              "      <th>no_of_mem1</th>\n",
              "      <th>no_of_mem2</th>\n",
              "      <th>people_in_group</th>\n",
              "      <th>shop_bill</th>\n",
              "      <th>othr_srvc_bill</th>\n",
              "      <th>total_bill</th>\n",
              "    </tr>\n",
              "  </thead>\n",
              "  <tbody>\n",
              "    <tr>\n",
              "      <th>0</th>\n",
              "      <td>Europa</td>\n",
              "      <td>False</td>\n",
              "      <td>TRAPPIST-1e</td>\n",
              "      <td>0.493671</td>\n",
              "      <td>False</td>\n",
              "      <td>0.000000</td>\n",
              "      <td>0.000000</td>\n",
              "      <td>0.000000</td>\n",
              "      <td>0.000000</td>\n",
              "      <td>0.000000</td>\n",
              "      <td>...</td>\n",
              "      <td>B</td>\n",
              "      <td>P</td>\n",
              "      <td>0.000000</td>\n",
              "      <td>adult</td>\n",
              "      <td>0.000000</td>\n",
              "      <td>0.000000</td>\n",
              "      <td>0.000000</td>\n",
              "      <td>0.000000</td>\n",
              "      <td>0.000000</td>\n",
              "      <td>0.000000</td>\n",
              "    </tr>\n",
              "    <tr>\n",
              "      <th>1</th>\n",
              "      <td>Earth</td>\n",
              "      <td>False</td>\n",
              "      <td>TRAPPIST-1e</td>\n",
              "      <td>0.303797</td>\n",
              "      <td>False</td>\n",
              "      <td>0.007608</td>\n",
              "      <td>0.000302</td>\n",
              "      <td>0.001064</td>\n",
              "      <td>0.024500</td>\n",
              "      <td>0.001823</td>\n",
              "      <td>...</td>\n",
              "      <td>F</td>\n",
              "      <td>S</td>\n",
              "      <td>0.000000</td>\n",
              "      <td>adult</td>\n",
              "      <td>0.176471</td>\n",
              "      <td>0.000000</td>\n",
              "      <td>0.000000</td>\n",
              "      <td>0.001140</td>\n",
              "      <td>0.024545</td>\n",
              "      <td>0.020452</td>\n",
              "    </tr>\n",
              "    <tr>\n",
              "      <th>2</th>\n",
              "      <td>Europa</td>\n",
              "      <td>False</td>\n",
              "      <td>TRAPPIST-1e</td>\n",
              "      <td>0.734177</td>\n",
              "      <td>True</td>\n",
              "      <td>0.003001</td>\n",
              "      <td>0.119948</td>\n",
              "      <td>0.000000</td>\n",
              "      <td>0.299670</td>\n",
              "      <td>0.002030</td>\n",
              "      <td>...</td>\n",
              "      <td>A</td>\n",
              "      <td>S</td>\n",
              "      <td>0.142857</td>\n",
              "      <td>middle-aged</td>\n",
              "      <td>0.294118</td>\n",
              "      <td>0.142857</td>\n",
              "      <td>0.142857</td>\n",
              "      <td>0.119948</td>\n",
              "      <td>0.238007</td>\n",
              "      <td>0.288521</td>\n",
              "    </tr>\n",
              "    <tr>\n",
              "      <th>3</th>\n",
              "      <td>Europa</td>\n",
              "      <td>False</td>\n",
              "      <td>TRAPPIST-1e</td>\n",
              "      <td>0.417722</td>\n",
              "      <td>False</td>\n",
              "      <td>0.000000</td>\n",
              "      <td>0.043035</td>\n",
              "      <td>0.015793</td>\n",
              "      <td>0.148563</td>\n",
              "      <td>0.007997</td>\n",
              "      <td>...</td>\n",
              "      <td>A</td>\n",
              "      <td>S</td>\n",
              "      <td>0.142857</td>\n",
              "      <td>adult</td>\n",
              "      <td>0.294118</td>\n",
              "      <td>0.142857</td>\n",
              "      <td>0.142857</td>\n",
              "      <td>0.055479</td>\n",
              "      <td>0.123147</td>\n",
              "      <td>0.143830</td>\n",
              "    </tr>\n",
              "    <tr>\n",
              "      <th>4</th>\n",
              "      <td>Earth</td>\n",
              "      <td>False</td>\n",
              "      <td>TRAPPIST-1e</td>\n",
              "      <td>0.202532</td>\n",
              "      <td>False</td>\n",
              "      <td>0.021149</td>\n",
              "      <td>0.002348</td>\n",
              "      <td>0.006428</td>\n",
              "      <td>0.025214</td>\n",
              "      <td>0.000083</td>\n",
              "      <td>...</td>\n",
              "      <td>F</td>\n",
              "      <td>S</td>\n",
              "      <td>0.000000</td>\n",
              "      <td>teenager</td>\n",
              "      <td>0.294118</td>\n",
              "      <td>0.000000</td>\n",
              "      <td>0.000000</td>\n",
              "      <td>0.007413</td>\n",
              "      <td>0.030420</td>\n",
              "      <td>0.030317</td>\n",
              "    </tr>\n",
              "  </tbody>\n",
              "</table>\n",
              "<p>5 rows × 21 columns</p>\n",
              "</div>\n",
              "      <button class=\"colab-df-convert\" onclick=\"convertToInteractive('df-72040af5-5349-47e6-9dc9-d35caea2e1e0')\"\n",
              "              title=\"Convert this dataframe to an interactive table.\"\n",
              "              style=\"display:none;\">\n",
              "        \n",
              "  <svg xmlns=\"http://www.w3.org/2000/svg\" height=\"24px\"viewBox=\"0 0 24 24\"\n",
              "       width=\"24px\">\n",
              "    <path d=\"M0 0h24v24H0V0z\" fill=\"none\"/>\n",
              "    <path d=\"M18.56 5.44l.94 2.06.94-2.06 2.06-.94-2.06-.94-.94-2.06-.94 2.06-2.06.94zm-11 1L8.5 8.5l.94-2.06 2.06-.94-2.06-.94L8.5 2.5l-.94 2.06-2.06.94zm10 10l.94 2.06.94-2.06 2.06-.94-2.06-.94-.94-2.06-.94 2.06-2.06.94z\"/><path d=\"M17.41 7.96l-1.37-1.37c-.4-.4-.92-.59-1.43-.59-.52 0-1.04.2-1.43.59L10.3 9.45l-7.72 7.72c-.78.78-.78 2.05 0 2.83L4 21.41c.39.39.9.59 1.41.59.51 0 1.02-.2 1.41-.59l7.78-7.78 2.81-2.81c.8-.78.8-2.07 0-2.86zM5.41 20L4 18.59l7.72-7.72 1.47 1.35L5.41 20z\"/>\n",
              "  </svg>\n",
              "      </button>\n",
              "      \n",
              "  <style>\n",
              "    .colab-df-container {\n",
              "      display:flex;\n",
              "      flex-wrap:wrap;\n",
              "      gap: 12px;\n",
              "    }\n",
              "\n",
              "    .colab-df-convert {\n",
              "      background-color: #E8F0FE;\n",
              "      border: none;\n",
              "      border-radius: 50%;\n",
              "      cursor: pointer;\n",
              "      display: none;\n",
              "      fill: #1967D2;\n",
              "      height: 32px;\n",
              "      padding: 0 0 0 0;\n",
              "      width: 32px;\n",
              "    }\n",
              "\n",
              "    .colab-df-convert:hover {\n",
              "      background-color: #E2EBFA;\n",
              "      box-shadow: 0px 1px 2px rgba(60, 64, 67, 0.3), 0px 1px 3px 1px rgba(60, 64, 67, 0.15);\n",
              "      fill: #174EA6;\n",
              "    }\n",
              "\n",
              "    [theme=dark] .colab-df-convert {\n",
              "      background-color: #3B4455;\n",
              "      fill: #D2E3FC;\n",
              "    }\n",
              "\n",
              "    [theme=dark] .colab-df-convert:hover {\n",
              "      background-color: #434B5C;\n",
              "      box-shadow: 0px 1px 3px 1px rgba(0, 0, 0, 0.15);\n",
              "      filter: drop-shadow(0px 1px 2px rgba(0, 0, 0, 0.3));\n",
              "      fill: #FFFFFF;\n",
              "    }\n",
              "  </style>\n",
              "\n",
              "      <script>\n",
              "        const buttonEl =\n",
              "          document.querySelector('#df-72040af5-5349-47e6-9dc9-d35caea2e1e0 button.colab-df-convert');\n",
              "        buttonEl.style.display =\n",
              "          google.colab.kernel.accessAllowed ? 'block' : 'none';\n",
              "\n",
              "        async function convertToInteractive(key) {\n",
              "          const element = document.querySelector('#df-72040af5-5349-47e6-9dc9-d35caea2e1e0');\n",
              "          const dataTable =\n",
              "            await google.colab.kernel.invokeFunction('convertToInteractive',\n",
              "                                                     [key], {});\n",
              "          if (!dataTable) return;\n",
              "\n",
              "          const docLinkHtml = 'Like what you see? Visit the ' +\n",
              "            '<a target=\"_blank\" href=https://colab.research.google.com/notebooks/data_table.ipynb>data table notebook</a>'\n",
              "            + ' to learn more about interactive tables.';\n",
              "          element.innerHTML = '';\n",
              "          dataTable['output_type'] = 'display_data';\n",
              "          await google.colab.output.renderOutput(dataTable, element);\n",
              "          const docLink = document.createElement('div');\n",
              "          docLink.innerHTML = docLinkHtml;\n",
              "          element.appendChild(docLink);\n",
              "        }\n",
              "      </script>\n",
              "    </div>\n",
              "  </div>\n",
              "  "
            ]
          },
          "metadata": {},
          "execution_count": 49
        }
      ],
      "source": [
        "df.head()"
      ]
    },
    {
      "cell_type": "markdown",
      "metadata": {
        "id": "8hQttXNsgU9d"
      },
      "source": [
        "# Create a function to do all the above transformation"
      ]
    },
    {
      "cell_type": "code",
      "execution_count": null,
      "metadata": {
        "id": "i2VhVks2TX_1"
      },
      "outputs": [],
      "source": [
        "from pandas.io.formats.info import DataFrameInfoPrinter\n",
        "def fix_missing_data(df: pd.DataFrame, dft='train')->pd.DataFrame:\n",
        "  import random\n",
        "  \n",
        "  df[\"Name\"] = df.Name.str.split().str[-1]\n",
        "  df['PG'] = df.PassengerId.str.split('_').str[0]\n",
        "\n",
        "  ## HomePlanet\n",
        "  probs = df.HomePlanet.value_counts()/ df.HomePlanet.count()\n",
        "  def fill_HomePlanet(x):\n",
        "    if not pd.isnull(x.HomePlanet):\n",
        "      return x.HomePlanet\n",
        "\n",
        "    v1 = df.HomePlanet[df.PG==x.PG].dropna().mode()\n",
        "    if v1.shape[0]>0:\n",
        "      return v1[0]\n",
        "\n",
        "    v2 = df.HomePlanet[df.Name==x.Name].dropna().mode()\n",
        "    if v2.shape[0]>0:\n",
        "      return v2[0] \n",
        "    return random.choices(probs.keys(), probs.values)[0]\n",
        "  df.HomePlanet = df.apply(fill_HomePlanet, axis=1)\n",
        "\n",
        "  ## CryoSleep\n",
        "  probs = df.CryoSleep.value_counts()/ df.CryoSleep.count()\n",
        "  if dft=='train':\n",
        "    p_tr = df.CryoSleep[df.Transported == False].value_counts()/df.CryoSleep[df.Transported == False].count()\n",
        "  p_dest = df.CryoSleep[df.Destination=='TRAPPIST-1e'].value_counts()/df.CryoSleep[df.Destination=='TRAPPIST-1e'].count()\n",
        "  def fill_CryoSleep(x):\n",
        "    if not pd.isnull(x.CryoSleep):\n",
        "      return x.CryoSleep\n",
        "    \n",
        "    if any((x.VRDeck, x.ShoppingMall, x.RoomService, x.FoodCourt, x.Spa))>0:\n",
        "      return False\n",
        "    if dft == 'train' and x.Transported == False:\n",
        "      return random.choices(p_tr.keys(), p_tr.values)[0]\n",
        "    if x.Destination == 'TRAPPIST-1e':\n",
        "      return random.choices(p_dest.keys(), p_dest.values)[0]\n",
        "    \n",
        "    return random.choices(probs.keys(), probs.values)[0]\n",
        "  df.CryoSleep = df.apply(fill_CryoSleep, axis=1)\n",
        "\n",
        "  ## Cabin\n",
        "  probs = df.Cabin.value_counts()/ df.Cabin.count()\n",
        "  def fill_Cabin(x):\n",
        "    if not pd.isnull(x.Cabin):\n",
        "      return x.Cabin\n",
        "    v = df.Cabin[df.PG == x.PG].dropna().mode()\n",
        "    if v.shape[0]>0:\n",
        "      return v[0]\n",
        "    return random.choices(probs.keys(), probs.values)[0]\n",
        "  df.Cabin = df.apply(fill_Cabin, axis=1)\n",
        "    \n",
        "  ## Destination\n",
        "  probs = df.Destination.value_counts()/ df.Destination.count()\n",
        "  df.Destination = df.apply(lambda x: random.choices(probs.keys(), probs.values)[0] if pd.isnull(x.Destination) else x.Destination, axis=1)\n",
        "\n",
        "  ## VIP\n",
        "  probs = df.VIP.value_counts()/ df.VIP.count()\n",
        "  df.VIP = df.apply(lambda x: random.choices(probs.keys(), probs.values)[0] if pd.isnull(x.VIP) else x.VIP, axis=1)\n",
        "\n",
        "  ## Name\n",
        "  probs = df.Name.value_counts()/ df.Name.count()\n",
        "  df.Name = df.apply(lambda x: random.choices(probs.keys(), probs.values)[0] if pd.isnull(x.Name) else x.Name, axis=1)\n",
        "\n",
        "  ## Numerical Columns\n",
        "  def fill_using_cryoSleep(x):\n",
        "    if x.CryoSleep == True:\n",
        "      if pd.isnull(x.RoomService):\n",
        "        x.RoomService = 0\n",
        "      if pd.isnull(x.ShoppingMall):\n",
        "        x.ShoppingMall = 0\n",
        "      if pd.isnull(x.FoodCourt):\n",
        "        x.FoodCourt = 0\n",
        "      if pd.isnull(x.Spa):\n",
        "        x.Spa = 0\n",
        "      if pd.isnull(x.VRDeck):\n",
        "        x.VRDeck = 0\n",
        "    return x\n",
        "  df = df.apply(fill_using_cryoSleep, axis = 1)\n",
        "\n",
        "  ## Using mean for Age and median for others\n",
        "  for col in df.select_dtypes(include=['float64', 'int64']).columns:\n",
        "    if col=='Age':\n",
        "      df[col] = df[col].fillna(df[col].mean())\n",
        "    else:\n",
        "      df[col] = df[col].fillna(df[col].median())\n",
        "  \n",
        "  return df\n",
        "\n",
        "def create_features(df: pd.DataFrame)->pd.DataFrame:\n",
        "  ## Creating new features\n",
        "  bins = [0, 10, 20, 40, 60, 80]\n",
        "  labels = [\"child\", \"teenager\", \"adult\", \"middle-aged\", \"old\"]\n",
        "  df[\"Age_binned\"] = pd.cut(df.Age, bins, labels=labels, right=False)\n",
        "\n",
        "  df[\"Cabin_deck\"] = df.Cabin.str.split(\"/\").str[0]\n",
        "  df[\"Cabin_num\"] = df.Cabin.str.split('/').str[1]\n",
        "  df[\"Cabin_side\"] = df.Cabin.str.split('/').str[2]\n",
        "  df[\"people_in_cabin\"] = df.Cabin.map(df.Cabin.value_counts())\n",
        "  df['people_in_group'] = df.PG.map(df.PG.value_counts(normalize=False))\n",
        "\n",
        "  df[\"g_fam\"] = df.Name + '_' + df.PG\n",
        "  df['no_of_mem1'] = df.Name.map(df.Name.value_counts(normalize=False))\n",
        "  df['no_of_mem2'] = df.g_fam.map(df.g_fam.value_counts(normalize=False))\n",
        "\n",
        "  df[\"shop_bill\"] = df.FoodCourt + df.ShoppingMall\n",
        "  df[\"othr_srvc_bill\"] = df.RoomService + df.Spa + df.VRDeck\n",
        "  df[\"total_bill\"] = df.RoomService + df.FoodCourt + df.ShoppingMall + df.Spa + df.VRDeck\n",
        "\n",
        "  return df\n",
        "\n",
        "def normalize(df: pd.DataFrame)->pd.DataFrame:\n",
        "  from sklearn.preprocessing import MinMaxScaler, RobustScaler\n",
        "\n",
        "  scaler = MinMaxScaler()\n",
        "\n",
        "  for col in df.select_dtypes(include=['float64', 'int64']).columns:\n",
        "    df[col] = scaler.fit_transform(df[col].values.reshape(-1,1))\n",
        "\n",
        "  return df\n",
        "\n",
        "def drop_features(df: pd.DataFrame)->pd.DataFrame:\n",
        "  df = df.drop(columns=['PassengerId', 'Cabin', 'Name', 'PG', 'Cabin_num', 'g_fam'])\n",
        "  return df\n",
        "\n",
        "def encode_categorical_columns(df: pd.DataFrame)->pd.DataFrame:\n",
        "  ## Encode categorical columns\n",
        "  categorical_cols = df.select_dtypes(include = ['object', 'category'])\n",
        "\n",
        "  from sklearn.compose import ColumnTransformer\n",
        "  from sklearn.preprocessing import OneHotEncoder, OrdinalEncoder\n",
        "\n",
        "  encoder = OrdinalEncoder()\n",
        "  df[categorical_cols.columns] = encoder.fit_transform(categorical_cols)\n",
        "\n",
        "  return df\n",
        "\n",
        "def pipeline(dataframe: pd.DataFrame, dft='train')->pd.DataFrame:\n",
        "  df = dataframe[:]\n",
        "  df = fix_missing_data(df, dft)\n",
        "  df = create_features(df)\n",
        "  #df = normalize(df)\n",
        "  df = drop_features(df)\n",
        "  df = encode_categorical_columns(df)\n",
        "  return df\n",
        "  "
      ]
    },
    {
      "cell_type": "markdown",
      "metadata": {
        "id": "-KNok7txsum3"
      },
      "source": [
        "#Model Selection"
      ]
    },
    {
      "cell_type": "code",
      "execution_count": null,
      "metadata": {
        "id": "K7RbW0FTggp5"
      },
      "outputs": [],
      "source": [
        "train_df = pipeline(pd.read_csv(\"train.csv\"))\n",
        "test_df = pd.read_csv(\"test.csv\")"
      ]
    },
    {
      "cell_type": "code",
      "execution_count": null,
      "metadata": {
        "colab": {
          "base_uri": "https://localhost:8080/",
          "height": 364
        },
        "id": "PqCyl1FWiOWw",
        "outputId": "838623ef-8ddc-49b8-d48b-17aa4f12d75c"
      },
      "outputs": [
        {
          "output_type": "execute_result",
          "data": {
            "text/plain": [
              "        HomePlanet  Destination          Age  RoomService    FoodCourt  \\\n",
              "count  8693.000000  8693.000000  8693.000000  8693.000000  8693.000000   \n",
              "mean      0.666053     1.483838     0.107525     5.366081     7.351377   \n",
              "std       0.798897     0.820174     0.843474    16.110221    26.160502   \n",
              "min       0.000000     0.000000    -1.588235     0.000000     0.000000   \n",
              "25%       0.000000     1.000000    -0.411765     0.000000     0.000000   \n",
              "50%       0.000000     2.000000     0.000000     0.000000     0.000000   \n",
              "75%       1.000000     2.000000     0.588235     1.000000     1.000000   \n",
              "max       2.000000     2.000000     3.058824   349.439024   488.737705   \n",
              "\n",
              "       ShoppingMall          Spa       VRDeck   Age_binned   Cabin_deck  \\\n",
              "count   8693.000000  8693.000000  8693.000000  8693.000000  8693.000000   \n",
              "mean       7.707832     5.746960     7.456545     1.215576     4.296330   \n",
              "std       27.182144    21.237029    28.353160     1.524611     1.783129   \n",
              "min        0.000000     0.000000     0.000000     0.000000     0.000000   \n",
              "25%        0.000000     0.000000     0.000000     0.000000     3.000000   \n",
              "50%        0.000000     0.000000     0.000000     0.000000     5.000000   \n",
              "75%        1.000000     1.000000     1.000000     2.000000     6.000000   \n",
              "max     1067.818182   422.792453   603.325000     4.000000     7.000000   \n",
              "\n",
              "        Cabin_side  people_in_cabin  people_in_group   no_of_mem1  \\\n",
              "count  8693.000000      8693.000000      8693.000000  8693.000000   \n",
              "mean      0.504889         0.862073         0.517773     0.147015   \n",
              "std       0.500005         1.436716         0.798173     0.751321   \n",
              "min       0.000000         0.000000         0.000000    -1.000000   \n",
              "25%       0.000000         0.000000         0.000000    -0.500000   \n",
              "50%       1.000000         0.000000         0.000000     0.000000   \n",
              "75%       1.000000         1.000000         1.000000     0.500000   \n",
              "max       1.000000         8.000000         3.500000     3.250000   \n",
              "\n",
              "        no_of_mem2    shop_bill  othr_srvc_bill   total_bill  \n",
              "count  8693.000000  8693.000000     8693.000000  8693.000000  \n",
              "mean      0.775336     1.028344        0.900778     0.503030  \n",
              "std       1.269407     2.827435        2.159095     1.945209  \n",
              "min       0.000000    -0.001667       -0.069575    -0.496877  \n",
              "25%       0.000000    -0.001667       -0.069575    -0.496877  \n",
              "50%       0.000000     0.000000        0.000000     0.000000  \n",
              "75%       1.000000     0.998333        0.930425     0.503123  \n",
              "max       7.000000    49.686667       33.656840    24.476752  "
            ],
            "text/html": [
              "\n",
              "  <div id=\"df-ff870c17-f53b-4795-84c7-298b0a98342e\">\n",
              "    <div class=\"colab-df-container\">\n",
              "      <div>\n",
              "<style scoped>\n",
              "    .dataframe tbody tr th:only-of-type {\n",
              "        vertical-align: middle;\n",
              "    }\n",
              "\n",
              "    .dataframe tbody tr th {\n",
              "        vertical-align: top;\n",
              "    }\n",
              "\n",
              "    .dataframe thead th {\n",
              "        text-align: right;\n",
              "    }\n",
              "</style>\n",
              "<table border=\"1\" class=\"dataframe\">\n",
              "  <thead>\n",
              "    <tr style=\"text-align: right;\">\n",
              "      <th></th>\n",
              "      <th>HomePlanet</th>\n",
              "      <th>Destination</th>\n",
              "      <th>Age</th>\n",
              "      <th>RoomService</th>\n",
              "      <th>FoodCourt</th>\n",
              "      <th>ShoppingMall</th>\n",
              "      <th>Spa</th>\n",
              "      <th>VRDeck</th>\n",
              "      <th>Age_binned</th>\n",
              "      <th>Cabin_deck</th>\n",
              "      <th>Cabin_side</th>\n",
              "      <th>people_in_cabin</th>\n",
              "      <th>people_in_group</th>\n",
              "      <th>no_of_mem1</th>\n",
              "      <th>no_of_mem2</th>\n",
              "      <th>shop_bill</th>\n",
              "      <th>othr_srvc_bill</th>\n",
              "      <th>total_bill</th>\n",
              "    </tr>\n",
              "  </thead>\n",
              "  <tbody>\n",
              "    <tr>\n",
              "      <th>count</th>\n",
              "      <td>8693.000000</td>\n",
              "      <td>8693.000000</td>\n",
              "      <td>8693.000000</td>\n",
              "      <td>8693.000000</td>\n",
              "      <td>8693.000000</td>\n",
              "      <td>8693.000000</td>\n",
              "      <td>8693.000000</td>\n",
              "      <td>8693.000000</td>\n",
              "      <td>8693.000000</td>\n",
              "      <td>8693.000000</td>\n",
              "      <td>8693.000000</td>\n",
              "      <td>8693.000000</td>\n",
              "      <td>8693.000000</td>\n",
              "      <td>8693.000000</td>\n",
              "      <td>8693.000000</td>\n",
              "      <td>8693.000000</td>\n",
              "      <td>8693.000000</td>\n",
              "      <td>8693.000000</td>\n",
              "    </tr>\n",
              "    <tr>\n",
              "      <th>mean</th>\n",
              "      <td>0.666053</td>\n",
              "      <td>1.483838</td>\n",
              "      <td>0.107525</td>\n",
              "      <td>5.366081</td>\n",
              "      <td>7.351377</td>\n",
              "      <td>7.707832</td>\n",
              "      <td>5.746960</td>\n",
              "      <td>7.456545</td>\n",
              "      <td>1.215576</td>\n",
              "      <td>4.296330</td>\n",
              "      <td>0.504889</td>\n",
              "      <td>0.862073</td>\n",
              "      <td>0.517773</td>\n",
              "      <td>0.147015</td>\n",
              "      <td>0.775336</td>\n",
              "      <td>1.028344</td>\n",
              "      <td>0.900778</td>\n",
              "      <td>0.503030</td>\n",
              "    </tr>\n",
              "    <tr>\n",
              "      <th>std</th>\n",
              "      <td>0.798897</td>\n",
              "      <td>0.820174</td>\n",
              "      <td>0.843474</td>\n",
              "      <td>16.110221</td>\n",
              "      <td>26.160502</td>\n",
              "      <td>27.182144</td>\n",
              "      <td>21.237029</td>\n",
              "      <td>28.353160</td>\n",
              "      <td>1.524611</td>\n",
              "      <td>1.783129</td>\n",
              "      <td>0.500005</td>\n",
              "      <td>1.436716</td>\n",
              "      <td>0.798173</td>\n",
              "      <td>0.751321</td>\n",
              "      <td>1.269407</td>\n",
              "      <td>2.827435</td>\n",
              "      <td>2.159095</td>\n",
              "      <td>1.945209</td>\n",
              "    </tr>\n",
              "    <tr>\n",
              "      <th>min</th>\n",
              "      <td>0.000000</td>\n",
              "      <td>0.000000</td>\n",
              "      <td>-1.588235</td>\n",
              "      <td>0.000000</td>\n",
              "      <td>0.000000</td>\n",
              "      <td>0.000000</td>\n",
              "      <td>0.000000</td>\n",
              "      <td>0.000000</td>\n",
              "      <td>0.000000</td>\n",
              "      <td>0.000000</td>\n",
              "      <td>0.000000</td>\n",
              "      <td>0.000000</td>\n",
              "      <td>0.000000</td>\n",
              "      <td>-1.000000</td>\n",
              "      <td>0.000000</td>\n",
              "      <td>-0.001667</td>\n",
              "      <td>-0.069575</td>\n",
              "      <td>-0.496877</td>\n",
              "    </tr>\n",
              "    <tr>\n",
              "      <th>25%</th>\n",
              "      <td>0.000000</td>\n",
              "      <td>1.000000</td>\n",
              "      <td>-0.411765</td>\n",
              "      <td>0.000000</td>\n",
              "      <td>0.000000</td>\n",
              "      <td>0.000000</td>\n",
              "      <td>0.000000</td>\n",
              "      <td>0.000000</td>\n",
              "      <td>0.000000</td>\n",
              "      <td>3.000000</td>\n",
              "      <td>0.000000</td>\n",
              "      <td>0.000000</td>\n",
              "      <td>0.000000</td>\n",
              "      <td>-0.500000</td>\n",
              "      <td>0.000000</td>\n",
              "      <td>-0.001667</td>\n",
              "      <td>-0.069575</td>\n",
              "      <td>-0.496877</td>\n",
              "    </tr>\n",
              "    <tr>\n",
              "      <th>50%</th>\n",
              "      <td>0.000000</td>\n",
              "      <td>2.000000</td>\n",
              "      <td>0.000000</td>\n",
              "      <td>0.000000</td>\n",
              "      <td>0.000000</td>\n",
              "      <td>0.000000</td>\n",
              "      <td>0.000000</td>\n",
              "      <td>0.000000</td>\n",
              "      <td>0.000000</td>\n",
              "      <td>5.000000</td>\n",
              "      <td>1.000000</td>\n",
              "      <td>0.000000</td>\n",
              "      <td>0.000000</td>\n",
              "      <td>0.000000</td>\n",
              "      <td>0.000000</td>\n",
              "      <td>0.000000</td>\n",
              "      <td>0.000000</td>\n",
              "      <td>0.000000</td>\n",
              "    </tr>\n",
              "    <tr>\n",
              "      <th>75%</th>\n",
              "      <td>1.000000</td>\n",
              "      <td>2.000000</td>\n",
              "      <td>0.588235</td>\n",
              "      <td>1.000000</td>\n",
              "      <td>1.000000</td>\n",
              "      <td>1.000000</td>\n",
              "      <td>1.000000</td>\n",
              "      <td>1.000000</td>\n",
              "      <td>2.000000</td>\n",
              "      <td>6.000000</td>\n",
              "      <td>1.000000</td>\n",
              "      <td>1.000000</td>\n",
              "      <td>1.000000</td>\n",
              "      <td>0.500000</td>\n",
              "      <td>1.000000</td>\n",
              "      <td>0.998333</td>\n",
              "      <td>0.930425</td>\n",
              "      <td>0.503123</td>\n",
              "    </tr>\n",
              "    <tr>\n",
              "      <th>max</th>\n",
              "      <td>2.000000</td>\n",
              "      <td>2.000000</td>\n",
              "      <td>3.058824</td>\n",
              "      <td>349.439024</td>\n",
              "      <td>488.737705</td>\n",
              "      <td>1067.818182</td>\n",
              "      <td>422.792453</td>\n",
              "      <td>603.325000</td>\n",
              "      <td>4.000000</td>\n",
              "      <td>7.000000</td>\n",
              "      <td>1.000000</td>\n",
              "      <td>8.000000</td>\n",
              "      <td>3.500000</td>\n",
              "      <td>3.250000</td>\n",
              "      <td>7.000000</td>\n",
              "      <td>49.686667</td>\n",
              "      <td>33.656840</td>\n",
              "      <td>24.476752</td>\n",
              "    </tr>\n",
              "  </tbody>\n",
              "</table>\n",
              "</div>\n",
              "      <button class=\"colab-df-convert\" onclick=\"convertToInteractive('df-ff870c17-f53b-4795-84c7-298b0a98342e')\"\n",
              "              title=\"Convert this dataframe to an interactive table.\"\n",
              "              style=\"display:none;\">\n",
              "        \n",
              "  <svg xmlns=\"http://www.w3.org/2000/svg\" height=\"24px\"viewBox=\"0 0 24 24\"\n",
              "       width=\"24px\">\n",
              "    <path d=\"M0 0h24v24H0V0z\" fill=\"none\"/>\n",
              "    <path d=\"M18.56 5.44l.94 2.06.94-2.06 2.06-.94-2.06-.94-.94-2.06-.94 2.06-2.06.94zm-11 1L8.5 8.5l.94-2.06 2.06-.94-2.06-.94L8.5 2.5l-.94 2.06-2.06.94zm10 10l.94 2.06.94-2.06 2.06-.94-2.06-.94-.94-2.06-.94 2.06-2.06.94z\"/><path d=\"M17.41 7.96l-1.37-1.37c-.4-.4-.92-.59-1.43-.59-.52 0-1.04.2-1.43.59L10.3 9.45l-7.72 7.72c-.78.78-.78 2.05 0 2.83L4 21.41c.39.39.9.59 1.41.59.51 0 1.02-.2 1.41-.59l7.78-7.78 2.81-2.81c.8-.78.8-2.07 0-2.86zM5.41 20L4 18.59l7.72-7.72 1.47 1.35L5.41 20z\"/>\n",
              "  </svg>\n",
              "      </button>\n",
              "      \n",
              "  <style>\n",
              "    .colab-df-container {\n",
              "      display:flex;\n",
              "      flex-wrap:wrap;\n",
              "      gap: 12px;\n",
              "    }\n",
              "\n",
              "    .colab-df-convert {\n",
              "      background-color: #E8F0FE;\n",
              "      border: none;\n",
              "      border-radius: 50%;\n",
              "      cursor: pointer;\n",
              "      display: none;\n",
              "      fill: #1967D2;\n",
              "      height: 32px;\n",
              "      padding: 0 0 0 0;\n",
              "      width: 32px;\n",
              "    }\n",
              "\n",
              "    .colab-df-convert:hover {\n",
              "      background-color: #E2EBFA;\n",
              "      box-shadow: 0px 1px 2px rgba(60, 64, 67, 0.3), 0px 1px 3px 1px rgba(60, 64, 67, 0.15);\n",
              "      fill: #174EA6;\n",
              "    }\n",
              "\n",
              "    [theme=dark] .colab-df-convert {\n",
              "      background-color: #3B4455;\n",
              "      fill: #D2E3FC;\n",
              "    }\n",
              "\n",
              "    [theme=dark] .colab-df-convert:hover {\n",
              "      background-color: #434B5C;\n",
              "      box-shadow: 0px 1px 3px 1px rgba(0, 0, 0, 0.15);\n",
              "      filter: drop-shadow(0px 1px 2px rgba(0, 0, 0, 0.3));\n",
              "      fill: #FFFFFF;\n",
              "    }\n",
              "  </style>\n",
              "\n",
              "      <script>\n",
              "        const buttonEl =\n",
              "          document.querySelector('#df-ff870c17-f53b-4795-84c7-298b0a98342e button.colab-df-convert');\n",
              "        buttonEl.style.display =\n",
              "          google.colab.kernel.accessAllowed ? 'block' : 'none';\n",
              "\n",
              "        async function convertToInteractive(key) {\n",
              "          const element = document.querySelector('#df-ff870c17-f53b-4795-84c7-298b0a98342e');\n",
              "          const dataTable =\n",
              "            await google.colab.kernel.invokeFunction('convertToInteractive',\n",
              "                                                     [key], {});\n",
              "          if (!dataTable) return;\n",
              "\n",
              "          const docLinkHtml = 'Like what you see? Visit the ' +\n",
              "            '<a target=\"_blank\" href=https://colab.research.google.com/notebooks/data_table.ipynb>data table notebook</a>'\n",
              "            + ' to learn more about interactive tables.';\n",
              "          element.innerHTML = '';\n",
              "          dataTable['output_type'] = 'display_data';\n",
              "          await google.colab.output.renderOutput(dataTable, element);\n",
              "          const docLink = document.createElement('div');\n",
              "          docLink.innerHTML = docLinkHtml;\n",
              "          element.appendChild(docLink);\n",
              "        }\n",
              "      </script>\n",
              "    </div>\n",
              "  </div>\n",
              "  "
            ]
          },
          "metadata": {},
          "execution_count": 111
        }
      ],
      "source": [
        "train_df.describe()"
      ]
    },
    {
      "cell_type": "code",
      "execution_count": null,
      "metadata": {
        "id": "W8J1F67Eizat"
      },
      "outputs": [],
      "source": [
        "X_train = train_df.drop('Transported', axis=1)\n",
        "y_train = train_df.Transported\n",
        "\n",
        "X_test = pipeline(test_df, dft='test')"
      ]
    },
    {
      "cell_type": "code",
      "execution_count": null,
      "metadata": {
        "colab": {
          "base_uri": "https://localhost:8080/",
          "height": 364
        },
        "id": "efCTQCXFEUxD",
        "outputId": "a361430e-5d74-4e87-d2f9-ab6765f4ea92"
      },
      "outputs": [
        {
          "output_type": "execute_result",
          "data": {
            "text/plain": [
              "        HomePlanet  Destination          Age  RoomService    FoodCourt  \\\n",
              "count  4277.000000  4277.000000  4277.000000  4277.000000  4277.000000   \n",
              "mean      0.682020     1.503858     0.097538     4.480467     6.493822   \n",
              "std       0.812028     0.808512     0.825140    12.539885    22.881151   \n",
              "min       0.000000     0.000000    -1.588235     0.000000     0.000000   \n",
              "25%       0.000000     1.000000    -0.411765     0.000000     0.000000   \n",
              "50%       0.000000     2.000000     0.000000     0.000000     0.000000   \n",
              "75%       1.000000     2.000000     0.588235     1.000000     1.000000   \n",
              "max       2.000000     2.000000     3.058824   240.979167   382.924242   \n",
              "\n",
              "       ShoppingMall          Spa       VRDeck   Age_binned   Cabin_deck  \\\n",
              "count   4277.000000  4277.000000  4277.000000  4277.000000  4277.000000   \n",
              "mean       6.416041     6.881301     9.835429     1.226327     4.349778   \n",
              "std       20.555251    25.694698    39.870704     1.542728     1.724387   \n",
              "min        0.000000     0.000000     0.000000     0.000000     0.000000   \n",
              "25%        0.000000     0.000000     0.000000     0.000000     3.000000   \n",
              "50%        0.000000     0.000000     0.000000     0.000000     5.000000   \n",
              "75%        1.000000     1.000000     1.000000     2.000000     6.000000   \n",
              "max      307.111111   461.488372   718.451613     4.000000     7.000000   \n",
              "\n",
              "        Cabin_side  people_in_cabin  people_in_group   no_of_mem1  \\\n",
              "count  4277.000000      4277.000000      4277.000000  4277.000000   \n",
              "mean      0.501052         0.808978         0.997428     0.225703   \n",
              "std       0.500057         1.369258         1.537113     0.754935   \n",
              "min       0.000000         0.000000         0.000000    -0.666667   \n",
              "25%       0.000000         0.000000         0.000000    -0.333333   \n",
              "50%       1.000000         0.000000         0.000000     0.000000   \n",
              "75%       1.000000         1.000000         1.000000     0.666667   \n",
              "max       1.000000         8.000000         7.000000     3.666667   \n",
              "\n",
              "        no_of_mem2    shop_bill  othr_srvc_bill   total_bill  \n",
              "count  4277.000000  4277.000000     4277.000000  4277.000000  \n",
              "mean      0.734159     0.989828        0.907651     0.487314  \n",
              "std       1.155855     2.672832        2.169728     1.950417  \n",
              "min       0.000000    -0.001647       -0.044341    -0.494460  \n",
              "25%       0.000000    -0.001647       -0.044341    -0.494460  \n",
              "50%       0.000000     0.000000        0.000000     0.000000  \n",
              "75%       1.000000     0.998353        0.955659     0.505540  \n",
              "max       7.000000    41.634267       25.943991    22.819945  "
            ],
            "text/html": [
              "\n",
              "  <div id=\"df-02fe3cd6-c780-431a-9b26-f118a6c32619\">\n",
              "    <div class=\"colab-df-container\">\n",
              "      <div>\n",
              "<style scoped>\n",
              "    .dataframe tbody tr th:only-of-type {\n",
              "        vertical-align: middle;\n",
              "    }\n",
              "\n",
              "    .dataframe tbody tr th {\n",
              "        vertical-align: top;\n",
              "    }\n",
              "\n",
              "    .dataframe thead th {\n",
              "        text-align: right;\n",
              "    }\n",
              "</style>\n",
              "<table border=\"1\" class=\"dataframe\">\n",
              "  <thead>\n",
              "    <tr style=\"text-align: right;\">\n",
              "      <th></th>\n",
              "      <th>HomePlanet</th>\n",
              "      <th>Destination</th>\n",
              "      <th>Age</th>\n",
              "      <th>RoomService</th>\n",
              "      <th>FoodCourt</th>\n",
              "      <th>ShoppingMall</th>\n",
              "      <th>Spa</th>\n",
              "      <th>VRDeck</th>\n",
              "      <th>Age_binned</th>\n",
              "      <th>Cabin_deck</th>\n",
              "      <th>Cabin_side</th>\n",
              "      <th>people_in_cabin</th>\n",
              "      <th>people_in_group</th>\n",
              "      <th>no_of_mem1</th>\n",
              "      <th>no_of_mem2</th>\n",
              "      <th>shop_bill</th>\n",
              "      <th>othr_srvc_bill</th>\n",
              "      <th>total_bill</th>\n",
              "    </tr>\n",
              "  </thead>\n",
              "  <tbody>\n",
              "    <tr>\n",
              "      <th>count</th>\n",
              "      <td>4277.000000</td>\n",
              "      <td>4277.000000</td>\n",
              "      <td>4277.000000</td>\n",
              "      <td>4277.000000</td>\n",
              "      <td>4277.000000</td>\n",
              "      <td>4277.000000</td>\n",
              "      <td>4277.000000</td>\n",
              "      <td>4277.000000</td>\n",
              "      <td>4277.000000</td>\n",
              "      <td>4277.000000</td>\n",
              "      <td>4277.000000</td>\n",
              "      <td>4277.000000</td>\n",
              "      <td>4277.000000</td>\n",
              "      <td>4277.000000</td>\n",
              "      <td>4277.000000</td>\n",
              "      <td>4277.000000</td>\n",
              "      <td>4277.000000</td>\n",
              "      <td>4277.000000</td>\n",
              "    </tr>\n",
              "    <tr>\n",
              "      <th>mean</th>\n",
              "      <td>0.682020</td>\n",
              "      <td>1.503858</td>\n",
              "      <td>0.097538</td>\n",
              "      <td>4.480467</td>\n",
              "      <td>6.493822</td>\n",
              "      <td>6.416041</td>\n",
              "      <td>6.881301</td>\n",
              "      <td>9.835429</td>\n",
              "      <td>1.226327</td>\n",
              "      <td>4.349778</td>\n",
              "      <td>0.501052</td>\n",
              "      <td>0.808978</td>\n",
              "      <td>0.997428</td>\n",
              "      <td>0.225703</td>\n",
              "      <td>0.734159</td>\n",
              "      <td>0.989828</td>\n",
              "      <td>0.907651</td>\n",
              "      <td>0.487314</td>\n",
              "    </tr>\n",
              "    <tr>\n",
              "      <th>std</th>\n",
              "      <td>0.812028</td>\n",
              "      <td>0.808512</td>\n",
              "      <td>0.825140</td>\n",
              "      <td>12.539885</td>\n",
              "      <td>22.881151</td>\n",
              "      <td>20.555251</td>\n",
              "      <td>25.694698</td>\n",
              "      <td>39.870704</td>\n",
              "      <td>1.542728</td>\n",
              "      <td>1.724387</td>\n",
              "      <td>0.500057</td>\n",
              "      <td>1.369258</td>\n",
              "      <td>1.537113</td>\n",
              "      <td>0.754935</td>\n",
              "      <td>1.155855</td>\n",
              "      <td>2.672832</td>\n",
              "      <td>2.169728</td>\n",
              "      <td>1.950417</td>\n",
              "    </tr>\n",
              "    <tr>\n",
              "      <th>min</th>\n",
              "      <td>0.000000</td>\n",
              "      <td>0.000000</td>\n",
              "      <td>-1.588235</td>\n",
              "      <td>0.000000</td>\n",
              "      <td>0.000000</td>\n",
              "      <td>0.000000</td>\n",
              "      <td>0.000000</td>\n",
              "      <td>0.000000</td>\n",
              "      <td>0.000000</td>\n",
              "      <td>0.000000</td>\n",
              "      <td>0.000000</td>\n",
              "      <td>0.000000</td>\n",
              "      <td>0.000000</td>\n",
              "      <td>-0.666667</td>\n",
              "      <td>0.000000</td>\n",
              "      <td>-0.001647</td>\n",
              "      <td>-0.044341</td>\n",
              "      <td>-0.494460</td>\n",
              "    </tr>\n",
              "    <tr>\n",
              "      <th>25%</th>\n",
              "      <td>0.000000</td>\n",
              "      <td>1.000000</td>\n",
              "      <td>-0.411765</td>\n",
              "      <td>0.000000</td>\n",
              "      <td>0.000000</td>\n",
              "      <td>0.000000</td>\n",
              "      <td>0.000000</td>\n",
              "      <td>0.000000</td>\n",
              "      <td>0.000000</td>\n",
              "      <td>3.000000</td>\n",
              "      <td>0.000000</td>\n",
              "      <td>0.000000</td>\n",
              "      <td>0.000000</td>\n",
              "      <td>-0.333333</td>\n",
              "      <td>0.000000</td>\n",
              "      <td>-0.001647</td>\n",
              "      <td>-0.044341</td>\n",
              "      <td>-0.494460</td>\n",
              "    </tr>\n",
              "    <tr>\n",
              "      <th>50%</th>\n",
              "      <td>0.000000</td>\n",
              "      <td>2.000000</td>\n",
              "      <td>0.000000</td>\n",
              "      <td>0.000000</td>\n",
              "      <td>0.000000</td>\n",
              "      <td>0.000000</td>\n",
              "      <td>0.000000</td>\n",
              "      <td>0.000000</td>\n",
              "      <td>0.000000</td>\n",
              "      <td>5.000000</td>\n",
              "      <td>1.000000</td>\n",
              "      <td>0.000000</td>\n",
              "      <td>0.000000</td>\n",
              "      <td>0.000000</td>\n",
              "      <td>0.000000</td>\n",
              "      <td>0.000000</td>\n",
              "      <td>0.000000</td>\n",
              "      <td>0.000000</td>\n",
              "    </tr>\n",
              "    <tr>\n",
              "      <th>75%</th>\n",
              "      <td>1.000000</td>\n",
              "      <td>2.000000</td>\n",
              "      <td>0.588235</td>\n",
              "      <td>1.000000</td>\n",
              "      <td>1.000000</td>\n",
              "      <td>1.000000</td>\n",
              "      <td>1.000000</td>\n",
              "      <td>1.000000</td>\n",
              "      <td>2.000000</td>\n",
              "      <td>6.000000</td>\n",
              "      <td>1.000000</td>\n",
              "      <td>1.000000</td>\n",
              "      <td>1.000000</td>\n",
              "      <td>0.666667</td>\n",
              "      <td>1.000000</td>\n",
              "      <td>0.998353</td>\n",
              "      <td>0.955659</td>\n",
              "      <td>0.505540</td>\n",
              "    </tr>\n",
              "    <tr>\n",
              "      <th>max</th>\n",
              "      <td>2.000000</td>\n",
              "      <td>2.000000</td>\n",
              "      <td>3.058824</td>\n",
              "      <td>240.979167</td>\n",
              "      <td>382.924242</td>\n",
              "      <td>307.111111</td>\n",
              "      <td>461.488372</td>\n",
              "      <td>718.451613</td>\n",
              "      <td>4.000000</td>\n",
              "      <td>7.000000</td>\n",
              "      <td>1.000000</td>\n",
              "      <td>8.000000</td>\n",
              "      <td>7.000000</td>\n",
              "      <td>3.666667</td>\n",
              "      <td>7.000000</td>\n",
              "      <td>41.634267</td>\n",
              "      <td>25.943991</td>\n",
              "      <td>22.819945</td>\n",
              "    </tr>\n",
              "  </tbody>\n",
              "</table>\n",
              "</div>\n",
              "      <button class=\"colab-df-convert\" onclick=\"convertToInteractive('df-02fe3cd6-c780-431a-9b26-f118a6c32619')\"\n",
              "              title=\"Convert this dataframe to an interactive table.\"\n",
              "              style=\"display:none;\">\n",
              "        \n",
              "  <svg xmlns=\"http://www.w3.org/2000/svg\" height=\"24px\"viewBox=\"0 0 24 24\"\n",
              "       width=\"24px\">\n",
              "    <path d=\"M0 0h24v24H0V0z\" fill=\"none\"/>\n",
              "    <path d=\"M18.56 5.44l.94 2.06.94-2.06 2.06-.94-2.06-.94-.94-2.06-.94 2.06-2.06.94zm-11 1L8.5 8.5l.94-2.06 2.06-.94-2.06-.94L8.5 2.5l-.94 2.06-2.06.94zm10 10l.94 2.06.94-2.06 2.06-.94-2.06-.94-.94-2.06-.94 2.06-2.06.94z\"/><path d=\"M17.41 7.96l-1.37-1.37c-.4-.4-.92-.59-1.43-.59-.52 0-1.04.2-1.43.59L10.3 9.45l-7.72 7.72c-.78.78-.78 2.05 0 2.83L4 21.41c.39.39.9.59 1.41.59.51 0 1.02-.2 1.41-.59l7.78-7.78 2.81-2.81c.8-.78.8-2.07 0-2.86zM5.41 20L4 18.59l7.72-7.72 1.47 1.35L5.41 20z\"/>\n",
              "  </svg>\n",
              "      </button>\n",
              "      \n",
              "  <style>\n",
              "    .colab-df-container {\n",
              "      display:flex;\n",
              "      flex-wrap:wrap;\n",
              "      gap: 12px;\n",
              "    }\n",
              "\n",
              "    .colab-df-convert {\n",
              "      background-color: #E8F0FE;\n",
              "      border: none;\n",
              "      border-radius: 50%;\n",
              "      cursor: pointer;\n",
              "      display: none;\n",
              "      fill: #1967D2;\n",
              "      height: 32px;\n",
              "      padding: 0 0 0 0;\n",
              "      width: 32px;\n",
              "    }\n",
              "\n",
              "    .colab-df-convert:hover {\n",
              "      background-color: #E2EBFA;\n",
              "      box-shadow: 0px 1px 2px rgba(60, 64, 67, 0.3), 0px 1px 3px 1px rgba(60, 64, 67, 0.15);\n",
              "      fill: #174EA6;\n",
              "    }\n",
              "\n",
              "    [theme=dark] .colab-df-convert {\n",
              "      background-color: #3B4455;\n",
              "      fill: #D2E3FC;\n",
              "    }\n",
              "\n",
              "    [theme=dark] .colab-df-convert:hover {\n",
              "      background-color: #434B5C;\n",
              "      box-shadow: 0px 1px 3px 1px rgba(0, 0, 0, 0.15);\n",
              "      filter: drop-shadow(0px 1px 2px rgba(0, 0, 0, 0.3));\n",
              "      fill: #FFFFFF;\n",
              "    }\n",
              "  </style>\n",
              "\n",
              "      <script>\n",
              "        const buttonEl =\n",
              "          document.querySelector('#df-02fe3cd6-c780-431a-9b26-f118a6c32619 button.colab-df-convert');\n",
              "        buttonEl.style.display =\n",
              "          google.colab.kernel.accessAllowed ? 'block' : 'none';\n",
              "\n",
              "        async function convertToInteractive(key) {\n",
              "          const element = document.querySelector('#df-02fe3cd6-c780-431a-9b26-f118a6c32619');\n",
              "          const dataTable =\n",
              "            await google.colab.kernel.invokeFunction('convertToInteractive',\n",
              "                                                     [key], {});\n",
              "          if (!dataTable) return;\n",
              "\n",
              "          const docLinkHtml = 'Like what you see? Visit the ' +\n",
              "            '<a target=\"_blank\" href=https://colab.research.google.com/notebooks/data_table.ipynb>data table notebook</a>'\n",
              "            + ' to learn more about interactive tables.';\n",
              "          element.innerHTML = '';\n",
              "          dataTable['output_type'] = 'display_data';\n",
              "          await google.colab.output.renderOutput(dataTable, element);\n",
              "          const docLink = document.createElement('div');\n",
              "          docLink.innerHTML = docLinkHtml;\n",
              "          element.appendChild(docLink);\n",
              "        }\n",
              "      </script>\n",
              "    </div>\n",
              "  </div>\n",
              "  "
            ]
          },
          "metadata": {},
          "execution_count": 113
        }
      ],
      "source": [
        "X_test.describe()"
      ]
    },
    {
      "cell_type": "markdown",
      "metadata": {
        "id": "nh_i6faVCHmm"
      },
      "source": [
        "##Select best features"
      ]
    },
    {
      "cell_type": "code",
      "execution_count": null,
      "metadata": {
        "id": "sQ2nHW0Baos6",
        "colab": {
          "base_uri": "https://localhost:8080/"
        },
        "outputId": "cb99c869-a5ae-491a-caf0-b468e254868d"
      },
      "outputs": [
        {
          "output_type": "execute_result",
          "data": {
            "text/plain": [
              "array(['HomePlanet', 'CryoSleep', 'Destination', 'RoomService', 'Spa',\n",
              "       'VRDeck', 'Cabin_deck', 'Cabin_side', 'people_in_cabin',\n",
              "       'people_in_group', 'no_of_mem2', 'othr_srvc_bill', 'total_bill'],\n",
              "      dtype=object)"
            ]
          },
          "metadata": {},
          "execution_count": 114
        }
      ],
      "source": [
        "from sklearn.feature_selection import SelectKBest, f_classif\n",
        "\n",
        "selector = SelectKBest(score_func=f_classif, k=13)\n",
        "selector.fit(X_train, y_train)\n",
        "\n",
        "kbest = selector.get_feature_names_out()\n",
        "kbest"
      ]
    },
    {
      "cell_type": "code",
      "execution_count": null,
      "metadata": {
        "id": "pHSzi2rpIF5E"
      },
      "outputs": [],
      "source": [
        "X_train = X_train[kbest]\n",
        "X_test = X_test[kbest]"
      ]
    },
    {
      "cell_type": "code",
      "execution_count": null,
      "metadata": {
        "id": "ANf_S_uBRWcl"
      },
      "outputs": [],
      "source": [
        "!pip install sklearn-deap >> /dev/null"
      ]
    },
    {
      "cell_type": "markdown",
      "metadata": {
        "id": "SpiDpv88Km6z"
      },
      "source": [
        "##Find the hyperparameters using EvolutionaryAlgorithmSearchCV"
      ]
    },
    {
      "cell_type": "code",
      "execution_count": null,
      "metadata": {
        "colab": {
          "base_uri": "https://localhost:8080/"
        },
        "id": "UhjOX7_GKt4f",
        "outputId": "df158f2d-8ae3-41f4-d564-3b676de397e3"
      },
      "outputs": [
        {
          "name": "stdout",
          "output_type": "stream",
          "text": [
            "Types [1, 2] and maxint [1, 3] detected\n"
          ]
        },
        {
          "name": "stderr",
          "output_type": "stream",
          "text": [
            "/usr/local/lib/python3.8/dist-packages/deap/creator.py:138: RuntimeWarning: A class named 'FitnessMax' has already been created and it will be overwritten. Consider deleting previous creation of that class or rename it.\n",
            "  warnings.warn(\"A class named '{0}' has already been created and it \"\n",
            "/usr/local/lib/python3.8/dist-packages/deap/creator.py:138: RuntimeWarning: A class named 'Individual' has already been created and it will be overwritten. Consider deleting previous creation of that class or rename it.\n",
            "  warnings.warn(\"A class named '{0}' has already been created and it \"\n"
          ]
        },
        {
          "name": "stdout",
          "output_type": "stream",
          "text": [
            "--- Evolve in 8 possible combinations ---\n",
            "gen\tnevals\tavg     \tmin     \tmax     \tstd      \n",
            "0  \t50    \t0.735049\t0.668699\t0.774876\t0.0281107\n",
            "1  \t39    \t0.755631\t0.7215  \t0.774876\t0.019245 \n",
            "2  \t34    \t0.769888\t0.730243\t0.774876\t0.00880408\n",
            "3  \t33    \t0.774494\t0.765328\t0.774876\t0.001871  \n",
            "4  \t35    \t0.77229 \t0.7215  \t0.774876\t0.010837  \n",
            "5  \t27    \t0.773823\t0.72219 \t0.774876\t0.00737605\n",
            "Best individual is: {'kernel': 'linear', 'C': 10.0}\n",
            "with fitness: 0.7748763372828713\n",
            "SVM\n",
            "Types [1, 1] and maxint [1, 3] detected\n"
          ]
        },
        {
          "name": "stderr",
          "output_type": "stream",
          "text": [
            "/usr/local/lib/python3.8/dist-packages/deap/creator.py:138: RuntimeWarning: A class named 'FitnessMax' has already been created and it will be overwritten. Consider deleting previous creation of that class or rename it.\n",
            "  warnings.warn(\"A class named '{0}' has already been created and it \"\n",
            "/usr/local/lib/python3.8/dist-packages/deap/creator.py:138: RuntimeWarning: A class named 'Individual' has already been created and it will be overwritten. Consider deleting previous creation of that class or rename it.\n",
            "  warnings.warn(\"A class named '{0}' has already been created and it \"\n"
          ]
        },
        {
          "name": "stdout",
          "output_type": "stream",
          "text": [
            "--- Evolve in 8 possible combinations ---\n",
            "gen\tnevals\tavg     \tmin     \tmax     \tstd       \n",
            "0  \t50    \t0.776038\t0.766709\t0.784884\t0.00582551\n",
            "1  \t29    \t0.780571\t0.766709\t0.784884\t0.00381884\n",
            "2  \t31    \t0.782869\t0.766709\t0.784884\t0.00321714\n",
            "3  \t32    \t0.784588\t0.778672\t0.784884\t0.00111651\n",
            "4  \t29    \t0.784859\t0.783619\t0.784884\t0.000177154\n",
            "5  \t32    \t0.784884\t0.784884\t0.784884\t0          \n",
            "Best individual is: {'criterion': 'gini', 'max_depth': 4}\n",
            "with fitness: 0.7848843897388703\n",
            "Decision Tree\n",
            "Types [1, 1] and maxint [3, 3] detected\n"
          ]
        },
        {
          "name": "stderr",
          "output_type": "stream",
          "text": [
            "/usr/local/lib/python3.8/dist-packages/deap/creator.py:138: RuntimeWarning: A class named 'FitnessMax' has already been created and it will be overwritten. Consider deleting previous creation of that class or rename it.\n",
            "  warnings.warn(\"A class named '{0}' has already been created and it \"\n",
            "/usr/local/lib/python3.8/dist-packages/deap/creator.py:138: RuntimeWarning: A class named 'Individual' has already been created and it will be overwritten. Consider deleting previous creation of that class or rename it.\n",
            "  warnings.warn(\"A class named '{0}' has already been created and it \"\n"
          ]
        },
        {
          "name": "stdout",
          "output_type": "stream",
          "text": [
            "--- Evolve in 16 possible combinations ---\n",
            "gen\tnevals\tavg     \tmin     \tmax    \tstd      \n",
            "0  \t50    \t0.765257\t0.739446\t0.78569\t0.0128943\n",
            "1  \t31    \t0.774152\t0.739676\t0.78569\t0.0095652\n",
            "2  \t24    \t0.779452\t0.760727\t0.78569\t0.00524637\n",
            "3  \t36    \t0.781847\t0.772806\t0.784999\t0.0020237 \n",
            "4  \t30    \t0.782565\t0.779593\t0.785575\t0.00140839\n",
            "5  \t30    \t0.782568\t0.778903\t0.785575\t0.00152143\n",
            "Best individual is: {'n_estimators': 50, 'max_depth': 5}\n",
            "with fitness: 0.7856896353387783\n",
            "Random Forest\n",
            "Types [2, 1, 1, 1, 1] and maxint [2, 2, 2, 2, 2] detected\n"
          ]
        },
        {
          "name": "stderr",
          "output_type": "stream",
          "text": [
            "/usr/local/lib/python3.8/dist-packages/deap/creator.py:138: RuntimeWarning: A class named 'FitnessMax' has already been created and it will be overwritten. Consider deleting previous creation of that class or rename it.\n",
            "  warnings.warn(\"A class named '{0}' has already been created and it \"\n",
            "/usr/local/lib/python3.8/dist-packages/deap/creator.py:138: RuntimeWarning: A class named 'Individual' has already been created and it will be overwritten. Consider deleting previous creation of that class or rename it.\n",
            "  warnings.warn(\"A class named '{0}' has already been created and it \"\n"
          ]
        },
        {
          "name": "stdout",
          "output_type": "stream",
          "text": [
            "--- Evolve in 243 possible combinations ---\n",
            "gen\tnevals\tavg     \tmin     \tmax    \tstd      \n",
            "0  \t50    \t0.796176\t0.786955\t0.80375\t0.0048667\n",
            "1  \t34    \t0.799211\t0.790751\t0.80398\t0.0028031\n",
            "2  \t27    \t0.801346\t0.794547\t0.80398\t0.00188997\n",
            "3  \t37    \t0.80239 \t0.798228\t0.80398\t0.00151037\n",
            "4  \t32    \t0.803288\t0.800069\t0.80398\t0.000837307\n",
            "5  \t27    \t0.803421\t0.797653\t0.804095\t0.00144944 \n",
            "Best individual is: {'learning_rate': 0.05, 'n_estimators': 300, 'max_depth': 4, 'min_samples_split': 2, 'min_samples_leaf': 2}\n",
            "with fitness: 0.8039802139652594\n",
            "Gradient Boosting\n"
          ]
        }
      ],
      "source": [
        "from sklearn.ensemble import GradientBoostingClassifier\n",
        "from sklearn.svm import SVC\n",
        "from sklearn.tree import DecisionTreeClassifier\n",
        "from sklearn.ensemble import RandomForestClassifier\n",
        "from xgboost import XGBClassifier\n",
        "from sklearn.model_selection import cross_val_score\n",
        "from evolutionary_search import EvolutionaryAlgorithmSearchCV\n",
        "from sklearn.model_selection import StratifiedKFold\n",
        "\n",
        "classifiers = {\n",
        "    'SVM': (SVC(), {'kernel': ['linear', 'rbf'], 'C': [0.01, 0.1, 1.0, 10.0]}),\n",
        "    'Decision Tree': (DecisionTreeClassifier(), {'criterion': ['gini', 'entropy'], 'max_depth': [2, 3, 4, 5]}),\n",
        "    'Random Forest': (RandomForestClassifier(), {'n_estimators': [10, 20, 50, 100], 'max_depth': [2, 3, 4, 5]}),\n",
        "    'Gradient Boosting': (GradientBoostingClassifier(), {'learning_rate': [0.1, 0.05, 0.01], 'n_estimators': [100, 200, 300], 'max_depth': [3, 4, 5],\n",
        "                                                       'min_samples_split': [2, 3, 4],'min_samples_leaf': [1, 2, 3]})\n",
        "}\n",
        "\n",
        "for name, (clf, params) in classifiers.items():\n",
        "  optimizer = EvolutionaryAlgorithmSearchCV( estimator=clf,\n",
        "                                   params=params,\n",
        "                                   scoring=\"accuracy\",\n",
        "                                   cv=StratifiedKFold(n_splits=4),\n",
        "                                   verbose=1,\n",
        "                                   population_size=50,\n",
        "                                   gene_mutation_prob=0.10,\n",
        "                                   gene_crossover_prob=0.5,\n",
        "                                   tournament_size=3,\n",
        "                                   generations_number=5,\n",
        "                                   n_jobs=4)\n",
        "  optimizer.fit(X_train, y_train)\n",
        "  \n",
        "  print(name)\n",
        "\n",
        "\n"
      ]
    },
    {
      "cell_type": "markdown",
      "metadata": {
        "id": "zMxfMoA2KxO0"
      },
      "source": [
        "##Check performance of each model"
      ]
    },
    {
      "cell_type": "code",
      "execution_count": null,
      "metadata": {
        "id": "auDFKcDYF00U"
      },
      "outputs": [],
      "source": [
        "from sklearn.svm import SVC\n",
        "from sklearn.model_selection import cross_val_score\n",
        "\n",
        "params = {'kernel': 'linear', 'C': 10.0}\n",
        "svc = SVC(**params)\n",
        "svc_cv_scores = cross_val_score(svc, X_train, y_train, cv=10)\n",
        "svc_cv_scores.mean()"
      ]
    },
    {
      "cell_type": "code",
      "execution_count": null,
      "metadata": {
        "colab": {
          "base_uri": "https://localhost:8080/"
        },
        "id": "bmh0S1LDGXHc",
        "outputId": "49898bf9-1f08-40a6-f8a3-bf3080745a7f"
      },
      "outputs": [
        {
          "output_type": "execute_result",
          "data": {
            "text/plain": [
              "0.7853497877068369"
            ]
          },
          "metadata": {},
          "execution_count": 117
        }
      ],
      "source": [
        "from sklearn.tree import DecisionTreeClassifier\n",
        "params = {'criterion': 'gini', 'max_depth': 4}\n",
        "dtc = DecisionTreeClassifier(**params)\n",
        "dtc_cv_scores = cross_val_score(dtc, X_train, y_train, cv=10)\n",
        "dtc_cv_scores.mean()"
      ]
    },
    {
      "cell_type": "code",
      "execution_count": null,
      "metadata": {
        "colab": {
          "base_uri": "https://localhost:8080/"
        },
        "id": "MuqBge4yGvVJ",
        "outputId": "0df76924-9746-4249-ad4d-3aae2b8025de"
      },
      "outputs": [
        {
          "output_type": "execute_result",
          "data": {
            "text/plain": [
              "0.784543073687552"
            ]
          },
          "metadata": {},
          "execution_count": 118
        }
      ],
      "source": [
        "from sklearn.ensemble import RandomForestClassifier\n",
        "params = {'n_estimators': 50, 'max_depth': 5}\n",
        "rfc = RandomForestClassifier(**params)\n",
        "rfc_cv_scores = cross_val_score(rfc, X_train, y_train, cv=10)\n",
        "rfc_cv_scores.mean()"
      ]
    },
    {
      "cell_type": "code",
      "execution_count": null,
      "metadata": {
        "colab": {
          "base_uri": "https://localhost:8080/"
        },
        "id": "P_Ay7Nz9wFk3",
        "outputId": "75eb5a14-0482-40b6-e2a1-2c52624dd200"
      },
      "outputs": [
        {
          "output_type": "execute_result",
          "data": {
            "text/plain": [
              "0.8046770630795074"
            ]
          },
          "metadata": {},
          "execution_count": 119
        }
      ],
      "source": [
        "from sklearn.ensemble import GradientBoostingClassifier\n",
        "from sklearn.model_selection import cross_val_score\n",
        "params = {'learning_rate': 0.05, 'n_estimators': 500, 'max_depth': 4, 'min_samples_split': 2, 'min_samples_leaf': 2}\n",
        "gbc = GradientBoostingClassifier(**params)\n",
        "gbc_cv_scores = cross_val_score(gbc, X_train, y_train, cv=10)\n",
        "gbc_cv_scores.mean()"
      ]
    },
    {
      "cell_type": "code",
      "execution_count": null,
      "metadata": {
        "colab": {
          "base_uri": "https://localhost:8080/"
        },
        "id": "zi-dN5Y6w94D",
        "outputId": "3f043adb-52f1-446e-bc11-b211177f968e"
      },
      "outputs": [
        {
          "output_type": "execute_result",
          "data": {
            "text/plain": [
              "0.8050220229355978"
            ]
          },
          "metadata": {},
          "execution_count": 120
        }
      ],
      "source": [
        "import xgboost as xgb\n",
        "params = {'learning_rate': 0.05, 'n_estimators': 500, 'max_depth': 4, 'min_samples_split': 2, 'min_samples_leaf': 2}\n",
        "xgbc = xgb.XGBClassifier(**params)\n",
        "xgbc_cv_scores = cross_val_score(xgbc, X_train, y_train, cv=10)\n",
        "xgbc_cv_scores.mean()"
      ]
    },
    {
      "cell_type": "code",
      "execution_count": null,
      "metadata": {
        "id": "enL8GjNCHwNl"
      },
      "outputs": [],
      "source": [
        "plt.boxplot([svc_cv_scores, dtc_cv_scores, rfc_cv_scores, gbc_cv_scores, xgbc_cv_scores], labels=[\"SVM\", \"DTC\", \"RFC\", \"GBC\", \"XGBC\"])\n",
        "plt.xlabel(\"Model Name\")\n",
        "plt.ylabel(\"CV Score\")\n",
        "plt.show()"
      ]
    },
    {
      "cell_type": "code",
      "execution_count": null,
      "metadata": {
        "colab": {
          "base_uri": "https://localhost:8080/",
          "height": 279
        },
        "id": "6nq0hRTcIrEU",
        "outputId": "bd445354-2481-4a46-a6e4-a7c086a67380"
      },
      "outputs": [
        {
          "output_type": "display_data",
          "data": {
            "text/plain": [
              "<Figure size 432x288 with 1 Axes>"
            ],
            "image/png": "[encoded data removed]"
          },
          "metadata": {}
        }
      ],
      "source": [
        "plt.plot(svc_cv_scores, label=\"SVM\")\n",
        "plt.plot(dtc_cv_scores, label=\"DTC\")\n",
        "plt.plot(rfc_cv_scores, label=\"RFC\")\n",
        "plt.plot(gbc_cv_scores, label=\"GBC\")\n",
        "plt.plot(xgbc_cv_scores, label=\"XGBC\")\n",
        "plt.xlabel(\"Fold\")\n",
        "plt.ylabel(\"CV Score\")\n",
        "plt.legend()\n",
        "plt.show()"
      ]
    },
    {
      "cell_type": "code",
      "execution_count": null,
      "metadata": {
        "id": "eH2i6KLmK8--"
      },
      "outputs": [],
      "source": [
        "model = gbc"
      ]
    },
    {
      "cell_type": "code",
      "execution_count": null,
      "metadata": {
        "colab": {
          "base_uri": "https://localhost:8080/"
        },
        "id": "lNi8kobIjuCR",
        "outputId": "08011104-d63f-44c7-84d9-070b542a6583"
      },
      "outputs": [
        {
          "output_type": "execute_result",
          "data": {
            "text/plain": [
              "GradientBoostingClassifier(learning_rate=0.05, max_depth=4, min_samples_leaf=2,\n",
              "                           n_estimators=500)"
            ]
          },
          "metadata": {},
          "execution_count": 124
        }
      ],
      "source": [
        "model.fit(X_train, y_train)"
      ]
    },
    {
      "cell_type": "code",
      "execution_count": null,
      "metadata": {
        "id": "eODWV6CNjfEW"
      },
      "outputs": [],
      "source": [
        "test_df['Transported'] = model.predict(X_test)"
      ]
    },
    {
      "cell_type": "code",
      "execution_count": null,
      "metadata": {
        "id": "Xxs8wnz0k9YK"
      },
      "outputs": [],
      "source": [
        "test_df[['PassengerId', 'Transported']].to_csv(\"submission_rudra.csv\", index=False)"
      ]
    },
    {
      "cell_type": "code",
      "execution_count": null,
      "metadata": {
        "colab": {
          "base_uri": "https://localhost:8080/"
        },
        "id": "wJ0Yw7lSPB-N",
        "outputId": "03334099-06eb-4a62-9feb-3fbe9c0231ec"
      },
      "outputs": [
        {
          "output_type": "stream",
          "name": "stdout",
          "text": [
            "100% 56.4k/56.4k [00:00<00:00, 99.0kB/s]\n",
            "Successfully submitted to Spaceship Titanic"
          ]
        }
      ],
      "source": [
        "!kaggle competitions submit -c spaceship-titanic -f submission_rudra.csv -m \"\""
      ]
    },
    {
      "cell_type": "code",
      "execution_count": null,
      "metadata": {
        "id": "8oLQrY5gch4u"
      },
      "outputs": [],
      "source": [
        "!pip install tpot >> /dev/null"
      ]
    },
    {
      "cell_type": "code",
      "execution_count": null,
      "metadata": {
        "colab": {
          "background_save": true,
          "base_uri": "https://localhost:8080/",
          "height": 188,
          "referenced_widgets": [
            "d96e96d5b377490bb7b7598216472165",
            "8567b7fe95644226b895e8b0a4cafa38",
            "a550e13cb7684ce2bf24ef0e802751e4",
            "87575a8e67964b83ba2e40fb26479ebf",
            "56c580c3fecb41398caa039bd20caf0b",
            "4903155f395e4ab8aebe3b83a816a6ba",
            "7c3951518fff4ecea13b2a1abd68eedd",
            "14e812c2e67447c4b722ecc05de397e1",
            "b3133288e38145c1b8bdc4a706d73555",
            "107840b24fde4517ba59efdb95b84aee",
            "164b4f68b9d94793a231fbde117db338"
          ]
        },
        "id": "XJ2nRSn1cYNF",
        "outputId": "c63b1324-f883-4384-adca-882009befba1"
      },
      "outputs": [
        {
          "data": {
            "application/vnd.jupyter.widget-view+json": {
              "model_id": "d96e96d5b377490bb7b7598216472165",
              "version_major": 2,
              "version_minor": 0
            },
            "text/plain": [
              "Optimization Progress:   0%|          | 0/300 [00:00<?, ?pipeline/s]"
            ]
          },
          "metadata": {},
          "output_type": "display_data"
        },
        {
          "name": "stdout",
          "output_type": "stream",
          "text": [
            "\n",
            "Generation 1 - Current best internal CV score: 0.8028318723443959\n",
            "\n",
            "Generation 2 - Current best internal CV score: 0.8028318723443959\n",
            "\n",
            "Generation 3 - Current best internal CV score: 0.8028318723443959\n",
            "\n",
            "Generation 4 - Current best internal CV score: 0.8051319786843623\n",
            "\n",
            "Generation 5 - Current best internal CV score: 0.8051319786843623\n",
            "\n",
            "Best pipeline: XGBClassifier(SGDClassifier(input_matrix, alpha=0.0, eta0=0.1, fit_intercept=True, l1_ratio=0.0, learning_rate=constant, loss=modified_huber, penalty=elasticnet, power_t=10.0), learning_rate=0.1, max_depth=7, min_child_weight=13, n_estimators=100, n_jobs=1, subsample=0.7000000000000001, verbosity=0)\n",
            "Best hyperparameters: Pipeline(steps=[('stackingestimator',\n",
            "                 StackingEstimator(estimator=SGDClassifier(alpha=0.0, eta0=0.1,\n",
            "                                                           l1_ratio=0.0,\n",
            "                                                           learning_rate='constant',\n",
            "                                                           loss='modified_huber',\n",
            "                                                           penalty='elasticnet',\n",
            "                                                           power_t=10.0))),\n",
            "                ('xgbclassifier',\n",
            "                 XGBClassifier(max_depth=7, min_child_weight=13,\n",
            "                               subsample=0.7000000000000001, verbosity=0))])\n"
          ]
        }
      ],
      "source": [
        "from tpot import TPOTClassifier\n",
        "\n",
        "tpot = TPOTClassifier(generations=5, population_size=50, verbosity=2, cv=5)\n",
        "tpot.fit(X_train, y_train)\n",
        "\n",
        "print(\"Best hyperparameters:\", tpot.fitted_pipeline_)"
      ]
    }
  ],
  "metadata": {
    "accelerator": "GPU",
    "colab": {
      "provenance": []
    },
    "gpuClass": "standard",
    "kernelspec": {
      "display_name": "Python 3",
      "name": "python3"
    },
    "language_info": {
      "name": "python"
    },
    "widgets": {
      "application/vnd.jupyter.widget-state+json": {
        "107840b24fde4517ba59efdb95b84aee": {
          "model_module": "@jupyter-widgets/base",
          "model_module_version": "1.2.0",
          "model_name": "LayoutModel",
          "state": {
            "_model_module": "@jupyter-widgets/base",
            "_model_module_version": "1.2.0",
            "_model_name": "LayoutModel",
            "_view_count": null,
            "_view_module": "@jupyter-widgets/base",
            "_view_module_version": "1.2.0",
            "_view_name": "LayoutView",
            "align_content": null,
            "align_items": null,
            "align_self": null,
            "border": null,
            "bottom": null,
            "display": null,
            "flex": null,
            "flex_flow": null,
            "grid_area": null,
            "grid_auto_columns": null,
            "grid_auto_flow": null,
            "grid_auto_rows": null,
            "grid_column": null,
            "grid_gap": null,
            "grid_row": null,
            "grid_template_areas": null,
            "grid_template_columns": null,
            "grid_template_rows": null,
            "height": null,
            "justify_content": null,
            "justify_items": null,
            "left": null,
            "margin": null,
            "max_height": null,
            "max_width": null,
            "min_height": null,
            "min_width": null,
            "object_fit": null,
            "object_position": null,
            "order": null,
            "overflow": null,
            "overflow_x": null,
            "overflow_y": null,
            "padding": null,
            "right": null,
            "top": null,
            "visibility": null,
            "width": null
          }
        },
        "14e812c2e67447c4b722ecc05de397e1": {
          "model_module": "@jupyter-widgets/base",
          "model_module_version": "1.2.0",
          "model_name": "LayoutModel",
          "state": {
            "_model_module": "@jupyter-widgets/base",
            "_model_module_version": "1.2.0",
            "_model_name": "LayoutModel",
            "_view_count": null,
            "_view_module": "@jupyter-widgets/base",
            "_view_module_version": "1.2.0",
            "_view_name": "LayoutView",
            "align_content": null,
            "align_items": null,
            "align_self": null,
            "border": null,
            "bottom": null,
            "display": null,
            "flex": null,
            "flex_flow": null,
            "grid_area": null,
            "grid_auto_columns": null,
            "grid_auto_flow": null,
            "grid_auto_rows": null,
            "grid_column": null,
            "grid_gap": null,
            "grid_row": null,
            "grid_template_areas": null,
            "grid_template_columns": null,
            "grid_template_rows": null,
            "height": null,
            "justify_content": null,
            "justify_items": null,
            "left": null,
            "margin": null,
            "max_height": null,
            "max_width": null,
            "min_height": null,
            "min_width": null,
            "object_fit": null,
            "object_position": null,
            "order": null,
            "overflow": null,
            "overflow_x": null,
            "overflow_y": null,
            "padding": null,
            "right": null,
            "top": null,
            "visibility": null,
            "width": null
          }
        },
        "164b4f68b9d94793a231fbde117db338": {
          "model_module": "@jupyter-widgets/controls",
          "model_module_version": "1.5.0",
          "model_name": "DescriptionStyleModel",
          "state": {
            "_model_module": "@jupyter-widgets/controls",
            "_model_module_version": "1.5.0",
            "_model_name": "DescriptionStyleModel",
            "_view_count": null,
            "_view_module": "@jupyter-widgets/base",
            "_view_module_version": "1.2.0",
            "_view_name": "StyleView",
            "description_width": ""
          }
        },
        "4903155f395e4ab8aebe3b83a816a6ba": {
          "model_module": "@jupyter-widgets/base",
          "model_module_version": "1.2.0",
          "model_name": "LayoutModel",
          "state": {
            "_model_module": "@jupyter-widgets/base",
            "_model_module_version": "1.2.0",
            "_model_name": "LayoutModel",
            "_view_count": null,
            "_view_module": "@jupyter-widgets/base",
            "_view_module_version": "1.2.0",
            "_view_name": "LayoutView",
            "align_content": null,
            "align_items": null,
            "align_self": null,
            "border": null,
            "bottom": null,
            "display": null,
            "flex": null,
            "flex_flow": null,
            "grid_area": null,
            "grid_auto_columns": null,
            "grid_auto_flow": null,
            "grid_auto_rows": null,
            "grid_column": null,
            "grid_gap": null,
            "grid_row": null,
            "grid_template_areas": null,
            "grid_template_columns": null,
            "grid_template_rows": null,
            "height": null,
            "justify_content": null,
            "justify_items": null,
            "left": null,
            "margin": null,
            "max_height": null,
            "max_width": null,
            "min_height": null,
            "min_width": null,
            "object_fit": null,
            "object_position": null,
            "order": null,
            "overflow": null,
            "overflow_x": null,
            "overflow_y": null,
            "padding": null,
            "right": null,
            "top": null,
            "visibility": null,
            "width": null
          }
        },
        "56c580c3fecb41398caa039bd20caf0b": {
          "model_module": "@jupyter-widgets/base",
          "model_module_version": "1.2.0",
          "model_name": "LayoutModel",
          "state": {
            "_model_module": "@jupyter-widgets/base",
            "_model_module_version": "1.2.0",
            "_model_name": "LayoutModel",
            "_view_count": null,
            "_view_module": "@jupyter-widgets/base",
            "_view_module_version": "1.2.0",
            "_view_name": "LayoutView",
            "align_content": null,
            "align_items": null,
            "align_self": null,
            "border": null,
            "bottom": null,
            "display": null,
            "flex": null,
            "flex_flow": null,
            "grid_area": null,
            "grid_auto_columns": null,
            "grid_auto_flow": null,
            "grid_auto_rows": null,
            "grid_column": null,
            "grid_gap": null,
            "grid_row": null,
            "grid_template_areas": null,
            "grid_template_columns": null,
            "grid_template_rows": null,
            "height": null,
            "justify_content": null,
            "justify_items": null,
            "left": null,
            "margin": null,
            "max_height": null,
            "max_width": null,
            "min_height": null,
            "min_width": null,
            "object_fit": null,
            "object_position": null,
            "order": null,
            "overflow": null,
            "overflow_x": null,
            "overflow_y": null,
            "padding": null,
            "right": null,
            "top": null,
            "visibility": null,
            "width": null
          }
        },
        "7c3951518fff4ecea13b2a1abd68eedd": {
          "model_module": "@jupyter-widgets/controls",
          "model_module_version": "1.5.0",
          "model_name": "DescriptionStyleModel",
          "state": {
            "_model_module": "@jupyter-widgets/controls",
            "_model_module_version": "1.5.0",
            "_model_name": "DescriptionStyleModel",
            "_view_count": null,
            "_view_module": "@jupyter-widgets/base",
            "_view_module_version": "1.2.0",
            "_view_name": "StyleView",
            "description_width": ""
          }
        },
        "8567b7fe95644226b895e8b0a4cafa38": {
          "model_module": "@jupyter-widgets/controls",
          "model_module_version": "1.5.0",
          "model_name": "HTMLModel",
          "state": {
            "_dom_classes": [],
            "_model_module": "@jupyter-widgets/controls",
            "_model_module_version": "1.5.0",
            "_model_name": "HTMLModel",
            "_view_count": null,
            "_view_module": "@jupyter-widgets/controls",
            "_view_module_version": "1.5.0",
            "_view_name": "HTMLView",
            "description": "",
            "description_tooltip": null,
            "layout": "IPY_MODEL_4903155f395e4ab8aebe3b83a816a6ba",
            "placeholder": "​",
            "style": "IPY_MODEL_7c3951518fff4ecea13b2a1abd68eedd",
            "value": "Optimization Progress:  84%"
          }
        },
        "87575a8e67964b83ba2e40fb26479ebf": {
          "model_module": "@jupyter-widgets/controls",
          "model_module_version": "1.5.0",
          "model_name": "HTMLModel",
          "state": {
            "_dom_classes": [],
            "_model_module": "@jupyter-widgets/controls",
            "_model_module_version": "1.5.0",
            "_model_name": "HTMLModel",
            "_view_count": null,
            "_view_module": "@jupyter-widgets/controls",
            "_view_module_version": "1.5.0",
            "_view_name": "HTMLView",
            "description": "",
            "description_tooltip": null,
            "layout": "IPY_MODEL_107840b24fde4517ba59efdb95b84aee",
            "placeholder": "​",
            "style": "IPY_MODEL_164b4f68b9d94793a231fbde117db338",
            "value": " 251/300 [36:58&lt;05:01,  6.14s/pipeline]"
          }
        },
        "a550e13cb7684ce2bf24ef0e802751e4": {
          "model_module": "@jupyter-widgets/controls",
          "model_module_version": "1.5.0",
          "model_name": "FloatProgressModel",
          "state": {
            "_dom_classes": [],
            "_model_module": "@jupyter-widgets/controls",
            "_model_module_version": "1.5.0",
            "_model_name": "FloatProgressModel",
            "_view_count": null,
            "_view_module": "@jupyter-widgets/controls",
            "_view_module_version": "1.5.0",
            "_view_name": "ProgressView",
            "bar_style": "",
            "description": "",
            "description_tooltip": null,
            "layout": "IPY_MODEL_14e812c2e67447c4b722ecc05de397e1",
            "max": 300,
            "min": 0,
            "orientation": "horizontal",
            "style": "IPY_MODEL_b3133288e38145c1b8bdc4a706d73555",
            "value": 251
          }
        },
        "b3133288e38145c1b8bdc4a706d73555": {
          "model_module": "@jupyter-widgets/controls",
          "model_module_version": "1.5.0",
          "model_name": "ProgressStyleModel",
          "state": {
            "_model_module": "@jupyter-widgets/controls",
            "_model_module_version": "1.5.0",
            "_model_name": "ProgressStyleModel",
            "_view_count": null,
            "_view_module": "@jupyter-widgets/base",
            "_view_module_version": "1.2.0",
            "_view_name": "StyleView",
            "bar_color": null,
            "description_width": ""
          }
        },
        "d96e96d5b377490bb7b7598216472165": {
          "model_module": "@jupyter-widgets/controls",
          "model_module_version": "1.5.0",
          "model_name": "HBoxModel",
          "state": {
            "_dom_classes": [],
            "_model_module": "@jupyter-widgets/controls",
            "_model_module_version": "1.5.0",
            "_model_name": "HBoxModel",
            "_view_count": null,
            "_view_module": "@jupyter-widgets/controls",
            "_view_module_version": "1.5.0",
            "_view_name": "HBoxView",
            "box_style": "",
            "children": [
              "IPY_MODEL_8567b7fe95644226b895e8b0a4cafa38",
              "IPY_MODEL_a550e13cb7684ce2bf24ef0e802751e4",
              "IPY_MODEL_87575a8e67964b83ba2e40fb26479ebf"
            ],
            "layout": "IPY_MODEL_56c580c3fecb41398caa039bd20caf0b"
          }
        }
      }
    }
  },
  "nbformat": 4,
  "nbformat_minor": 0
}