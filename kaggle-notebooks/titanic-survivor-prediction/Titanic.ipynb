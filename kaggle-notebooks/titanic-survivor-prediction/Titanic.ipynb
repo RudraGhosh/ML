{
  "nbformat": 4,
  "nbformat_minor": 0,
  "metadata": {
    "colab": {
      "provenance": []
    },
    "kernelspec": {
      "name": "python3",
      "display_name": "Python 3"
    },
    "language_info": {
      "name": "python"
    }
  },
  "cells": [
    {
      "cell_type": "code",
      "metadata": {
        "id": "R5s_uYIzePan"
      },
      "source": [
        "import os\n",
        "os.environ['KAGGLE_CONFIG_DIR'] = './drive/MyDrive/Kaggle'"
      ],
      "execution_count": null,
      "outputs": []
    },
    {
      "cell_type": "code",
      "metadata": {
        "id": "13V0yxMEf1gn"
      },
      "source": [
        "!kaggle competitions download -c titanic"
      ],
      "execution_count": null,
      "outputs": []
    },
    {
      "cell_type": "code",
      "metadata": {
        "id": "AyNy_8N2f4pD"
      },
      "source": [
        "import numpy as np\n",
        "import pandas as pd\n",
        "\n",
        "pd.plotting.register_matplotlib_converters()\n",
        "import matplotlib.pyplot as plt\n",
        "%matplotlib inline\n",
        "import seaborn as sns\n",
        "sns.set_style('dark')"
      ],
      "execution_count": null,
      "outputs": []
    },
    {
      "cell_type": "code",
      "metadata": {
        "colab": {
          "base_uri": "https://localhost:8080/"
        },
        "id": "nFMDoEwVgfbH",
        "outputId": "9bf02869-d8c0-49a6-981c-7451ebc2874c"
      },
      "source": [
        "train_df = pd.read_csv('./train.csv')\n",
        "test_df = pd.read_csv('./test.csv')\n",
        "train_df.columns.values"
      ],
      "execution_count": null,
      "outputs": [
        {
          "output_type": "execute_result",
          "data": {
            "text/plain": [
              "array(['PassengerId', 'Survived', 'Pclass', 'Name', 'Sex', 'Age', 'SibSp',\n",
              "       'Parch', 'Ticket', 'Fare', 'Cabin', 'Embarked'], dtype=object)"
            ]
          },
          "metadata": {
            "tags": []
          },
          "execution_count": 32
        }
      ]
    },
    {
      "cell_type": "code",
      "metadata": {
        "id": "hFQnPATSg2sY"
      },
      "source": [
        "import scipy.stats as ss\n",
        "def cramers_v(x, y):\n",
        "    confusion_matrix = pd.crosstab(x,y)\n",
        "    chi2 = ss.chi2_contingency(confusion_matrix)[0]\n",
        "    n = confusion_matrix.sum().sum()\n",
        "    phi2 = chi2/n\n",
        "    r,k = confusion_matrix.shape\n",
        "    phi2corr = max(0, phi2-((k-1)*(r-1))/(n-1))\n",
        "    rcorr = r-((r-1)**2)/(n-1)\n",
        "    kcorr = k-((k-1)**2)/(n-1)\n",
        "    return np.sqrt(phi2corr/min((kcorr-1),(rcorr-1)))"
      ],
      "execution_count": null,
      "outputs": []
    },
    {
      "cell_type": "code",
      "metadata": {
        "id": "WMQXlmPCipOM"
      },
      "source": [
        "train_df['Title'] = train_df.Name.apply(lambda x : x.split(',')[1].split('.')[0].strip())\n",
        "train_df.Title.replace(['Mme', 'Ms', 'Lady', 'Mlle', 'the Countess', 'Dona'], 'Miss', inplace=True)\n",
        "train_df.Title.replace(['Major', 'Col', 'Capt', 'Don', 'Sir', 'Jonkheer'], 'Mr', inplace=True)\n",
        "train_df.Title.replace(['Dr','Rev'],'Others',inplace=True)"
      ],
      "execution_count": null,
      "outputs": []
    },
    {
      "cell_type": "code",
      "metadata": {
        "id": "O5LC44T90XH2"
      },
      "source": [
        "test_df['Title'] = test_df.Name.apply(lambda x : x.split(',')[1].split('.')[0].strip())\n",
        "test_df.Title.replace(['Mme', 'Ms', 'Lady', 'Mlle', 'the Countess', 'Dona'], 'Miss', inplace=True)\n",
        "test_df.Title.replace(['Major', 'Col', 'Capt', 'Don', 'Sir', 'Jonkheer'], 'Mr', inplace=True)\n",
        "test_df.Title.replace(['Dr','Rev'],'Others',inplace=True)"
      ],
      "execution_count": null,
      "outputs": []
    },
    {
      "cell_type": "code",
      "metadata": {
        "colab": {
          "base_uri": "https://localhost:8080/",
          "height": 266
        },
        "id": "2BjqxwmspKHD",
        "outputId": "231a0be9-ee2e-4428-e4fe-fc81b9ce81f6"
      },
      "source": [
        "train_df.corr()"
      ],
      "execution_count": null,
      "outputs": [
        {
          "output_type": "execute_result",
          "data": {
            "text/html": [
              "<div>\n",
              "<style scoped>\n",
              "    .dataframe tbody tr th:only-of-type {\n",
              "        vertical-align: middle;\n",
              "    }\n",
              "\n",
              "    .dataframe tbody tr th {\n",
              "        vertical-align: top;\n",
              "    }\n",
              "\n",
              "    .dataframe thead th {\n",
              "        text-align: right;\n",
              "    }\n",
              "</style>\n",
              "<table border=\"1\" class=\"dataframe\">\n",
              "  <thead>\n",
              "    <tr style=\"text-align: right;\">\n",
              "      <th></th>\n",
              "      <th>PassengerId</th>\n",
              "      <th>Survived</th>\n",
              "      <th>Pclass</th>\n",
              "      <th>Age</th>\n",
              "      <th>SibSp</th>\n",
              "      <th>Parch</th>\n",
              "      <th>Fare</th>\n",
              "    </tr>\n",
              "  </thead>\n",
              "  <tbody>\n",
              "    <tr>\n",
              "      <th>PassengerId</th>\n",
              "      <td>1.000000</td>\n",
              "      <td>-0.005007</td>\n",
              "      <td>-0.035144</td>\n",
              "      <td>0.036847</td>\n",
              "      <td>-0.057527</td>\n",
              "      <td>-0.001652</td>\n",
              "      <td>0.012658</td>\n",
              "    </tr>\n",
              "    <tr>\n",
              "      <th>Survived</th>\n",
              "      <td>-0.005007</td>\n",
              "      <td>1.000000</td>\n",
              "      <td>-0.338481</td>\n",
              "      <td>-0.077221</td>\n",
              "      <td>-0.035322</td>\n",
              "      <td>0.081629</td>\n",
              "      <td>0.257307</td>\n",
              "    </tr>\n",
              "    <tr>\n",
              "      <th>Pclass</th>\n",
              "      <td>-0.035144</td>\n",
              "      <td>-0.338481</td>\n",
              "      <td>1.000000</td>\n",
              "      <td>-0.369226</td>\n",
              "      <td>0.083081</td>\n",
              "      <td>0.018443</td>\n",
              "      <td>-0.549500</td>\n",
              "    </tr>\n",
              "    <tr>\n",
              "      <th>Age</th>\n",
              "      <td>0.036847</td>\n",
              "      <td>-0.077221</td>\n",
              "      <td>-0.369226</td>\n",
              "      <td>1.000000</td>\n",
              "      <td>-0.308247</td>\n",
              "      <td>-0.189119</td>\n",
              "      <td>0.096067</td>\n",
              "    </tr>\n",
              "    <tr>\n",
              "      <th>SibSp</th>\n",
              "      <td>-0.057527</td>\n",
              "      <td>-0.035322</td>\n",
              "      <td>0.083081</td>\n",
              "      <td>-0.308247</td>\n",
              "      <td>1.000000</td>\n",
              "      <td>0.414838</td>\n",
              "      <td>0.159651</td>\n",
              "    </tr>\n",
              "    <tr>\n",
              "      <th>Parch</th>\n",
              "      <td>-0.001652</td>\n",
              "      <td>0.081629</td>\n",
              "      <td>0.018443</td>\n",
              "      <td>-0.189119</td>\n",
              "      <td>0.414838</td>\n",
              "      <td>1.000000</td>\n",
              "      <td>0.216225</td>\n",
              "    </tr>\n",
              "    <tr>\n",
              "      <th>Fare</th>\n",
              "      <td>0.012658</td>\n",
              "      <td>0.257307</td>\n",
              "      <td>-0.549500</td>\n",
              "      <td>0.096067</td>\n",
              "      <td>0.159651</td>\n",
              "      <td>0.216225</td>\n",
              "      <td>1.000000</td>\n",
              "    </tr>\n",
              "  </tbody>\n",
              "</table>\n",
              "</div>"
            ],
            "text/plain": [
              "             PassengerId  Survived    Pclass  ...     SibSp     Parch      Fare\n",
              "PassengerId     1.000000 -0.005007 -0.035144  ... -0.057527 -0.001652  0.012658\n",
              "Survived       -0.005007  1.000000 -0.338481  ... -0.035322  0.081629  0.257307\n",
              "Pclass         -0.035144 -0.338481  1.000000  ...  0.083081  0.018443 -0.549500\n",
              "Age             0.036847 -0.077221 -0.369226  ... -0.308247 -0.189119  0.096067\n",
              "SibSp          -0.057527 -0.035322  0.083081  ...  1.000000  0.414838  0.159651\n",
              "Parch          -0.001652  0.081629  0.018443  ...  0.414838  1.000000  0.216225\n",
              "Fare            0.012658  0.257307 -0.549500  ...  0.159651  0.216225  1.000000\n",
              "\n",
              "[7 rows x 7 columns]"
            ]
          },
          "metadata": {
            "tags": []
          },
          "execution_count": 45
        }
      ]
    },
    {
      "cell_type": "markdown",
      "metadata": {
        "id": "H2SIwDZtuLU2"
      },
      "source": [
        "## **PCLASS**"
      ]
    },
    {
      "cell_type": "code",
      "metadata": {
        "colab": {
          "base_uri": "https://localhost:8080/"
        },
        "id": "RmQZgQpjofyI",
        "outputId": "39209288-c9d2-47d1-b51f-2cd3944fd951"
      },
      "source": [
        "train_df.Pclass.isnull().sum(axis=0)"
      ],
      "execution_count": null,
      "outputs": [
        {
          "output_type": "execute_result",
          "data": {
            "text/plain": [
              "0"
            ]
          },
          "metadata": {
            "tags": []
          },
          "execution_count": 41
        }
      ]
    },
    {
      "cell_type": "code",
      "metadata": {
        "colab": {
          "base_uri": "https://localhost:8080/"
        },
        "id": "nvJzeHuflCmv",
        "outputId": "b2093082-2e86-4712-a1ae-0051aa82f1fc"
      },
      "source": [
        "cramers_v(train_df.Survived, train_df.Pclass)"
      ],
      "execution_count": null,
      "outputs": [
        {
          "output_type": "execute_result",
          "data": {
            "text/plain": [
              "0.33668387622245516"
            ]
          },
          "metadata": {
            "tags": []
          },
          "execution_count": 42
        }
      ]
    },
    {
      "cell_type": "markdown",
      "metadata": {
        "id": "U4zk_GHguUj1"
      },
      "source": [
        "## **TITLE**"
      ]
    },
    {
      "cell_type": "code",
      "metadata": {
        "colab": {
          "base_uri": "https://localhost:8080/"
        },
        "id": "QgzY2V06lr8f",
        "outputId": "465b3657-0907-4049-f679-a19b8120182a"
      },
      "source": [
        "train_df.Title.isnull().sum(axis=0)"
      ],
      "execution_count": null,
      "outputs": [
        {
          "output_type": "execute_result",
          "data": {
            "text/plain": [
              "0"
            ]
          },
          "metadata": {
            "tags": []
          },
          "execution_count": 43
        }
      ]
    },
    {
      "cell_type": "code",
      "metadata": {
        "colab": {
          "base_uri": "https://localhost:8080/"
        },
        "id": "tNYcRCXDo0he",
        "outputId": "5ff1ad89-5645-462e-d6ac-0729bf3b0dc2"
      },
      "source": [
        "cramers_v(train_df.Survived, train_df.Title)"
      ],
      "execution_count": null,
      "outputs": [
        {
          "output_type": "execute_result",
          "data": {
            "text/plain": [
              "0.5668555996348488"
            ]
          },
          "metadata": {
            "tags": []
          },
          "execution_count": 44
        }
      ]
    },
    {
      "cell_type": "markdown",
      "metadata": {
        "id": "7kTvMnIgub8z"
      },
      "source": [
        "## **SEX**"
      ]
    },
    {
      "cell_type": "code",
      "metadata": {
        "colab": {
          "base_uri": "https://localhost:8080/"
        },
        "id": "t11qybBWo8vM",
        "outputId": "f419f851-1168-4dec-8a59-2a67539bdaf2"
      },
      "source": [
        "train_df.Sex.isnull().sum(axis=0)"
      ],
      "execution_count": null,
      "outputs": [
        {
          "output_type": "execute_result",
          "data": {
            "text/plain": [
              "0"
            ]
          },
          "metadata": {
            "tags": []
          },
          "execution_count": 46
        }
      ]
    },
    {
      "cell_type": "code",
      "metadata": {
        "colab": {
          "base_uri": "https://localhost:8080/"
        },
        "id": "MdDlaqB9pX_E",
        "outputId": "5ddf6afd-0a82-43c3-a7c6-6125414fa158"
      },
      "source": [
        "cramers_v(train_df.Survived, train_df.Sex)"
      ],
      "execution_count": null,
      "outputs": [
        {
          "output_type": "execute_result",
          "data": {
            "text/plain": [
              "0.5401999468101071"
            ]
          },
          "metadata": {
            "tags": []
          },
          "execution_count": 47
        }
      ]
    },
    {
      "cell_type": "markdown",
      "metadata": {
        "id": "T6HnpSclugmD"
      },
      "source": [
        "## **FAMILY**"
      ]
    },
    {
      "cell_type": "code",
      "metadata": {
        "colab": {
          "base_uri": "https://localhost:8080/"
        },
        "id": "8W14gQexsGc3",
        "outputId": "310daf21-2265-431d-a9ec-c83d6d81b2f0"
      },
      "source": [
        "train_df['Family'] = train_df.SibSp + train_df.Parch + 1\n",
        "train_df.Family.value_counts()"
      ],
      "execution_count": null,
      "outputs": [
        {
          "output_type": "execute_result",
          "data": {
            "text/plain": [
              "1     537\n",
              "2     161\n",
              "3     102\n",
              "4      29\n",
              "6      22\n",
              "5      15\n",
              "7      12\n",
              "11      7\n",
              "8       6\n",
              "Name: Family, dtype: int64"
            ]
          },
          "metadata": {
            "tags": []
          },
          "execution_count": 58
        }
      ]
    },
    {
      "cell_type": "code",
      "metadata": {
        "colab": {
          "base_uri": "https://localhost:8080/"
        },
        "id": "1w7S47AI0gY_",
        "outputId": "6f8da67e-a586-4b63-d599-a7622842d373"
      },
      "source": [
        "test_df['Family'] = test_df.SibSp + test_df.Parch + 1\n",
        "test_df.Family.value_counts()"
      ],
      "execution_count": null,
      "outputs": [
        {
          "output_type": "execute_result",
          "data": {
            "text/plain": [
              "1     253\n",
              "2      74\n",
              "3      57\n",
              "4      14\n",
              "5       7\n",
              "11      4\n",
              "7       4\n",
              "6       3\n",
              "8       2\n",
              "Name: Family, dtype: int64"
            ]
          },
          "metadata": {
            "tags": []
          },
          "execution_count": 76
        }
      ]
    },
    {
      "cell_type": "code",
      "metadata": {
        "colab": {
          "base_uri": "https://localhost:8080/"
        },
        "id": "BIzkJ8RNsrcb",
        "outputId": "2fb25ba8-9b6d-44ab-b523-faf82244c321"
      },
      "source": [
        "train_df.Family = pd.cut(train_df.Family, [0,1,4,7,11], labels=['Solo','Small','Big','TooBig'])\n",
        "train_df.Family.value_counts()"
      ],
      "execution_count": null,
      "outputs": [
        {
          "output_type": "execute_result",
          "data": {
            "text/plain": [
              "Solo      537\n",
              "Small     292\n",
              "Big        49\n",
              "TooBig     13\n",
              "Name: Family, dtype: int64"
            ]
          },
          "metadata": {
            "tags": []
          },
          "execution_count": 56
        }
      ]
    },
    {
      "cell_type": "code",
      "metadata": {
        "colab": {
          "base_uri": "https://localhost:8080/"
        },
        "id": "BBxeJbZJ0sWl",
        "outputId": "194d3351-b78b-40e8-e4a1-8eed78be18ab"
      },
      "source": [
        "test_df['Family'] = pd.cut(test_df.Family, [0,1,4,7,11], labels=['Solo','Small','Big','TooBig'])\n",
        "test_df.Family.value_counts()"
      ],
      "execution_count": null,
      "outputs": [
        {
          "output_type": "execute_result",
          "data": {
            "text/plain": [
              "Solo      253\n",
              "Small     145\n",
              "Big        14\n",
              "TooBig      6\n",
              "Name: Family, dtype: int64"
            ]
          },
          "metadata": {
            "tags": []
          },
          "execution_count": 77
        }
      ]
    },
    {
      "cell_type": "code",
      "metadata": {
        "colab": {
          "base_uri": "https://localhost:8080/"
        },
        "id": "wEtE2G0et0XK",
        "outputId": "34e22d69-f661-4f8d-b1f4-f994b2a0a447"
      },
      "source": [
        "cramers_v(train_df.Survived, train_df.Family)"
      ],
      "execution_count": null,
      "outputs": [
        {
          "output_type": "execute_result",
          "data": {
            "text/plain": [
              "0.2857346463065578"
            ]
          },
          "metadata": {
            "tags": []
          },
          "execution_count": 59
        }
      ]
    },
    {
      "cell_type": "markdown",
      "metadata": {
        "id": "6LO1Ng2nyR77"
      },
      "source": [
        "## **TICKET**"
      ]
    },
    {
      "cell_type": "code",
      "metadata": {
        "colab": {
          "base_uri": "https://localhost:8080/"
        },
        "id": "cVHnK3i4xPMd",
        "outputId": "3fc8e906-2253-41fd-90a3-dc5500bcdcee"
      },
      "source": [
        "train_df.Ticket.isnull().sum(axis=0)"
      ],
      "execution_count": null,
      "outputs": [
        {
          "output_type": "execute_result",
          "data": {
            "text/plain": [
              "0"
            ]
          },
          "metadata": {
            "tags": []
          },
          "execution_count": 69
        }
      ]
    },
    {
      "cell_type": "code",
      "metadata": {
        "colab": {
          "base_uri": "https://localhost:8080/"
        },
        "id": "es4EtC6Syx4b",
        "outputId": "209a504a-318c-4d88-cbb7-f7f52e70ec87"
      },
      "source": [
        "train_df.Ticket.value_counts()"
      ],
      "execution_count": null,
      "outputs": [
        {
          "output_type": "execute_result",
          "data": {
            "text/plain": [
              "1601          7\n",
              "CA. 2343      7\n",
              "347082        7\n",
              "347088        6\n",
              "CA 2144       6\n",
              "             ..\n",
              "2623          1\n",
              "A./5. 2152    1\n",
              "350407        1\n",
              "111369        1\n",
              "371362        1\n",
              "Name: Ticket, Length: 681, dtype: int64"
            ]
          },
          "metadata": {
            "tags": []
          },
          "execution_count": 70
        }
      ]
    },
    {
      "cell_type": "code",
      "metadata": {
        "colab": {
          "base_uri": "https://localhost:8080/"
        },
        "id": "_R8kQlUry27R",
        "outputId": "d7b88586-aa67-407f-eb1f-28af7888d3d4"
      },
      "source": [
        "train_df.Ticket = train_df.Ticket.apply(lambda x : x[0])\n",
        "train_df.Ticket.value_counts()"
      ],
      "execution_count": null,
      "outputs": [
        {
          "output_type": "execute_result",
          "data": {
            "text/plain": [
              "3    301\n",
              "2    183\n",
              "1    146\n",
              "P     65\n",
              "S     65\n",
              "C     47\n",
              "A     29\n",
              "W     13\n",
              "4     10\n",
              "7      9\n",
              "F      7\n",
              "6      6\n",
              "L      4\n",
              "5      3\n",
              "8      2\n",
              "9      1\n",
              "Name: Ticket, dtype: int64"
            ]
          },
          "metadata": {
            "tags": []
          },
          "execution_count": 71
        }
      ]
    },
    {
      "cell_type": "code",
      "metadata": {
        "colab": {
          "base_uri": "https://localhost:8080/"
        },
        "id": "du6S4DUz2yGP",
        "outputId": "47c3487d-3456-47ba-8b30-ebeae34146c9"
      },
      "source": [
        "test_df.Ticket = test_df.Ticket.apply(lambda x : x[0])\n",
        "test_df.Ticket.value_counts()"
      ],
      "execution_count": null,
      "outputs": [
        {
          "output_type": "execute_result",
          "data": {
            "text/plain": [
              "3    128\n",
              "2     95\n",
              "1     64\n",
              "P     33\n",
              "S     33\n",
              "C     30\n",
              "A     13\n",
              "W      6\n",
              "F      6\n",
              "7      4\n",
              "6      3\n",
              "9      1\n",
              "4      1\n",
              "L      1\n",
              "Name: Ticket, dtype: int64"
            ]
          },
          "metadata": {
            "tags": []
          },
          "execution_count": 88
        }
      ]
    },
    {
      "cell_type": "code",
      "metadata": {
        "colab": {
          "base_uri": "https://localhost:8080/"
        },
        "id": "3iOccf-0zG1r",
        "outputId": "5795d3f9-4e6a-4dca-ef66-b79905cfbfaa"
      },
      "source": [
        "cramers_v(train_df.Survived, train_df.Ticket)"
      ],
      "execution_count": null,
      "outputs": [
        {
          "output_type": "execute_result",
          "data": {
            "text/plain": [
              "0.3368277080379243"
            ]
          },
          "metadata": {
            "tags": []
          },
          "execution_count": 72
        }
      ]
    },
    {
      "cell_type": "markdown",
      "metadata": {
        "id": "WNOLpY3dvHIG"
      },
      "source": [
        "## **FARE**"
      ]
    },
    {
      "cell_type": "code",
      "metadata": {
        "colab": {
          "base_uri": "https://localhost:8080/"
        },
        "id": "MtOOQn91pgII",
        "outputId": "7bd2021c-5787-4e57-f032-16437e60b46c"
      },
      "source": [
        "train_df.Fare.isnull().sum(axis=0)"
      ],
      "execution_count": null,
      "outputs": [
        {
          "output_type": "execute_result",
          "data": {
            "text/plain": [
              "0"
            ]
          },
          "metadata": {
            "tags": []
          },
          "execution_count": 60
        }
      ]
    },
    {
      "cell_type": "code",
      "metadata": {
        "colab": {
          "base_uri": "https://localhost:8080/"
        },
        "id": "SM3Xbwqc0-d8",
        "outputId": "08d5488c-8de9-4fb1-89f0-4eba199a9086"
      },
      "source": [
        "test_df.Fare.isnull().sum(axis=0)"
      ],
      "execution_count": null,
      "outputs": [
        {
          "output_type": "execute_result",
          "data": {
            "text/plain": [
              "1"
            ]
          },
          "metadata": {
            "tags": []
          },
          "execution_count": 78
        }
      ]
    },
    {
      "cell_type": "code",
      "metadata": {
        "colab": {
          "base_uri": "https://localhost:8080/"
        },
        "id": "LoacrEvo1gxr",
        "outputId": "dea28f63-95ab-47f6-c261-b462e8c07cc5"
      },
      "source": [
        "cramers_v(train_df.Fare, train_df.Embarked)"
      ],
      "execution_count": null,
      "outputs": [
        {
          "output_type": "execute_result",
          "data": {
            "text/plain": [
              "0.7983506279145837"
            ]
          },
          "metadata": {
            "tags": []
          },
          "execution_count": 84
        }
      ]
    },
    {
      "cell_type": "code",
      "metadata": {
        "colab": {
          "base_uri": "https://localhost:8080/"
        },
        "id": "PImCiW8_1qZG",
        "outputId": "c446b4e8-b8bf-418b-efde-98af1ff5cfdc"
      },
      "source": [
        "cramers_v(train_df.Fare, train_df.Pclass)"
      ],
      "execution_count": null,
      "outputs": [
        {
          "output_type": "execute_result",
          "data": {
            "text/plain": [
              "0.8226552735806314"
            ]
          },
          "metadata": {
            "tags": []
          },
          "execution_count": 83
        }
      ]
    },
    {
      "cell_type": "code",
      "metadata": {
        "colab": {
          "base_uri": "https://localhost:8080/"
        },
        "id": "9jER-Bax1v6f",
        "outputId": "4ccec177-af8c-4182-c74d-9de6eab4eb10"
      },
      "source": [
        "cramers_v(train_df.Fare, train_df.Ticket)"
      ],
      "execution_count": null,
      "outputs": [
        {
          "output_type": "execute_result",
          "data": {
            "text/plain": [
              "0.627651312368573"
            ]
          },
          "metadata": {
            "tags": []
          },
          "execution_count": 85
        }
      ]
    },
    {
      "cell_type": "code",
      "metadata": {
        "colab": {
          "base_uri": "https://localhost:8080/"
        },
        "id": "A7U0VpV01KNg",
        "outputId": "2cd34253-52b5-46b6-ec57-85ee7843b9f2"
      },
      "source": [
        "test_df.Embarked.loc[test_df.Fare.isnull()]"
      ],
      "execution_count": null,
      "outputs": [
        {
          "output_type": "execute_result",
          "data": {
            "text/plain": [
              "152    S\n",
              "Name: Embarked, dtype: object"
            ]
          },
          "metadata": {
            "tags": []
          },
          "execution_count": 79
        }
      ]
    },
    {
      "cell_type": "code",
      "metadata": {
        "colab": {
          "base_uri": "https://localhost:8080/"
        },
        "id": "b8oIiZ-t2aAv",
        "outputId": "ff20884a-cf79-4a2b-be2c-3a0ce6d8750a"
      },
      "source": [
        "test_df.Pclass.loc[test_df.Fare.isnull()]"
      ],
      "execution_count": null,
      "outputs": [
        {
          "output_type": "execute_result",
          "data": {
            "text/plain": [
              "152    3\n",
              "Name: Pclass, dtype: int64"
            ]
          },
          "metadata": {
            "tags": []
          },
          "execution_count": 86
        }
      ]
    },
    {
      "cell_type": "code",
      "metadata": {
        "colab": {
          "base_uri": "https://localhost:8080/"
        },
        "id": "X_JywGov2jux",
        "outputId": "c1c445f5-1e37-4cc3-a25b-bcbafb75cdf5"
      },
      "source": [
        "test_df.Ticket.loc[test_df.Fare.isnull()]"
      ],
      "execution_count": null,
      "outputs": [
        {
          "output_type": "execute_result",
          "data": {
            "text/plain": [
              "152    3\n",
              "Name: Ticket, dtype: object"
            ]
          },
          "metadata": {
            "tags": []
          },
          "execution_count": 89
        }
      ]
    },
    {
      "cell_type": "code",
      "metadata": {
        "id": "rQOHABng1bEV"
      },
      "source": [
        "guess_Fare = test_df.Fare.loc[ (test_df.Ticket == '3') & (test_df.Pclass == 3) & (test_df.Embarked == 'S')].median()"
      ],
      "execution_count": null,
      "outputs": []
    },
    {
      "cell_type": "code",
      "metadata": {
        "id": "u1imqC6E3EZ-"
      },
      "source": [
        "test_df.Fare.fillna(guess_Fare , inplace=True)"
      ],
      "execution_count": null,
      "outputs": []
    },
    {
      "cell_type": "code",
      "metadata": {
        "colab": {
          "base_uri": "https://localhost:8080/"
        },
        "id": "SU0bCeqLr7ew",
        "outputId": "4efc5b42-9e6e-4ffc-cbcf-feff2a12bb5b"
      },
      "source": [
        "train_df.Fare.value_counts()"
      ],
      "execution_count": null,
      "outputs": [
        {
          "output_type": "execute_result",
          "data": {
            "text/plain": [
              "8.0500     43\n",
              "13.0000    42\n",
              "7.8958     38\n",
              "7.7500     34\n",
              "26.0000    31\n",
              "           ..\n",
              "8.4583      1\n",
              "9.8375      1\n",
              "8.3625      1\n",
              "14.1083     1\n",
              "17.4000     1\n",
              "Name: Fare, Length: 248, dtype: int64"
            ]
          },
          "metadata": {
            "tags": []
          },
          "execution_count": 61
        }
      ]
    },
    {
      "cell_type": "markdown",
      "metadata": {
        "id": "hA86YRSTvuHa"
      },
      "source": [
        "## **EMBARKED**"
      ]
    },
    {
      "cell_type": "code",
      "metadata": {
        "colab": {
          "base_uri": "https://localhost:8080/"
        },
        "id": "VKK8xy6vvfvU",
        "outputId": "86365874-2bff-4367-9ac7-9c6de5324fb7"
      },
      "source": [
        "train_df.Embarked.isnull().sum(axis=0)"
      ],
      "execution_count": null,
      "outputs": [
        {
          "output_type": "execute_result",
          "data": {
            "text/plain": [
              "2"
            ]
          },
          "metadata": {
            "tags": []
          },
          "execution_count": 62
        }
      ]
    },
    {
      "cell_type": "code",
      "metadata": {
        "colab": {
          "base_uri": "https://localhost:8080/"
        },
        "id": "uFHWGaNSv10a",
        "outputId": "5daa05bc-df79-4413-d54d-36d0167e403f"
      },
      "source": [
        "train_df.Embarked.value_counts()"
      ],
      "execution_count": null,
      "outputs": [
        {
          "output_type": "execute_result",
          "data": {
            "text/plain": [
              "S    644\n",
              "C    168\n",
              "Q     77\n",
              "Name: Embarked, dtype: int64"
            ]
          },
          "metadata": {
            "tags": []
          },
          "execution_count": 63
        }
      ]
    },
    {
      "cell_type": "code",
      "metadata": {
        "id": "CGWg--Qjv8Vk"
      },
      "source": [
        "train_df.Embarked.fillna('S',inplace=True)"
      ],
      "execution_count": null,
      "outputs": []
    },
    {
      "cell_type": "code",
      "metadata": {
        "colab": {
          "base_uri": "https://localhost:8080/"
        },
        "id": "bHmTtT8g3Ni3",
        "outputId": "754ee9d0-1f50-43c6-e457-8eb99e01733b"
      },
      "source": [
        "test_df.Embarked.isnull().sum(axis=0)"
      ],
      "execution_count": null,
      "outputs": [
        {
          "output_type": "execute_result",
          "data": {
            "text/plain": [
              "0"
            ]
          },
          "metadata": {
            "tags": []
          },
          "execution_count": 93
        }
      ]
    },
    {
      "cell_type": "code",
      "metadata": {
        "colab": {
          "base_uri": "https://localhost:8080/"
        },
        "id": "u2N_GxTCwVkx",
        "outputId": "ba0947f6-20ed-4e3c-9f4a-96c6e53429c9"
      },
      "source": [
        "cramers_v(train_df.Survived, train_df.Embarked)"
      ],
      "execution_count": null,
      "outputs": [
        {
          "output_type": "execute_result",
          "data": {
            "text/plain": [
              "0.16408491889698326"
            ]
          },
          "metadata": {
            "tags": []
          },
          "execution_count": 65
        }
      ]
    },
    {
      "cell_type": "code",
      "metadata": {
        "colab": {
          "base_uri": "https://localhost:8080/"
        },
        "id": "Co9D5Hx_wgWf",
        "outputId": "d213e642-b96c-418d-b3bf-9e72577fc6ea"
      },
      "source": [
        "cramers_v(train_df.Embarked,train_df.Fare)"
      ],
      "execution_count": null,
      "outputs": [
        {
          "output_type": "execute_result",
          "data": {
            "text/plain": [
              "0.7983506279145837"
            ]
          },
          "metadata": {
            "tags": []
          },
          "execution_count": 67
        }
      ]
    },
    {
      "cell_type": "markdown",
      "metadata": {
        "id": "1MY0WkVuxGyD"
      },
      "source": [
        "## **CABIN**"
      ]
    },
    {
      "cell_type": "code",
      "metadata": {
        "colab": {
          "base_uri": "https://localhost:8080/"
        },
        "id": "RvX9Xl69w2Ot",
        "outputId": "60b5f040-a906-475b-f442-b485197b9f3a"
      },
      "source": [
        "train_df.Cabin.isnull().sum(axis=0)"
      ],
      "execution_count": null,
      "outputs": [
        {
          "output_type": "execute_result",
          "data": {
            "text/plain": [
              "687"
            ]
          },
          "metadata": {
            "tags": []
          },
          "execution_count": 68
        }
      ]
    },
    {
      "cell_type": "markdown",
      "metadata": {
        "id": "r-iDBe28ziLN"
      },
      "source": [
        "## **AGE**"
      ]
    },
    {
      "cell_type": "code",
      "metadata": {
        "colab": {
          "base_uri": "https://localhost:8080/"
        },
        "id": "xdNkWMPZzTI_",
        "outputId": "9c2fa2b4-ab46-4beb-975e-91c36f1b6aaa"
      },
      "source": [
        "train_df.Age.isnull().sum(axis=0)"
      ],
      "execution_count": null,
      "outputs": [
        {
          "output_type": "execute_result",
          "data": {
            "text/plain": [
              "177"
            ]
          },
          "metadata": {
            "tags": []
          },
          "execution_count": 73
        }
      ]
    },
    {
      "cell_type": "code",
      "metadata": {
        "colab": {
          "base_uri": "https://localhost:8080/"
        },
        "id": "90aD7AP0z12x",
        "outputId": "a5f0b90f-c5e0-402d-ceec-83d29457c441"
      },
      "source": [
        "cramers_v(train_df.Survived, train_df.Age)"
      ],
      "execution_count": null,
      "outputs": [
        {
          "output_type": "execute_result",
          "data": {
            "text/plain": [
              "0.15456614283818954"
            ]
          },
          "metadata": {
            "tags": []
          },
          "execution_count": 74
        }
      ]
    },
    {
      "cell_type": "code",
      "metadata": {
        "colab": {
          "base_uri": "https://localhost:8080/"
        },
        "id": "_yqRvCiW0EMg",
        "outputId": "5ab0e220-c355-46b1-c71c-b468e02b1b25"
      },
      "source": [
        "cramers_v(train_df.Age, train_df.Title)"
      ],
      "execution_count": null,
      "outputs": [
        {
          "output_type": "execute_result",
          "data": {
            "text/plain": [
              "0.37804028105785936"
            ]
          },
          "metadata": {
            "tags": []
          },
          "execution_count": 94
        }
      ]
    },
    {
      "cell_type": "code",
      "metadata": {
        "colab": {
          "base_uri": "https://localhost:8080/"
        },
        "id": "Tq0dgXVe35Im",
        "outputId": "49f1925e-4c0f-407f-bc5e-bc46d761ea37"
      },
      "source": [
        "cramers_v(train_df.Age, train_df.Fare)"
      ],
      "execution_count": null,
      "outputs": [
        {
          "output_type": "execute_result",
          "data": {
            "text/plain": [
              "0.14462120455817193"
            ]
          },
          "metadata": {
            "tags": []
          },
          "execution_count": 95
        }
      ]
    },
    {
      "cell_type": "code",
      "metadata": {
        "colab": {
          "base_uri": "https://localhost:8080/"
        },
        "id": "-T9Atqva4FNd",
        "outputId": "4afd9632-e68e-4862-c55c-0cdf28472e3b"
      },
      "source": [
        "cramers_v(train_df.Age, train_df.Family)"
      ],
      "execution_count": null,
      "outputs": [
        {
          "output_type": "execute_result",
          "data": {
            "text/plain": [
              "0.21087848875019624"
            ]
          },
          "metadata": {
            "tags": []
          },
          "execution_count": 96
        }
      ]
    },
    {
      "cell_type": "code",
      "metadata": {
        "colab": {
          "base_uri": "https://localhost:8080/"
        },
        "id": "yGWvH8aF4PjW",
        "outputId": "32755386-d9f2-426b-e0f4-83bb81a068c9"
      },
      "source": [
        "cramers_v(train_df.Age, train_df.Pclass)"
      ],
      "execution_count": null,
      "outputs": [
        {
          "output_type": "execute_result",
          "data": {
            "text/plain": [
              "0.2778415721999506"
            ]
          },
          "metadata": {
            "tags": []
          },
          "execution_count": 97
        }
      ]
    },
    {
      "cell_type": "code",
      "metadata": {
        "colab": {
          "base_uri": "https://localhost:8080/"
        },
        "id": "yzhOMeIl4WYl",
        "outputId": "23153c08-f629-43f9-e958-be6ee1043ae5"
      },
      "source": [
        "cramers_v(train_df.Age, train_df.Parch)"
      ],
      "execution_count": null,
      "outputs": [
        {
          "output_type": "execute_result",
          "data": {
            "text/plain": [
              "0.2660040032906386"
            ]
          },
          "metadata": {
            "tags": []
          },
          "execution_count": 101
        }
      ]
    },
    {
      "cell_type": "code",
      "metadata": {
        "colab": {
          "base_uri": "https://localhost:8080/"
        },
        "id": "iz72wpjN4oI1",
        "outputId": "fb789baf-4201-46df-e341-9015b69273ae"
      },
      "source": [
        "cramers_v(train_df.Age, train_df.SibSp)"
      ],
      "execution_count": null,
      "outputs": [
        {
          "output_type": "execute_result",
          "data": {
            "text/plain": [
              "0.22831559036973606"
            ]
          },
          "metadata": {
            "tags": []
          },
          "execution_count": 102
        }
      ]
    },
    {
      "cell_type": "markdown",
      "metadata": {
        "id": "fCEzHjL99tuf"
      },
      "source": [
        "## **Model**"
      ]
    },
    {
      "cell_type": "code",
      "metadata": {
        "id": "hDYBSG5J7wj5"
      },
      "source": [
        "features = ['Pclass', 'Sex', 'Title', 'Family', 'Ticket','Age','Fare','Embarked']\n",
        "X_train = train_df[features]\n",
        "y_train = train_df.Survived"
      ],
      "execution_count": null,
      "outputs": []
    },
    {
      "cell_type": "code",
      "metadata": {
        "id": "GqALARgN-u6E"
      },
      "source": [
        "from sklearn.preprocessing import OneHotEncoder\n",
        "from sklearn.impute import SimpleImputer\n",
        "from sklearn.compose import ColumnTransformer\n",
        "from sklearn.pipeline import Pipeline\n",
        "from sklearn.ensemble import RandomForestRegressor\n",
        "from sklearn.model_selection import cross_val_score"
      ],
      "execution_count": null,
      "outputs": []
    },
    {
      "cell_type": "code",
      "metadata": {
        "colab": {
          "base_uri": "https://localhost:8080/"
        },
        "id": "zQWlUPmm-9tg",
        "outputId": "96eaa5c9-3624-4777-8106-7c588e619ddb"
      },
      "source": [
        "numerical_cols = ['Fare','Age']\n",
        "categorical_cols = ['Pclass', 'Sex', 'Title', 'Family', 'Ticket','Embarked']\n",
        "\n",
        "numerical_transformer = SimpleImputer(strategy='median')\n",
        "categorical_transformer = Pipeline(steps=[\n",
        "    ('onehot', OneHotEncoder(handle_unknown='ignore'))\n",
        "])\n",
        "\n",
        "preprocessor = ColumnTransformer(\n",
        "    transformers=[\n",
        "        ('num', numerical_transformer, numerical_cols),\n",
        "        ('cat', categorical_transformer, categorical_cols)\n",
        "    ])\n",
        "rfc = Pipeline(steps=[\n",
        "    ('preprocessor', preprocessor),\n",
        "    ('model', RandomForestClassifier(random_state=0, n_estimators=2000, max_depth=5))\n",
        "])\n",
        "rfc.fit(X_train,y_train)\n",
        "print(cross_val_score(rfc, X_train, y_train, cv=20).mean())"
      ],
      "execution_count": null,
      "outputs": [
        {
          "output_type": "stream",
          "text": [
            "0.8237121212121211\n"
          ],
          "name": "stdout"
        }
      ]
    },
    {
      "cell_type": "code",
      "metadata": {
        "colab": {
          "base_uri": "https://localhost:8080/"
        },
        "id": "A37iEurZJDEm",
        "outputId": "0c716072-14d2-466d-d902-2577fc57bf59"
      },
      "source": [
        "from xgboost import XGBClassifier\n",
        "xgb = Pipeline(steps=[\n",
        "    ('preprocessor', preprocessor),\n",
        "    ('model', XGBClassifier(n_estimators= 10000, max_depth= 4, min_child_weight= 2, gamma=0.9, subsample=0.8,\n",
        "                            colsample_bytree=0.8, objective= 'binary:logistic', nthread= -1, scale_pos_weight=1))\n",
        "])\n",
        "\n",
        "xgb.fit(X_train,y_train)\n",
        "\n",
        "print('Cross validation score: {:.3f}'.format(cross_val_score(xgb, X_train, y_train, cv=20).mean()))"
      ],
      "execution_count": null,
      "outputs": [
        {
          "output_type": "stream",
          "text": [
            "Cross validation score: 0.818\n"
          ],
          "name": "stdout"
        }
      ]
    },
    {
      "cell_type": "code",
      "metadata": {
        "colab": {
          "base_uri": "https://localhost:8080/",
          "height": 204
        },
        "id": "vPtcqQ1EBdYk",
        "outputId": "2fb56962-4018-4f7a-88c4-cbc4afc672d8"
      },
      "source": [
        "X_test = test_df[features]\n",
        "X_test.head()"
      ],
      "execution_count": null,
      "outputs": [
        {
          "output_type": "execute_result",
          "data": {
            "text/html": [
              "<div>\n",
              "<style scoped>\n",
              "    .dataframe tbody tr th:only-of-type {\n",
              "        vertical-align: middle;\n",
              "    }\n",
              "\n",
              "    .dataframe tbody tr th {\n",
              "        vertical-align: top;\n",
              "    }\n",
              "\n",
              "    .dataframe thead th {\n",
              "        text-align: right;\n",
              "    }\n",
              "</style>\n",
              "<table border=\"1\" class=\"dataframe\">\n",
              "  <thead>\n",
              "    <tr style=\"text-align: right;\">\n",
              "      <th></th>\n",
              "      <th>Pclass</th>\n",
              "      <th>Sex</th>\n",
              "      <th>Title</th>\n",
              "      <th>Family</th>\n",
              "      <th>Ticket</th>\n",
              "      <th>Age</th>\n",
              "      <th>Fare</th>\n",
              "      <th>Embarked</th>\n",
              "    </tr>\n",
              "  </thead>\n",
              "  <tbody>\n",
              "    <tr>\n",
              "      <th>0</th>\n",
              "      <td>3</td>\n",
              "      <td>male</td>\n",
              "      <td>Mr</td>\n",
              "      <td>Solo</td>\n",
              "      <td>3</td>\n",
              "      <td>34.5</td>\n",
              "      <td>7.8292</td>\n",
              "      <td>Q</td>\n",
              "    </tr>\n",
              "    <tr>\n",
              "      <th>1</th>\n",
              "      <td>3</td>\n",
              "      <td>female</td>\n",
              "      <td>Mrs</td>\n",
              "      <td>Small</td>\n",
              "      <td>3</td>\n",
              "      <td>47.0</td>\n",
              "      <td>7.0000</td>\n",
              "      <td>S</td>\n",
              "    </tr>\n",
              "    <tr>\n",
              "      <th>2</th>\n",
              "      <td>2</td>\n",
              "      <td>male</td>\n",
              "      <td>Mr</td>\n",
              "      <td>Solo</td>\n",
              "      <td>2</td>\n",
              "      <td>62.0</td>\n",
              "      <td>9.6875</td>\n",
              "      <td>Q</td>\n",
              "    </tr>\n",
              "    <tr>\n",
              "      <th>3</th>\n",
              "      <td>3</td>\n",
              "      <td>male</td>\n",
              "      <td>Mr</td>\n",
              "      <td>Solo</td>\n",
              "      <td>3</td>\n",
              "      <td>27.0</td>\n",
              "      <td>8.6625</td>\n",
              "      <td>S</td>\n",
              "    </tr>\n",
              "    <tr>\n",
              "      <th>4</th>\n",
              "      <td>3</td>\n",
              "      <td>female</td>\n",
              "      <td>Mrs</td>\n",
              "      <td>Small</td>\n",
              "      <td>3</td>\n",
              "      <td>22.0</td>\n",
              "      <td>12.2875</td>\n",
              "      <td>S</td>\n",
              "    </tr>\n",
              "  </tbody>\n",
              "</table>\n",
              "</div>"
            ],
            "text/plain": [
              "   Pclass     Sex Title Family Ticket   Age     Fare Embarked\n",
              "0       3    male    Mr   Solo      3  34.5   7.8292        Q\n",
              "1       3  female   Mrs  Small      3  47.0   7.0000        S\n",
              "2       2    male    Mr   Solo      2  62.0   9.6875        Q\n",
              "3       3    male    Mr   Solo      3  27.0   8.6625        S\n",
              "4       3  female   Mrs  Small      3  22.0  12.2875        S"
            ]
          },
          "metadata": {
            "tags": []
          },
          "execution_count": 189
        }
      ]
    },
    {
      "cell_type": "code",
      "metadata": {
        "id": "CtbdQaRqDA5E"
      },
      "source": [
        "predictions = rfc.predict(X_test)"
      ],
      "execution_count": null,
      "outputs": []
    },
    {
      "cell_type": "code",
      "metadata": {
        "id": "W0rleV4xDKXK"
      },
      "source": [
        "output = pd.DataFrame({'PassengerId': test_df.PassengerId, 'Survived': predictions})\n",
        "output.to_csv('my_submission.csv', index=False)"
      ],
      "execution_count": null,
      "outputs": []
    },
    {
      "cell_type": "code",
      "metadata": {
        "colab": {
          "base_uri": "https://localhost:8080/"
        },
        "id": "71U6rkThDMxz",
        "outputId": "9c77d579-8b7b-4133-a02d-69d45f2b7515"
      },
      "source": [
        "!kaggle competitions submit -c titanic -f my_submission.csv -m \"Tf\""
      ],
      "execution_count": null,
      "outputs": [
        {
          "output_type": "stream",
          "text": [
            "Warning: Looks like you're using an outdated API Version, please consider updating (server 1.5.12 / client 1.5.4)\n",
            "100% 2.77k/2.77k [00:02<00:00, 1.31kB/s]\n",
            "403 - Your team has used its submission allowance (10 of 10). This resets at midnight UTC (13 hours from now).\n"
          ],
          "name": "stdout"
        }
      ]
    },
    {
      "cell_type": "code",
      "metadata": {
        "id": "pkC10mGTDR7a"
      },
      "source": [],
      "execution_count": null,
      "outputs": []
    }
  ]
}